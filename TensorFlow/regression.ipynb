{
 "cells": [
  {
   "cell_type": "code",
   "execution_count": 240,
   "metadata": {},
   "outputs": [
    {
     "data": {
      "text/plain": [
       "'2.9.1'"
      ]
     },
     "execution_count": 240,
     "metadata": {},
     "output_type": "execute_result"
    }
   ],
   "source": [
    "import tensorflow as tf\n",
    "tf.__version__"
   ]
  },
  {
   "attachments": {},
   "cell_type": "markdown",
   "metadata": {},
   "source": [
    "Creating data to view and fit"
   ]
  },
  {
   "cell_type": "code",
   "execution_count": 241,
   "metadata": {},
   "outputs": [],
   "source": [
    "\n",
    "import numpy as np\n",
    "import matplotlib.pyplot as plt\n",
    "\n",
    "#create features\n",
    "X=np.array([-10,-5,0,5,10])\n",
    "\n",
    "#create labels\n",
    "y=np.array([-12,-7,-2,3,8])"
   ]
  },
  {
   "cell_type": "code",
   "execution_count": 242,
   "metadata": {},
   "outputs": [
    {
     "data": {
      "text/plain": [
       "<matplotlib.collections.PathCollection at 0x1a9a3028d00>"
      ]
     },
     "execution_count": 242,
     "metadata": {},
     "output_type": "execute_result"
    },
    {
     "data": {
      "image/png": "[encoded data removed]",
      "text/plain": [
       "<Figure size 640x480 with 1 Axes>"
      ]
     },
     "metadata": {},
     "output_type": "display_data"
    }
   ],
   "source": [
    "plt.scatter(X,y)"
   ]
  },
  {
   "cell_type": "code",
   "execution_count": 243,
   "metadata": {},
   "outputs": [
    {
     "data": {
      "text/plain": [
       "array([ True,  True,  True,  True,  True])"
      ]
     },
     "execution_count": 243,
     "metadata": {},
     "output_type": "execute_result"
    }
   ],
   "source": [
    "y==X-2"
   ]
  },
  {
   "attachments": {},
   "cell_type": "markdown",
   "metadata": {},
   "source": [
    "Input & Output Shapes"
   ]
  },
  {
   "cell_type": "code",
   "execution_count": 244,
   "metadata": {},
   "outputs": [
    {
     "data": {
      "text/plain": [
       "(<tf.Tensor: shape=(5,), dtype=float32, numpy=array([-10.,  -5.,   0.,   5.,  10.], dtype=float32)>,\n",
       " <tf.Tensor: shape=(5,), dtype=float32, numpy=array([-12.,  -7.,  -2.,   3.,   8.], dtype=float32)>)"
      ]
     },
     "execution_count": 244,
     "metadata": {},
     "output_type": "execute_result"
    }
   ],
   "source": [
    "#convert np array into tensors\n",
    "X=tf.cast(tf.constant(X), dtype=tf.float32)\n",
    "y=tf.cast(tf.constant(y), dtype=tf.float32)\n",
    "X,y\n"
   ]
  },
  {
   "attachments": {},
   "cell_type": "markdown",
   "metadata": {},
   "source": [
    "Modelling"
   ]
  },
  {
   "cell_type": "code",
   "execution_count": 245,
   "metadata": {},
   "outputs": [],
   "source": [
    "#set random seed\n",
    "tf.random.set_seed(100)"
   ]
  },
  {
   "cell_type": "code",
   "execution_count": 246,
   "metadata": {},
   "outputs": [],
   "source": [
    "#create a model sequentially\n",
    "model=tf.keras.Sequential()\n",
    "model.add(tf.keras.layers.Dense(1))"
   ]
  },
  {
   "cell_type": "code",
   "execution_count": 247,
   "metadata": {},
   "outputs": [],
   "source": [
    "#compile the model\n",
    "model.compile(loss=tf.keras.losses.mae,\n",
    "              optimizer=tf.keras.optimizers.SGD(),\n",
    "              metrics=['mae'])\n"
   ]
  },
  {
   "cell_type": "code",
   "execution_count": 248,
   "metadata": {},
   "outputs": [
    {
     "name": "stdout",
     "output_type": "stream",
     "text": [
      "Epoch 1/30\n",
      "1/1 [==============================] - 1s 1s/step - loss: 11.6169 - mae: 11.6169\n",
      "Epoch 2/30\n",
      "1/1 [==============================] - 0s 16ms/step - loss: 11.2565 - mae: 11.2565\n",
      "Epoch 3/30\n",
      "1/1 [==============================] - 0s 17ms/step - loss: 10.8961 - mae: 10.8961\n",
      "Epoch 4/30\n",
      "1/1 [==============================] - 0s 9ms/step - loss: 10.5357 - mae: 10.5357\n",
      "Epoch 5/30\n",
      "1/1 [==============================] - 0s 11ms/step - loss: 10.1753 - mae: 10.1753\n",
      "Epoch 6/30\n",
      "1/1 [==============================] - 0s 12ms/step - loss: 9.8149 - mae: 9.8149\n",
      "Epoch 7/30\n",
      "1/1 [==============================] - 0s 11ms/step - loss: 9.4545 - mae: 9.4545\n",
      "Epoch 8/30\n",
      "1/1 [==============================] - 0s 13ms/step - loss: 9.0941 - mae: 9.0941\n",
      "Epoch 9/30\n",
      "1/1 [==============================] - 0s 17ms/step - loss: 8.7337 - mae: 8.7337\n",
      "Epoch 10/30\n",
      "1/1 [==============================] - 0s 13ms/step - loss: 8.3733 - mae: 8.3733\n",
      "Epoch 11/30\n",
      "1/1 [==============================] - 0s 12ms/step - loss: 8.0129 - mae: 8.0129\n",
      "Epoch 12/30\n",
      "1/1 [==============================] - 0s 12ms/step - loss: 7.6525 - mae: 7.6525\n",
      "Epoch 13/30\n",
      "1/1 [==============================] - 0s 12ms/step - loss: 7.2921 - mae: 7.2921\n",
      "Epoch 14/30\n",
      "1/1 [==============================] - 0s 9ms/step - loss: 6.9317 - mae: 6.9317\n",
      "Epoch 15/30\n",
      "1/1 [==============================] - 0s 9ms/step - loss: 6.5713 - mae: 6.5713\n",
      "Epoch 16/30\n",
      "1/1 [==============================] - 0s 13ms/step - loss: 6.2109 - mae: 6.2109\n",
      "Epoch 17/30\n",
      "1/1 [==============================] - 0s 15ms/step - loss: 5.8505 - mae: 5.8505\n",
      "Epoch 18/30\n",
      "1/1 [==============================] - 0s 15ms/step - loss: 5.4901 - mae: 5.4901\n",
      "Epoch 19/30\n",
      "1/1 [==============================] - 0s 10ms/step - loss: 5.1297 - mae: 5.1297\n",
      "Epoch 20/30\n",
      "1/1 [==============================] - 0s 17ms/step - loss: 4.7693 - mae: 4.7693\n",
      "Epoch 21/30\n",
      "1/1 [==============================] - 0s 18ms/step - loss: 4.4089 - mae: 4.4089\n",
      "Epoch 22/30\n",
      "1/1 [==============================] - 0s 8ms/step - loss: 4.0485 - mae: 4.0485\n",
      "Epoch 23/30\n",
      "1/1 [==============================] - 0s 9ms/step - loss: 3.6881 - mae: 3.6881\n",
      "Epoch 24/30\n",
      "1/1 [==============================] - 0s 20ms/step - loss: 3.3277 - mae: 3.3277\n",
      "Epoch 25/30\n",
      "1/1 [==============================] - 0s 10ms/step - loss: 2.9673 - mae: 2.9673\n",
      "Epoch 26/30\n",
      "1/1 [==============================] - 0s 8ms/step - loss: 2.6480 - mae: 2.6480\n",
      "Epoch 27/30\n",
      "1/1 [==============================] - 0s 12ms/step - loss: 2.4844 - mae: 2.4844\n",
      "Epoch 28/30\n",
      "1/1 [==============================] - 0s 12ms/step - loss: 2.3207 - mae: 2.3207\n",
      "Epoch 29/30\n",
      "1/1 [==============================] - 0s 10ms/step - loss: 2.1572 - mae: 2.1572\n",
      "Epoch 30/30\n",
      "1/1 [==============================] - 0s 19ms/step - loss: 1.9935 - mae: 1.9935\n"
     ]
    },
    {
     "data": {
      "text/plain": [
       "<keras.callbacks.History at 0x1a9a3061c00>"
      ]
     },
     "execution_count": 248,
     "metadata": {},
     "output_type": "execute_result"
    }
   ],
   "source": [
    "#fit the model\n",
    "model.fit(tf.expand_dims(X,axis=-1),y,epochs=30)"
   ]
  },
  {
   "cell_type": "code",
   "execution_count": 249,
   "metadata": {},
   "outputs": [
    {
     "name": "stdout",
     "output_type": "stream",
     "text": [
      "1/1 [==============================] - 0s 377ms/step\n"
     ]
    },
    {
     "data": {
      "text/plain": [
       "array([[4.0725627]], dtype=float32)"
      ]
     },
     "execution_count": 249,
     "metadata": {},
     "output_type": "execute_result"
    }
   ],
   "source": [
    "model.predict([5])"
   ]
  },
  {
   "attachments": {},
   "cell_type": "markdown",
   "metadata": {},
   "source": [
    "Improving the model"
   ]
  },
  {
   "cell_type": "code",
   "execution_count": 250,
   "metadata": {},
   "outputs": [],
   "source": [
    "model.add(tf.keras.layers.Dense(1))\n",
    "model.add(tf.keras.layers.Dropout(0.3))\n",
    "model.compile(loss=tf.keras.losses.mae,\n",
    "              optimizer=tf.keras.optimizers.SGD(),\n",
    "              metrics=['mae'])"
   ]
  },
  {
   "cell_type": "code",
   "execution_count": 251,
   "metadata": {},
   "outputs": [
    {
     "name": "stdout",
     "output_type": "stream",
     "text": [
      "Epoch 1/30\n",
      "1/1 [==============================] - 2s 2s/step - loss: 2.9179 - mae: 2.9179\n",
      "Epoch 2/30\n",
      "1/1 [==============================] - 0s 12ms/step - loss: 2.7886 - mae: 2.7886\n",
      "Epoch 3/30\n",
      "1/1 [==============================] - 0s 11ms/step - loss: 5.5989 - mae: 5.5989\n",
      "Epoch 4/30\n",
      "1/1 [==============================] - 0s 14ms/step - loss: 2.8021 - mae: 2.8021\n",
      "Epoch 5/30\n",
      "1/1 [==============================] - 0s 11ms/step - loss: 4.3680 - mae: 4.3680\n",
      "Epoch 6/30\n",
      "1/1 [==============================] - 0s 14ms/step - loss: 2.7469 - mae: 2.7469\n",
      "Epoch 7/30\n",
      "1/1 [==============================] - 0s 14ms/step - loss: 5.1043 - mae: 5.1043\n",
      "Epoch 8/30\n",
      "1/1 [==============================] - 0s 11ms/step - loss: 4.0572 - mae: 4.0572\n",
      "Epoch 9/30\n",
      "1/1 [==============================] - 0s 15ms/step - loss: 1.7190 - mae: 1.7190\n",
      "Epoch 10/30\n",
      "1/1 [==============================] - 0s 12ms/step - loss: 1.8742 - mae: 1.8742\n",
      "Epoch 11/30\n",
      "1/1 [==============================] - 0s 16ms/step - loss: 2.9479 - mae: 2.9479\n",
      "Epoch 12/30\n",
      "1/1 [==============================] - 0s 8ms/step - loss: 5.0494 - mae: 5.0494\n",
      "Epoch 13/30\n",
      "1/1 [==============================] - 0s 11ms/step - loss: 4.1678 - mae: 4.1678\n",
      "Epoch 14/30\n",
      "1/1 [==============================] - 0s 12ms/step - loss: 2.8892 - mae: 2.8892\n",
      "Epoch 15/30\n",
      "1/1 [==============================] - 0s 9ms/step - loss: 3.9426 - mae: 3.9426\n",
      "Epoch 16/30\n",
      "1/1 [==============================] - 0s 9ms/step - loss: 2.6898 - mae: 2.6898\n",
      "Epoch 17/30\n",
      "1/1 [==============================] - 0s 12ms/step - loss: 1.5340 - mae: 1.5340\n",
      "Epoch 18/30\n",
      "1/1 [==============================] - 0s 11ms/step - loss: 2.7629 - mae: 2.7629\n",
      "Epoch 19/30\n",
      "1/1 [==============================] - 0s 12ms/step - loss: 1.4579 - mae: 1.4579\n",
      "Epoch 20/30\n",
      "1/1 [==============================] - 0s 12ms/step - loss: 4.0507 - mae: 4.0507\n",
      "Epoch 21/30\n",
      "1/1 [==============================] - 0s 10ms/step - loss: 3.8980 - mae: 3.8980\n",
      "Epoch 22/30\n",
      "1/1 [==============================] - 0s 11ms/step - loss: 2.6581 - mae: 2.6581\n",
      "Epoch 23/30\n",
      "1/1 [==============================] - 0s 12ms/step - loss: 2.6983 - mae: 2.6983\n",
      "Epoch 24/30\n",
      "1/1 [==============================] - 0s 14ms/step - loss: 3.8704 - mae: 3.8704\n",
      "Epoch 25/30\n",
      "1/1 [==============================] - 0s 14ms/step - loss: 6.4000 - mae: 6.4000\n",
      "Epoch 26/30\n",
      "1/1 [==============================] - 0s 11ms/step - loss: 1.3080 - mae: 1.3080\n",
      "Epoch 27/30\n",
      "1/1 [==============================] - 0s 10ms/step - loss: 6.0055 - mae: 6.0055\n",
      "Epoch 28/30\n",
      "1/1 [==============================] - 0s 14ms/step - loss: 3.8226 - mae: 3.8226\n",
      "Epoch 29/30\n",
      "1/1 [==============================] - 0s 13ms/step - loss: 4.1656 - mae: 4.1656\n",
      "Epoch 30/30\n",
      "1/1 [==============================] - 0s 8ms/step - loss: 1.4722 - mae: 1.4722\n"
     ]
    },
    {
     "data": {
      "text/plain": [
       "<keras.callbacks.History at 0x1a9a3114a90>"
      ]
     },
     "execution_count": 251,
     "metadata": {},
     "output_type": "execute_result"
    }
   ],
   "source": [
    "model.fit(tf.expand_dims(X,axis=-1),y,epochs=30)"
   ]
  },
  {
   "cell_type": "code",
   "execution_count": 252,
   "metadata": {},
   "outputs": [
    {
     "name": "stdout",
     "output_type": "stream",
     "text": [
      "1/1 [==============================] - 0s 199ms/step\n"
     ]
    },
    {
     "data": {
      "text/plain": [
       "array([[7.403517]], dtype=float32)"
      ]
     },
     "execution_count": 252,
     "metadata": {},
     "output_type": "execute_result"
    }
   ],
   "source": [
    "model.predict([10])"
   ]
  },
  {
   "attachments": {},
   "cell_type": "markdown",
   "metadata": {},
   "source": [
    "Evaluating the model"
   ]
  },
  {
   "cell_type": "code",
   "execution_count": 253,
   "metadata": {},
   "outputs": [
    {
     "data": {
      "text/plain": [
       "<tf.Tensor: shape=(300,), dtype=int32, numpy=\n",
       "array([100, 103, 106, 109, 112, 115, 118, 121, 124, 127, 130, 133, 136,\n",
       "       139, 142, 145, 148, 151, 154, 157, 160, 163, 166, 169, 172, 175,\n",
       "       178, 181, 184, 187, 190, 193, 196, 199, 202, 205, 208, 211, 214,\n",
       "       217, 220, 223, 226, 229, 232, 235, 238, 241, 244, 247, 250, 253,\n",
       "       256, 259, 262, 265, 268, 271, 274, 277, 280, 283, 286, 289, 292,\n",
       "       295, 298, 301, 304, 307, 310, 313, 316, 319, 322, 325, 328, 331,\n",
       "       334, 337, 340, 343, 346, 349, 352, 355, 358, 361, 364, 367, 370,\n",
       "       373, 376, 379, 382, 385, 388, 391, 394, 397, 400, 403, 406, 409,\n",
       "       412, 415, 418, 421, 424, 427, 430, 433, 436, 439, 442, 445, 448,\n",
       "       451, 454, 457, 460, 463, 466, 469, 472, 475, 478, 481, 484, 487,\n",
       "       490, 493, 496, 499, 502, 505, 508, 511, 514, 517, 520, 523, 526,\n",
       "       529, 532, 535, 538, 541, 544, 547, 550, 553, 556, 559, 562, 565,\n",
       "       568, 571, 574, 577, 580, 583, 586, 589, 592, 595, 598, 601, 604,\n",
       "       607, 610, 613, 616, 619, 622, 625, 628, 631, 634, 637, 640, 643,\n",
       "       646, 649, 652, 655, 658, 661, 664, 667, 670, 673, 676, 679, 682,\n",
       "       685, 688, 691, 694, 697, 700, 703, 706, 709, 712, 715, 718, 721,\n",
       "       724, 727, 730, 733, 736, 739, 742, 745, 748, 751, 754, 757, 760,\n",
       "       763, 766, 769, 772, 775, 778, 781, 784, 787, 790, 793, 796, 799,\n",
       "       802, 805, 808, 811, 814, 817, 820, 823, 826, 829, 832, 835, 838,\n",
       "       841, 844, 847, 850, 853, 856, 859, 862, 865, 868, 871, 874, 877,\n",
       "       880, 883, 886, 889, 892, 895, 898, 901, 904, 907, 910, 913, 916,\n",
       "       919, 922, 925, 928, 931, 934, 937, 940, 943, 946, 949, 952, 955,\n",
       "       958, 961, 964, 967, 970, 973, 976, 979, 982, 985, 988, 991, 994,\n",
       "       997])>"
      ]
     },
     "execution_count": 253,
     "metadata": {},
     "output_type": "execute_result"
    }
   ],
   "source": [
    "#larger dataset\n",
    "X = tf.range(100,1000,3)\n",
    "X"
   ]
  },
  {
   "cell_type": "code",
   "execution_count": 254,
   "metadata": {},
   "outputs": [
    {
     "data": {
      "text/plain": [
       "<tf.Tensor: shape=(300,), dtype=int32, numpy=\n",
       "array([ 133,  136,  139,  142,  145,  148,  151,  154,  157,  160,  163,\n",
       "        166,  169,  172,  175,  178,  181,  184,  187,  190,  193,  196,\n",
       "        199,  202,  205,  208,  211,  214,  217,  220,  223,  226,  229,\n",
       "        232,  235,  238,  241,  244,  247,  250,  253,  256,  259,  262,\n",
       "        265,  268,  271,  274,  277,  280,  283,  286,  289,  292,  295,\n",
       "        298,  301,  304,  307,  310,  313,  316,  319,  322,  325,  328,\n",
       "        331,  334,  337,  340,  343,  346,  349,  352,  355,  358,  361,\n",
       "        364,  367,  370,  373,  376,  379,  382,  385,  388,  391,  394,\n",
       "        397,  400,  403,  406,  409,  412,  415,  418,  421,  424,  427,\n",
       "        430,  433,  436,  439,  442,  445,  448,  451,  454,  457,  460,\n",
       "        463,  466,  469,  472,  475,  478,  481,  484,  487,  490,  493,\n",
       "        496,  499,  502,  505,  508,  511,  514,  517,  520,  523,  526,\n",
       "        529,  532,  535,  538,  541,  544,  547,  550,  553,  556,  559,\n",
       "        562,  565,  568,  571,  574,  577,  580,  583,  586,  589,  592,\n",
       "        595,  598,  601,  604,  607,  610,  613,  616,  619,  622,  625,\n",
       "        628,  631,  634,  637,  640,  643,  646,  649,  652,  655,  658,\n",
       "        661,  664,  667,  670,  673,  676,  679,  682,  685,  688,  691,\n",
       "        694,  697,  700,  703,  706,  709,  712,  715,  718,  721,  724,\n",
       "        727,  730,  733,  736,  739,  742,  745,  748,  751,  754,  757,\n",
       "        760,  763,  766,  769,  772,  775,  778,  781,  784,  787,  790,\n",
       "        793,  796,  799,  802,  805,  808,  811,  814,  817,  820,  823,\n",
       "        826,  829,  832,  835,  838,  841,  844,  847,  850,  853,  856,\n",
       "        859,  862,  865,  868,  871,  874,  877,  880,  883,  886,  889,\n",
       "        892,  895,  898,  901,  904,  907,  910,  913,  916,  919,  922,\n",
       "        925,  928,  931,  934,  937,  940,  943,  946,  949,  952,  955,\n",
       "        958,  961,  964,  967,  970,  973,  976,  979,  982,  985,  988,\n",
       "        991,  994,  997, 1000, 1003, 1006, 1009, 1012, 1015, 1018, 1021,\n",
       "       1024, 1027, 1030])>"
      ]
     },
     "execution_count": 254,
     "metadata": {},
     "output_type": "execute_result"
    }
   ],
   "source": [
    "y=X+33\n",
    "y"
   ]
  },
  {
   "cell_type": "code",
   "execution_count": 255,
   "metadata": {},
   "outputs": [
    {
     "data": {
      "text/plain": [
       "[<matplotlib.lines.Line2D at 0x1a99e9b7f10>]"
      ]
     },
     "execution_count": 255,
     "metadata": {},
     "output_type": "execute_result"
    },
    {
     "data": {
      "image/png": "[encoded data removed]",
      "text/plain": [
       "<Figure size 640x480 with 1 Axes>"
      ]
     },
     "metadata": {},
     "output_type": "display_data"
    }
   ],
   "source": [
    "#visualize the data\n",
    "plt.plot(X,y)"
   ]
  },
  {
   "cell_type": "code",
   "execution_count": 256,
   "metadata": {},
   "outputs": [
    {
     "data": {
      "text/plain": [
       "<matplotlib.collections.PathCollection at 0x1a9a321cbb0>"
      ]
     },
     "execution_count": 256,
     "metadata": {},
     "output_type": "execute_result"
    },
    {
     "data": {
      "image/png": "[encoded data removed]",
      "text/plain": [
       "<Figure size 640x480 with 1 Axes>"
      ]
     },
     "metadata": {},
     "output_type": "display_data"
    }
   ],
   "source": [
    "plt.scatter(X,y)"
   ]
  },
  {
   "cell_type": "code",
   "execution_count": 257,
   "metadata": {},
   "outputs": [
    {
     "data": {
      "text/plain": [
       "300"
      ]
     },
     "execution_count": 257,
     "metadata": {},
     "output_type": "execute_result"
    }
   ],
   "source": [
    "len(X)"
   ]
  },
  {
   "cell_type": "code",
   "execution_count": 258,
   "metadata": {},
   "outputs": [
    {
     "data": {
      "text/plain": [
       "(240, 60)"
      ]
     },
     "execution_count": 258,
     "metadata": {},
     "output_type": "execute_result"
    }
   ],
   "source": [
    "X_train,y_train = X[:240],y[:240]\n",
    "X_test,y_test = X[240:],y[240:]\n",
    "len(X_train),len(X_test)"
   ]
  },
  {
   "cell_type": "code",
   "execution_count": 259,
   "metadata": {},
   "outputs": [
    {
     "data": {
      "text/plain": [
       "<matplotlib.collections.PathCollection at 0x1a9a3267040>"
      ]
     },
     "execution_count": 259,
     "metadata": {},
     "output_type": "execute_result"
    },
    {
     "data": {
      "image/png": "[encoded data removed]",
      "text/plain": [
       "<Figure size 1000x700 with 1 Axes>"
      ]
     },
     "metadata": {},
     "output_type": "display_data"
    }
   ],
   "source": [
    "#visualizing the sets\n",
    "plt.figure(figsize=(10,7))\n",
    "plt.scatter(X_train,y_train,c='r',label='Training Data')\n",
    "plt.scatter(X_test,y_test,c='b',label='Testing Data')"
   ]
  },
  {
   "cell_type": "code",
   "execution_count": 318,
   "metadata": {},
   "outputs": [],
   "source": [
    "#building the model\n",
    "model=tf.keras.Sequential()\n",
    "model.add(tf.keras.layers.Dense(1, input_shape=[1]))\n"
   ]
  },
  {
   "cell_type": "code",
   "execution_count": 319,
   "metadata": {},
   "outputs": [],
   "source": [
    "#compiling the model\n",
    "model.compile(loss=tf.keras.losses.mae,\n",
    "              optimizer=tf.keras.optimizers.Adam(learning_rate=0.0003),\n",
    "              metrics=['mae'])"
   ]
  },
  {
   "cell_type": "code",
   "execution_count": 320,
   "metadata": {},
   "outputs": [
    {
     "name": "stdout",
     "output_type": "stream",
     "text": [
      "Model: \"sequential_27\"\n",
      "_________________________________________________________________\n",
      " Layer (type)                Output Shape              Param #   \n",
      "=================================================================\n",
      " dense_49 (Dense)            (None, 1)                 2         \n",
      "                                                                 \n",
      " dense_50 (Dense)            (None, 1)                 2         \n",
      "                                                                 \n",
      "=================================================================\n",
      "Total params: 4\n",
      "Trainable params: 4\n",
      "Non-trainable params: 0\n",
      "_________________________________________________________________\n"
     ]
    }
   ],
   "source": [
    "model.summary()"
   ]
  },
  {
   "cell_type": "code",
   "execution_count": 321,
   "metadata": {},
   "outputs": [
    {
     "name": "stdout",
     "output_type": "stream",
     "text": [
      "Epoch 1/100\n",
      "8/8 [==============================] - 2s 4ms/step - loss: 1404.1686 - mae: 1404.1686\n",
      "Epoch 2/100\n",
      "8/8 [==============================] - 0s 4ms/step - loss: 1401.0516 - mae: 1401.0516\n",
      "Epoch 3/100\n",
      "8/8 [==============================] - 0s 4ms/step - loss: 1397.9927 - mae: 1397.9927\n",
      "Epoch 4/100\n",
      "8/8 [==============================] - 0s 5ms/step - loss: 1394.8761 - mae: 1394.8761\n",
      "Epoch 5/100\n",
      "8/8 [==============================] - 0s 6ms/step - loss: 1391.8246 - mae: 1391.8246\n",
      "Epoch 6/100\n",
      "8/8 [==============================] - 0s 6ms/step - loss: 1388.7438 - mae: 1388.7438\n",
      "Epoch 7/100\n",
      "8/8 [==============================] - 0s 5ms/step - loss: 1385.6740 - mae: 1385.6740\n",
      "Epoch 8/100\n",
      "8/8 [==============================] - 0s 7ms/step - loss: 1382.6152 - mae: 1382.6152\n",
      "Epoch 9/100\n",
      "8/8 [==============================] - 0s 6ms/step - loss: 1379.5665 - mae: 1379.5665\n",
      "Epoch 10/100\n",
      "8/8 [==============================] - 0s 5ms/step - loss: 1376.5564 - mae: 1376.5564\n",
      "Epoch 11/100\n",
      "8/8 [==============================] - 0s 5ms/step - loss: 1373.4843 - mae: 1373.4843\n",
      "Epoch 12/100\n",
      "8/8 [==============================] - 0s 5ms/step - loss: 1370.4598 - mae: 1370.4598\n",
      "Epoch 13/100\n",
      "8/8 [==============================] - 0s 5ms/step - loss: 1367.4340 - mae: 1367.4340\n",
      "Epoch 14/100\n",
      "8/8 [==============================] - 0s 5ms/step - loss: 1364.3983 - mae: 1364.3983\n",
      "Epoch 15/100\n",
      "8/8 [==============================] - 0s 5ms/step - loss: 1361.4036 - mae: 1361.4036\n",
      "Epoch 16/100\n",
      "8/8 [==============================] - 0s 5ms/step - loss: 1358.3914 - mae: 1358.3914\n",
      "Epoch 17/100\n",
      "8/8 [==============================] - 0s 4ms/step - loss: 1355.4021 - mae: 1355.4021\n",
      "Epoch 18/100\n",
      "8/8 [==============================] - 0s 8ms/step - loss: 1352.3993 - mae: 1352.3993\n",
      "Epoch 19/100\n",
      "8/8 [==============================] - 0s 10ms/step - loss: 1349.4294 - mae: 1349.4294\n",
      "Epoch 20/100\n",
      "8/8 [==============================] - 0s 5ms/step - loss: 1346.4271 - mae: 1346.4271\n",
      "Epoch 21/100\n",
      "8/8 [==============================] - 0s 4ms/step - loss: 1343.4998 - mae: 1343.4998\n",
      "Epoch 22/100\n",
      "8/8 [==============================] - 0s 4ms/step - loss: 1340.5581 - mae: 1340.5581\n",
      "Epoch 23/100\n",
      "8/8 [==============================] - 0s 5ms/step - loss: 1337.6096 - mae: 1337.6096\n",
      "Epoch 24/100\n",
      "8/8 [==============================] - 0s 6ms/step - loss: 1334.6588 - mae: 1334.6588\n",
      "Epoch 25/100\n",
      "8/8 [==============================] - 0s 6ms/step - loss: 1331.6879 - mae: 1331.6879\n",
      "Epoch 26/100\n",
      "8/8 [==============================] - 0s 3ms/step - loss: 1328.8281 - mae: 1328.8281\n",
      "Epoch 27/100\n",
      "8/8 [==============================] - 0s 5ms/step - loss: 1325.8567 - mae: 1325.8567\n",
      "Epoch 28/100\n",
      "8/8 [==============================] - 0s 6ms/step - loss: 1322.9890 - mae: 1322.9890\n",
      "Epoch 29/100\n",
      "8/8 [==============================] - 0s 5ms/step - loss: 1320.0920 - mae: 1320.0920\n",
      "Epoch 30/100\n",
      "8/8 [==============================] - 0s 4ms/step - loss: 1317.1808 - mae: 1317.1808\n",
      "Epoch 31/100\n",
      "8/8 [==============================] - 0s 4ms/step - loss: 1314.3361 - mae: 1314.3361\n",
      "Epoch 32/100\n",
      "8/8 [==============================] - 0s 9ms/step - loss: 1311.4557 - mae: 1311.4557\n",
      "Epoch 33/100\n",
      "8/8 [==============================] - 0s 6ms/step - loss: 1308.5668 - mae: 1308.5668\n",
      "Epoch 34/100\n",
      "8/8 [==============================] - 0s 5ms/step - loss: 1305.7151 - mae: 1305.7151\n",
      "Epoch 35/100\n",
      "8/8 [==============================] - 0s 5ms/step - loss: 1302.8470 - mae: 1302.8470\n",
      "Epoch 36/100\n",
      "8/8 [==============================] - 0s 6ms/step - loss: 1299.9857 - mae: 1299.9857\n",
      "Epoch 37/100\n",
      "8/8 [==============================] - 0s 6ms/step - loss: 1297.1821 - mae: 1297.1821\n",
      "Epoch 38/100\n",
      "8/8 [==============================] - 0s 7ms/step - loss: 1294.3430 - mae: 1294.3430\n",
      "Epoch 39/100\n",
      "8/8 [==============================] - 0s 4ms/step - loss: 1291.5067 - mae: 1291.5067\n",
      "Epoch 40/100\n",
      "8/8 [==============================] - 0s 4ms/step - loss: 1288.6746 - mae: 1288.6746\n",
      "Epoch 41/100\n",
      "8/8 [==============================] - 0s 7ms/step - loss: 1285.8468 - mae: 1285.8468\n",
      "Epoch 42/100\n",
      "8/8 [==============================] - 0s 4ms/step - loss: 1283.0660 - mae: 1283.0660\n",
      "Epoch 43/100\n",
      "8/8 [==============================] - 0s 6ms/step - loss: 1280.2076 - mae: 1280.2076\n",
      "Epoch 44/100\n",
      "8/8 [==============================] - 0s 4ms/step - loss: 1277.4081 - mae: 1277.4081\n",
      "Epoch 45/100\n",
      "8/8 [==============================] - 0s 5ms/step - loss: 1274.6168 - mae: 1274.6168\n",
      "Epoch 46/100\n",
      "8/8 [==============================] - 0s 4ms/step - loss: 1271.8168 - mae: 1271.8168\n",
      "Epoch 47/100\n",
      "8/8 [==============================] - 0s 5ms/step - loss: 1269.0857 - mae: 1269.0857\n",
      "Epoch 48/100\n",
      "8/8 [==============================] - 0s 4ms/step - loss: 1266.3217 - mae: 1266.3217\n",
      "Epoch 49/100\n",
      "8/8 [==============================] - 0s 4ms/step - loss: 1263.5358 - mae: 1263.5358\n",
      "Epoch 50/100\n",
      "8/8 [==============================] - 0s 5ms/step - loss: 1260.8368 - mae: 1260.8368\n",
      "Epoch 51/100\n",
      "8/8 [==============================] - 0s 9ms/step - loss: 1258.0868 - mae: 1258.0868\n",
      "Epoch 52/100\n",
      "8/8 [==============================] - 0s 6ms/step - loss: 1255.3491 - mae: 1255.3491\n",
      "Epoch 53/100\n",
      "8/8 [==============================] - 0s 5ms/step - loss: 1252.6034 - mae: 1252.6034\n",
      "Epoch 54/100\n",
      "8/8 [==============================] - 0s 5ms/step - loss: 1249.8907 - mae: 1249.8907\n",
      "Epoch 55/100\n",
      "8/8 [==============================] - 0s 6ms/step - loss: 1247.2010 - mae: 1247.2010\n",
      "Epoch 56/100\n",
      "8/8 [==============================] - 0s 12ms/step - loss: 1244.4904 - mae: 1244.4904\n",
      "Epoch 57/100\n",
      "8/8 [==============================] - 0s 3ms/step - loss: 1241.7948 - mae: 1241.7948\n",
      "Epoch 58/100\n",
      "8/8 [==============================] - 0s 3ms/step - loss: 1239.1379 - mae: 1239.1379\n",
      "Epoch 59/100\n",
      "8/8 [==============================] - 0s 6ms/step - loss: 1236.4510 - mae: 1236.4510\n",
      "Epoch 60/100\n",
      "8/8 [==============================] - 0s 3ms/step - loss: 1233.7905 - mae: 1233.7905\n",
      "Epoch 61/100\n",
      "8/8 [==============================] - 0s 3ms/step - loss: 1231.1505 - mae: 1231.1505\n",
      "Epoch 62/100\n",
      "8/8 [==============================] - 0s 11ms/step - loss: 1228.4828 - mae: 1228.4828\n",
      "Epoch 63/100\n",
      "8/8 [==============================] - 0s 9ms/step - loss: 1225.8516 - mae: 1225.8516\n",
      "Epoch 64/100\n",
      "8/8 [==============================] - 0s 4ms/step - loss: 1223.1763 - mae: 1223.1763\n",
      "Epoch 65/100\n",
      "8/8 [==============================] - 0s 4ms/step - loss: 1220.5496 - mae: 1220.5496\n",
      "Epoch 66/100\n",
      "8/8 [==============================] - 0s 6ms/step - loss: 1217.8953 - mae: 1217.8953\n",
      "Epoch 67/100\n",
      "8/8 [==============================] - 0s 7ms/step - loss: 1215.2643 - mae: 1215.2643\n",
      "Epoch 68/100\n",
      "8/8 [==============================] - 0s 4ms/step - loss: 1212.6196 - mae: 1212.6196\n",
      "Epoch 69/100\n",
      "8/8 [==============================] - 0s 4ms/step - loss: 1210.0299 - mae: 1210.0299\n",
      "Epoch 70/100\n",
      "8/8 [==============================] - 0s 7ms/step - loss: 1207.4026 - mae: 1207.4026\n",
      "Epoch 71/100\n",
      "8/8 [==============================] - 0s 6ms/step - loss: 1204.7917 - mae: 1204.7917\n",
      "Epoch 72/100\n",
      "8/8 [==============================] - 0s 5ms/step - loss: 1202.2312 - mae: 1202.2312\n",
      "Epoch 73/100\n",
      "8/8 [==============================] - 0s 4ms/step - loss: 1199.6263 - mae: 1199.6263\n",
      "Epoch 74/100\n",
      "8/8 [==============================] - 0s 5ms/step - loss: 1197.1091 - mae: 1197.1091\n",
      "Epoch 75/100\n",
      "8/8 [==============================] - 0s 6ms/step - loss: 1194.5286 - mae: 1194.5286\n",
      "Epoch 76/100\n",
      "8/8 [==============================] - 0s 4ms/step - loss: 1191.9688 - mae: 1191.9688\n",
      "Epoch 77/100\n",
      "8/8 [==============================] - 0s 4ms/step - loss: 1189.4194 - mae: 1189.4194\n",
      "Epoch 78/100\n",
      "8/8 [==============================] - 0s 6ms/step - loss: 1186.8656 - mae: 1186.8656\n",
      "Epoch 79/100\n",
      "8/8 [==============================] - 0s 7ms/step - loss: 1184.3234 - mae: 1184.3234\n",
      "Epoch 80/100\n",
      "8/8 [==============================] - 0s 7ms/step - loss: 1181.7916 - mae: 1181.7916\n",
      "Epoch 81/100\n",
      "8/8 [==============================] - 0s 5ms/step - loss: 1179.2396 - mae: 1179.2396\n",
      "Epoch 82/100\n",
      "8/8 [==============================] - 0s 4ms/step - loss: 1176.7297 - mae: 1176.7297\n",
      "Epoch 83/100\n",
      "8/8 [==============================] - 0s 4ms/step - loss: 1174.2052 - mae: 1174.2052\n",
      "Epoch 84/100\n",
      "8/8 [==============================] - 0s 5ms/step - loss: 1171.7039 - mae: 1171.7039\n",
      "Epoch 85/100\n",
      "8/8 [==============================] - 0s 4ms/step - loss: 1169.2026 - mae: 1169.2026\n",
      "Epoch 86/100\n",
      "8/8 [==============================] - 0s 4ms/step - loss: 1166.7164 - mae: 1166.7164\n",
      "Epoch 87/100\n",
      "8/8 [==============================] - 0s 4ms/step - loss: 1164.2262 - mae: 1164.2262\n",
      "Epoch 88/100\n",
      "8/8 [==============================] - 0s 5ms/step - loss: 1161.7714 - mae: 1161.7714\n",
      "Epoch 89/100\n",
      "8/8 [==============================] - 0s 8ms/step - loss: 1159.2814 - mae: 1159.2814\n",
      "Epoch 90/100\n",
      "8/8 [==============================] - 0s 4ms/step - loss: 1156.7883 - mae: 1156.7883\n",
      "Epoch 91/100\n",
      "8/8 [==============================] - 0s 4ms/step - loss: 1154.3289 - mae: 1154.3289\n",
      "Epoch 92/100\n",
      "8/8 [==============================] - 0s 6ms/step - loss: 1151.9077 - mae: 1151.9077\n",
      "Epoch 93/100\n",
      "8/8 [==============================] - 0s 5ms/step - loss: 1149.4232 - mae: 1149.4232\n",
      "Epoch 94/100\n",
      "8/8 [==============================] - 0s 4ms/step - loss: 1146.9904 - mae: 1146.9904\n",
      "Epoch 95/100\n",
      "8/8 [==============================] - 0s 4ms/step - loss: 1144.5466 - mae: 1144.5466\n",
      "Epoch 96/100\n",
      "8/8 [==============================] - 0s 4ms/step - loss: 1142.1490 - mae: 1142.1490\n",
      "Epoch 97/100\n",
      "8/8 [==============================] - 0s 5ms/step - loss: 1139.7576 - mae: 1139.7576\n",
      "Epoch 98/100\n",
      "8/8 [==============================] - 0s 7ms/step - loss: 1137.3167 - mae: 1137.3167\n",
      "Epoch 99/100\n",
      "8/8 [==============================] - 0s 5ms/step - loss: 1134.9419 - mae: 1134.9419\n",
      "Epoch 100/100\n",
      "8/8 [==============================] - 0s 4ms/step - loss: 1132.5090 - mae: 1132.5090\n"
     ]
    },
    {
     "data": {
      "text/plain": [
       "<keras.callbacks.History at 0x1a9a6b6a560>"
      ]
     },
     "execution_count": 321,
     "metadata": {},
     "output_type": "execute_result"
    }
   ],
   "source": [
    "#fitting the model\n",
    "model.fit(X_train,y_train, epochs = 100)"
   ]
  },
  {
   "cell_type": "code",
   "execution_count": 290,
   "metadata": {},
   "outputs": [
    {
     "name": "stdout",
     "output_type": "stream",
     "text": [
      "You must install pydot (`pip install pydot`) and install graphviz (see instructions at https://graphviz.gitlab.io/download/) for plot_model/model_to_dot to work.\n"
     ]
    }
   ],
   "source": [
    "tf.keras.utils.plot_model(model=model,show_shapes=True)"
   ]
  },
  {
   "cell_type": "code",
   "execution_count": 292,
   "metadata": {},
   "outputs": [
    {
     "name": "stdout",
     "output_type": "stream",
     "text": [
      "2/2 [==============================] - 0s 8ms/step\n"
     ]
    },
    {
     "data": {
      "text/plain": [
       "(array([[ 36.142174, -22.33684 ,  23.829308, -19.933937, -35.65361 ,\n",
       "         -40.72051 ,  32.534763, -32.433575,  44.096973,  30.602215],\n",
       "        [ 36.27415 , -22.418879,  23.916224, -20.007183, -35.784386,\n",
       "         -40.869827,  32.653538, -32.552567,  44.258064,  30.713919],\n",
       "        [ 36.406124, -22.500917,  24.003138, -20.080427, -35.915157,\n",
       "         -41.019142,  32.772312, -32.671555,  44.41915 ,  30.825619],\n",
       "        [ 36.538105, -22.582956,  24.090054, -20.153673, -36.045933,\n",
       "         -41.16846 ,  32.891087, -32.790546,  44.58024 ,  30.937323],\n",
       "        [ 36.67008 , -22.664995,  24.17697 , -20.226917, -36.17671 ,\n",
       "         -41.317776,  33.00986 , -32.909534,  44.74133 ,  31.049023],\n",
       "        [ 36.802055, -22.747032,  24.263884, -20.300161, -36.30748 ,\n",
       "         -41.467094,  33.128635, -33.028522,  44.902416,  31.160725],\n",
       "        [ 36.934036, -22.829073,  24.350801, -20.373407, -36.43826 ,\n",
       "         -41.616413,  33.247414, -33.14752 ,  45.063507,  31.272429],\n",
       "        [ 37.06601 , -22.911112,  24.437716, -20.446651, -36.56903 ,\n",
       "         -41.76573 ,  33.366188, -33.266506,  45.224594,  31.38413 ],\n",
       "        [ 37.197987, -22.99315 ,  24.52463 , -20.519896, -36.699802,\n",
       "         -41.915047,  33.48496 , -33.385494,  45.38568 ,  31.495832],\n",
       "        [ 37.32996 , -23.075188,  24.611544, -20.593142, -36.830578,\n",
       "         -42.064365,  33.603733, -33.504482,  45.546772,  31.607533],\n",
       "        [ 37.46194 , -23.157228,  24.698462, -20.666388, -36.961353,\n",
       "         -42.213684,  33.72251 , -33.623474,  45.707863,  31.719238],\n",
       "        [ 37.593918, -23.239267,  24.785376, -20.739632, -37.09213 ,\n",
       "         -42.363003,  33.841286, -33.742466,  45.86895 ,  31.830938],\n",
       "        [ 37.72589 , -23.321306,  24.872292, -20.812876, -37.2229  ,\n",
       "         -42.512318,  33.96006 , -33.861454,  46.030037,  31.94264 ],\n",
       "        [ 37.85787 , -23.403343,  24.959206, -20.88612 , -37.353672,\n",
       "         -42.661633,  34.07883 , -33.980442,  46.191124,  32.05434 ],\n",
       "        [ 37.98984 , -23.485382,  25.04612 , -20.959364, -37.484447,\n",
       "         -42.81095 ,  34.197605, -34.09943 ,  46.35221 ,  32.166042],\n",
       "        [ 38.121822, -23.567423,  25.133038, -21.032612, -37.615223,\n",
       "         -42.96027 ,  34.316383, -34.218426,  46.513306,  32.27775 ],\n",
       "        [ 38.2538  , -23.649462,  25.219952, -21.105856, -37.746   ,\n",
       "         -43.10959 ,  34.435158, -34.337414,  46.674393,  32.38945 ],\n",
       "        [ 38.385773, -23.731499,  25.306866, -21.1791  , -37.87677 ,\n",
       "         -43.258904,  34.553932, -34.4564  ,  46.83548 ,  32.501152],\n",
       "        [ 38.51775 , -23.813538,  25.393782, -21.252344, -38.00754 ,\n",
       "         -43.40822 ,  34.672703, -34.57539 ,  46.996567,  32.612854],\n",
       "        [ 38.64973 , -23.895578,  25.480698, -21.325592, -38.13832 ,\n",
       "         -43.55754 ,  34.79148 , -34.69438 ,  47.15766 ,  32.724556],\n",
       "        [ 38.781704, -23.977615,  25.567614, -21.398836, -38.269093,\n",
       "         -43.706856,  34.910255, -34.813374,  47.31875 ,  32.836258],\n",
       "        [ 38.91368 , -24.059654,  25.654528, -21.47208 , -38.399868,\n",
       "         -43.856174,  35.02903 , -34.93236 ,  47.479836,  32.94796 ],\n",
       "        [ 39.04566 , -24.141693,  25.741442, -21.545324, -38.53064 ,\n",
       "         -44.00549 ,  35.147804, -35.05135 ,  47.640923,  33.05966 ],\n",
       "        [ 39.177635, -24.223734,  25.82836 , -21.61857 , -38.66142 ,\n",
       "         -44.15481 ,  35.26658 , -35.17034 ,  47.802017,  33.171364],\n",
       "        [ 39.309612, -24.30577 ,  25.915274, -21.691816, -38.79219 ,\n",
       "         -44.304127,  35.385353, -35.289333,  47.963104,  33.283066],\n",
       "        [ 39.441586, -24.38781 ,  26.00219 , -21.76506 , -38.922962,\n",
       "         -44.453445,  35.504128, -35.40832 ,  48.12419 ,  33.394768],\n",
       "        [ 39.573563, -24.469849,  26.089104, -21.838305, -39.053738,\n",
       "         -44.60276 ,  35.622902, -35.52731 ,  48.28528 ,  33.50647 ],\n",
       "        [ 39.70554 , -24.551886,  26.176018, -21.911549, -39.18451 ,\n",
       "         -44.752075,  35.741676, -35.646297,  48.446365,  33.618168],\n",
       "        [ 39.837517, -24.633926,  26.262936, -21.984795, -39.31529 ,\n",
       "         -44.901398,  35.86045 , -35.76529 ,  48.60746 ,  33.729874],\n",
       "        [ 39.969494, -24.715965,  26.34985 , -22.058039, -39.44606 ,\n",
       "         -45.050713,  35.979225, -35.88428 ,  48.768547,  33.841576],\n",
       "        [ 40.10147 , -24.798004,  26.436764, -22.131285, -39.57683 ,\n",
       "         -45.20003 ,  36.098   , -36.00327 ,  48.929634,  33.953278],\n",
       "        [ 40.233444, -24.880041,  26.52368 , -22.204529, -39.707607,\n",
       "         -45.349346,  36.216774, -36.122257,  49.09072 ,  34.06498 ],\n",
       "        [ 40.365425, -24.962082,  26.610596, -22.277775, -39.838383,\n",
       "         -45.49867 ,  36.335552, -36.24125 ,  49.251812,  34.17668 ],\n",
       "        [ 40.4974  , -25.04412 ,  26.697512, -22.351019, -39.96916 ,\n",
       "         -45.647984,  36.454323, -36.36024 ,  49.4129  ,  34.288383],\n",
       "        [ 40.629375, -25.126158,  26.784426, -22.424263, -40.09993 ,\n",
       "         -45.7973  ,  36.573097, -36.47923 ,  49.57399 ,  34.400085],\n",
       "        [ 40.761353, -25.208197,  26.87134 , -22.497507, -40.230705,\n",
       "         -45.946617,  36.69187 , -36.598217,  49.735077,  34.511787],\n",
       "        [ 40.89333 , -25.290237,  26.958258, -22.570755, -40.36148 ,\n",
       "         -46.095936,  36.81065 , -36.71721 ,  49.896168,  34.62349 ],\n",
       "        [ 41.025307, -25.372276,  27.045172, -22.644   , -40.492252,\n",
       "         -46.245255,  36.929424, -36.836197,  50.057255,  34.73519 ],\n",
       "        [ 41.157284, -25.454313,  27.132086, -22.717243, -40.623028,\n",
       "         -46.39457 ,  37.048195, -36.95519 ,  50.21834 ,  34.846893],\n",
       "        [ 41.289257, -25.536352,  27.219002, -22.790487, -40.7538  ,\n",
       "         -46.543888,  37.16697 , -37.074177,  50.379433,  34.958595],\n",
       "        [ 41.421234, -25.618391,  27.305916, -22.863731, -40.884575,\n",
       "         -46.693203,  37.285744, -37.193165,  50.54052 ,  35.070297],\n",
       "        [ 41.55321 , -25.700432,  27.392834, -22.93698 , -41.01535 ,\n",
       "         -46.842525,  37.404522, -37.312157,  50.70161 ,  35.182   ],\n",
       "        [ 41.68519 , -25.782469,  27.479748, -23.010223, -41.146126,\n",
       "         -46.99184 ,  37.523296, -37.43115 ,  50.862698,  35.2937  ],\n",
       "        [ 41.817165, -25.864508,  27.566662, -23.083467, -41.276897,\n",
       "         -47.141155,  37.642067, -37.550137,  51.023785,  35.405403],\n",
       "        [ 41.94914 , -25.946547,  27.653576, -23.156712, -41.40767 ,\n",
       "         -47.290474,  37.76084 , -37.669125,  51.18487 ,  35.517105],\n",
       "        [ 42.08112 , -26.028587,  27.740494, -23.22996 , -41.53845 ,\n",
       "         -47.439793,  37.87962 , -37.788116,  51.345966,  35.628807],\n",
       "        [ 42.213097, -26.110624,  27.827408, -23.303204, -41.66922 ,\n",
       "         -47.58911 ,  37.998394, -37.907104,  51.507053,  35.74051 ],\n",
       "        [ 42.34507 , -26.192663,  27.914324, -23.376448, -41.799995,\n",
       "         -47.738426,  38.11717 , -38.026096,  51.66814 ,  35.85221 ],\n",
       "        [ 42.477047, -26.2747  ,  28.001238, -23.449692, -41.930767,\n",
       "         -47.88774 ,  38.23594 , -38.145084,  51.829227,  35.963913],\n",
       "        [ 42.609028, -26.35674 ,  28.088156, -23.522938, -42.061543,\n",
       "         -48.037064,  38.354717, -38.264076,  51.990322,  36.07562 ],\n",
       "        [ 42.741   , -26.43878 ,  28.17507 , -23.596182, -42.192318,\n",
       "         -48.18638 ,  38.47349 , -38.383064,  52.15141 ,  36.187317],\n",
       "        [ 42.87298 , -26.520819,  28.261984, -23.669428, -42.32309 ,\n",
       "         -48.335697,  38.592266, -38.502056,  52.312496,  36.29902 ],\n",
       "        [ 43.00495 , -26.602856,  28.3489  , -23.742672, -42.453865,\n",
       "         -48.485012,  38.71104 , -38.621044,  52.473583,  36.41072 ],\n",
       "        [ 43.136932, -26.684896,  28.435816, -23.815918, -42.58464 ,\n",
       "         -48.634335,  38.829815, -38.740036,  52.634678,  36.522427],\n",
       "        [ 43.26891 , -26.766935,  28.522732, -23.889162, -42.715416,\n",
       "         -48.78365 ,  38.94859 , -38.859024,  52.795765,  36.634125],\n",
       "        [ 43.400883, -26.848974,  28.609646, -23.962406, -42.846188,\n",
       "         -48.93297 ,  39.067364, -38.978012,  52.956852,  36.745827],\n",
       "        [ 43.53286 , -26.931011,  28.69656 , -24.035652, -42.97696 ,\n",
       "         -49.082283,  39.18614 , -39.097004,  53.11794 ,  36.85753 ],\n",
       "        [ 43.664833, -27.01305 ,  28.783474, -24.108896, -43.107735,\n",
       "         -49.231598,  39.30491 , -39.215992,  53.279026,  36.96923 ],\n",
       "        [ 43.796814, -27.09509 ,  28.870392, -24.182142, -43.23851 ,\n",
       "         -49.38092 ,  39.423687, -39.334984,  53.44012 ,  37.080936],\n",
       "        [ 43.92879 , -27.17713 ,  28.957306, -24.255386, -43.369286,\n",
       "         -49.530235,  39.54246 , -39.45397 ,  53.601208,  37.192635]],\n",
       "       dtype=float32),\n",
       " <tf.Tensor: shape=(60,), dtype=int32, numpy=\n",
       " array([ 853,  856,  859,  862,  865,  868,  871,  874,  877,  880,  883,\n",
       "         886,  889,  892,  895,  898,  901,  904,  907,  910,  913,  916,\n",
       "         919,  922,  925,  928,  931,  934,  937,  940,  943,  946,  949,\n",
       "         952,  955,  958,  961,  964,  967,  970,  973,  976,  979,  982,\n",
       "         985,  988,  991,  994,  997, 1000, 1003, 1006, 1009, 1012, 1015,\n",
       "        1018, 1021, 1024, 1027, 1030])>)"
      ]
     },
     "execution_count": 292,
     "metadata": {},
     "output_type": "execute_result"
    }
   ],
   "source": [
    "#visualizing model's predictions\n",
    "y_pred=model.predict(X_test)\n",
    "y_pred,y_test"
   ]
  }
 ],
 "metadata": {
  "kernelspec": {
   "display_name": "Python 3",
   "language": "python",
   "name": "python3"
  },
  "language_info": {
   "codemirror_mode": {
    "name": "ipython",
    "version": 3
   },
   "file_extension": ".py",
   "mimetype": "text/x-python",
   "name": "python",
   "nbconvert_exporter": "python",
   "pygments_lexer": "ipython3",
   "version": "3.10.0"
  },
  "orig_nbformat": 4
 },
 "nbformat": 4,
 "nbformat_minor": 2
}
