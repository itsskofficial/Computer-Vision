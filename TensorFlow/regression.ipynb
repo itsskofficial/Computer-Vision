{
 "cells": [
  {
   "cell_type": "code",
   "execution_count": 205,
   "metadata": {},
   "outputs": [
    {
     "data": {
      "text/plain": [
       "'2.9.1'"
      ]
     },
     "execution_count": 205,
     "metadata": {},
     "output_type": "execute_result"
    }
   ],
   "source": [
    "import tensorflow as tf\n",
    "tf.__version__"
   ]
  },
  {
   "attachments": {},
   "cell_type": "markdown",
   "metadata": {},
   "source": [
    "Creating data to view and fit"
   ]
  },
  {
   "cell_type": "code",
   "execution_count": 206,
   "metadata": {},
   "outputs": [],
   "source": [
    "\n",
    "import numpy as np\n",
    "import matplotlib.pyplot as plt\n",
    "\n",
    "#create features\n",
    "X=np.array([-10,-5,0,5,10])\n",
    "\n",
    "#create labels\n",
    "y=np.array([-12,-7,-2,3,8])"
   ]
  },
  {
   "cell_type": "code",
   "execution_count": 207,
   "metadata": {},
   "outputs": [
    {
     "data": {
      "text/plain": [
       "<matplotlib.collections.PathCollection at 0x1a99fdb56c0>"
      ]
     },
     "execution_count": 207,
     "metadata": {},
     "output_type": "execute_result"
    },
    {
     "data": {
      "image/png": "[encoded data removed]",
      "text/plain": [
       "<Figure size 640x480 with 1 Axes>"
      ]
     },
     "metadata": {},
     "output_type": "display_data"
    }
   ],
   "source": [
    "plt.scatter(X,y)"
   ]
  },
  {
   "cell_type": "code",
   "execution_count": 208,
   "metadata": {},
   "outputs": [
    {
     "data": {
      "text/plain": [
       "array([ True,  True,  True,  True,  True])"
      ]
     },
     "execution_count": 208,
     "metadata": {},
     "output_type": "execute_result"
    }
   ],
   "source": [
    "y==X-2"
   ]
  },
  {
   "attachments": {},
   "cell_type": "markdown",
   "metadata": {},
   "source": [
    "Input & Output Shapes"
   ]
  },
  {
   "cell_type": "code",
   "execution_count": 209,
   "metadata": {},
   "outputs": [
    {
     "data": {
      "text/plain": [
       "(<tf.Tensor: shape=(5,), dtype=float32, numpy=array([-10.,  -5.,   0.,   5.,  10.], dtype=float32)>,\n",
       " <tf.Tensor: shape=(5,), dtype=float32, numpy=array([-12.,  -7.,  -2.,   3.,   8.], dtype=float32)>)"
      ]
     },
     "execution_count": 209,
     "metadata": {},
     "output_type": "execute_result"
    }
   ],
   "source": [
    "#convert np array into tensors\n",
    "X=tf.cast(tf.constant(X), dtype=tf.float32)\n",
    "y=tf.cast(tf.constant(y), dtype=tf.float32)\n",
    "X,y\n"
   ]
  },
  {
   "attachments": {},
   "cell_type": "markdown",
   "metadata": {},
   "source": [
    "Modelling"
   ]
  },
  {
   "cell_type": "code",
   "execution_count": 210,
   "metadata": {},
   "outputs": [],
   "source": [
    "#set random seed\n",
    "tf.random.set_seed(100)"
   ]
  },
  {
   "cell_type": "code",
   "execution_count": 211,
   "metadata": {},
   "outputs": [],
   "source": [
    "#create a model sequentially\n",
    "model=tf.keras.Sequential()\n",
    "model.add(tf.keras.layers.Dense(1))"
   ]
  },
  {
   "cell_type": "code",
   "execution_count": 212,
   "metadata": {},
   "outputs": [],
   "source": [
    "#compile the model\n",
    "model.compile(loss=tf.keras.losses.mae,\n",
    "              optimizer=tf.keras.optimizers.SGD(),\n",
    "              metrics=['mae'])\n"
   ]
  },
  {
   "cell_type": "code",
   "execution_count": 213,
   "metadata": {},
   "outputs": [
    {
     "name": "stdout",
     "output_type": "stream",
     "text": [
      "Epoch 1/30\n",
      "1/1 [==============================] - 2s 2s/step - loss: 11.6169 - mae: 11.6169\n",
      "Epoch 2/30\n",
      "1/1 [==============================] - 0s 21ms/step - loss: 11.2565 - mae: 11.2565\n",
      "Epoch 3/30\n",
      "1/1 [==============================] - 0s 26ms/step - loss: 10.8961 - mae: 10.8961\n",
      "Epoch 4/30\n",
      "1/1 [==============================] - 0s 11ms/step - loss: 10.5357 - mae: 10.5357\n",
      "Epoch 5/30\n",
      "1/1 [==============================] - 0s 13ms/step - loss: 10.1753 - mae: 10.1753\n",
      "Epoch 6/30\n",
      "1/1 [==============================] - 0s 10ms/step - loss: 9.8149 - mae: 9.8149\n",
      "Epoch 7/30\n",
      "1/1 [==============================] - 0s 15ms/step - loss: 9.4545 - mae: 9.4545\n",
      "Epoch 8/30\n",
      "1/1 [==============================] - 0s 14ms/step - loss: 9.0941 - mae: 9.0941\n",
      "Epoch 9/30\n",
      "1/1 [==============================] - 0s 19ms/step - loss: 8.7337 - mae: 8.7337\n",
      "Epoch 10/30\n",
      "1/1 [==============================] - 0s 12ms/step - loss: 8.3733 - mae: 8.3733\n",
      "Epoch 11/30\n",
      "1/1 [==============================] - 0s 12ms/step - loss: 8.0129 - mae: 8.0129\n",
      "Epoch 12/30\n",
      "1/1 [==============================] - 0s 14ms/step - loss: 7.6525 - mae: 7.6525\n",
      "Epoch 13/30\n",
      "1/1 [==============================] - 0s 16ms/step - loss: 7.2921 - mae: 7.2921\n",
      "Epoch 14/30\n",
      "1/1 [==============================] - 0s 10ms/step - loss: 6.9317 - mae: 6.9317\n",
      "Epoch 15/30\n",
      "1/1 [==============================] - 0s 14ms/step - loss: 6.5713 - mae: 6.5713\n",
      "Epoch 16/30\n",
      "1/1 [==============================] - 0s 21ms/step - loss: 6.2109 - mae: 6.2109\n",
      "Epoch 17/30\n",
      "1/1 [==============================] - 0s 11ms/step - loss: 5.8505 - mae: 5.8505\n",
      "Epoch 18/30\n",
      "1/1 [==============================] - 0s 10ms/step - loss: 5.4901 - mae: 5.4901\n",
      "Epoch 19/30\n",
      "1/1 [==============================] - 0s 14ms/step - loss: 5.1297 - mae: 5.1297\n",
      "Epoch 20/30\n",
      "1/1 [==============================] - 0s 13ms/step - loss: 4.7693 - mae: 4.7693\n",
      "Epoch 21/30\n",
      "1/1 [==============================] - 0s 12ms/step - loss: 4.4089 - mae: 4.4089\n",
      "Epoch 22/30\n",
      "1/1 [==============================] - 0s 12ms/step - loss: 4.0485 - mae: 4.0485\n",
      "Epoch 23/30\n",
      "1/1 [==============================] - 0s 13ms/step - loss: 3.6881 - mae: 3.6881\n",
      "Epoch 24/30\n",
      "1/1 [==============================] - 0s 15ms/step - loss: 3.3277 - mae: 3.3277\n",
      "Epoch 25/30\n",
      "1/1 [==============================] - 0s 10ms/step - loss: 2.9673 - mae: 2.9673\n",
      "Epoch 26/30\n",
      "1/1 [==============================] - 0s 10ms/step - loss: 2.6480 - mae: 2.6480\n",
      "Epoch 27/30\n",
      "1/1 [==============================] - 0s 21ms/step - loss: 2.4844 - mae: 2.4844\n",
      "Epoch 28/30\n",
      "1/1 [==============================] - 0s 9ms/step - loss: 2.3207 - mae: 2.3207\n",
      "Epoch 29/30\n",
      "1/1 [==============================] - 0s 9ms/step - loss: 2.1572 - mae: 2.1572\n",
      "Epoch 30/30\n",
      "1/1 [==============================] - 0s 10ms/step - loss: 1.9935 - mae: 1.9935\n"
     ]
    },
    {
     "data": {
      "text/plain": [
       "<keras.callbacks.History at 0x1a99fde2560>"
      ]
     },
     "execution_count": 213,
     "metadata": {},
     "output_type": "execute_result"
    }
   ],
   "source": [
    "#fit the model\n",
    "model.fit(tf.expand_dims(X,axis=-1),y,epochs=30)"
   ]
  },
  {
   "cell_type": "code",
   "execution_count": 214,
   "metadata": {},
   "outputs": [
    {
     "name": "stdout",
     "output_type": "stream",
     "text": [
      "1/1 [==============================] - 0s 320ms/step\n"
     ]
    },
    {
     "data": {
      "text/plain": [
       "array([[4.0725627]], dtype=float32)"
      ]
     },
     "execution_count": 214,
     "metadata": {},
     "output_type": "execute_result"
    }
   ],
   "source": [
    "model.predict([5])"
   ]
  },
  {
   "attachments": {},
   "cell_type": "markdown",
   "metadata": {},
   "source": [
    "Improving the model"
   ]
  },
  {
   "cell_type": "code",
   "execution_count": 215,
   "metadata": {},
   "outputs": [],
   "source": [
    "model.add(tf.keras.layers.Dense(1))\n",
    "model.add(tf.keras.layers.Dropout(0.3))\n",
    "model.compile(loss=tf.keras.losses.mae,\n",
    "              optimizer=tf.keras.optimizers.SGD(),\n",
    "              metrics=['mae'])"
   ]
  },
  {
   "cell_type": "code",
   "execution_count": 216,
   "metadata": {},
   "outputs": [
    {
     "name": "stdout",
     "output_type": "stream",
     "text": [
      "Epoch 1/30\n",
      "1/1 [==============================] - 2s 2s/step - loss: 2.9179 - mae: 2.9179\n",
      "Epoch 2/30\n",
      "1/1 [==============================] - 0s 13ms/step - loss: 2.7886 - mae: 2.7886\n",
      "Epoch 3/30\n",
      "1/1 [==============================] - 0s 16ms/step - loss: 5.5989 - mae: 5.5989\n",
      "Epoch 4/30\n",
      "1/1 [==============================] - 0s 15ms/step - loss: 2.8021 - mae: 2.8021\n",
      "Epoch 5/30\n",
      "1/1 [==============================] - 0s 12ms/step - loss: 4.3680 - mae: 4.3680\n",
      "Epoch 6/30\n",
      "1/1 [==============================] - 0s 18ms/step - loss: 2.7469 - mae: 2.7469\n",
      "Epoch 7/30\n",
      "1/1 [==============================] - 0s 9ms/step - loss: 5.1043 - mae: 5.1043\n",
      "Epoch 8/30\n",
      "1/1 [==============================] - 0s 36ms/step - loss: 4.0572 - mae: 4.0572\n",
      "Epoch 9/30\n",
      "1/1 [==============================] - 0s 13ms/step - loss: 1.7190 - mae: 1.7190\n",
      "Epoch 10/30\n",
      "1/1 [==============================] - 0s 21ms/step - loss: 1.8742 - mae: 1.8742\n",
      "Epoch 11/30\n",
      "1/1 [==============================] - 0s 12ms/step - loss: 2.9479 - mae: 2.9479\n",
      "Epoch 12/30\n",
      "1/1 [==============================] - 0s 38ms/step - loss: 5.0494 - mae: 5.0494\n",
      "Epoch 13/30\n",
      "1/1 [==============================] - 0s 14ms/step - loss: 4.1678 - mae: 4.1678\n",
      "Epoch 14/30\n",
      "1/1 [==============================] - 0s 9ms/step - loss: 2.8892 - mae: 2.8892\n",
      "Epoch 15/30\n",
      "1/1 [==============================] - 0s 12ms/step - loss: 3.9426 - mae: 3.9426\n",
      "Epoch 16/30\n",
      "1/1 [==============================] - 0s 14ms/step - loss: 2.6898 - mae: 2.6898\n",
      "Epoch 17/30\n",
      "1/1 [==============================] - 0s 9ms/step - loss: 1.5340 - mae: 1.5340\n",
      "Epoch 18/30\n",
      "1/1 [==============================] - 0s 10ms/step - loss: 2.7629 - mae: 2.7629\n",
      "Epoch 19/30\n",
      "1/1 [==============================] - 0s 15ms/step - loss: 1.4579 - mae: 1.4579\n",
      "Epoch 20/30\n",
      "1/1 [==============================] - 0s 10ms/step - loss: 4.0507 - mae: 4.0507\n",
      "Epoch 21/30\n",
      "1/1 [==============================] - 0s 16ms/step - loss: 3.8980 - mae: 3.8980\n",
      "Epoch 22/30\n",
      "1/1 [==============================] - 0s 14ms/step - loss: 2.6581 - mae: 2.6581\n",
      "Epoch 23/30\n",
      "1/1 [==============================] - 0s 10ms/step - loss: 2.6983 - mae: 2.6983\n",
      "Epoch 24/30\n",
      "1/1 [==============================] - 0s 9ms/step - loss: 3.8704 - mae: 3.8704\n",
      "Epoch 25/30\n",
      "1/1 [==============================] - 0s 9ms/step - loss: 6.4000 - mae: 6.4000\n",
      "Epoch 26/30\n",
      "1/1 [==============================] - 0s 11ms/step - loss: 1.3080 - mae: 1.3080\n",
      "Epoch 27/30\n",
      "1/1 [==============================] - 0s 9ms/step - loss: 6.0055 - mae: 6.0055\n",
      "Epoch 28/30\n",
      "1/1 [==============================] - 0s 11ms/step - loss: 3.8226 - mae: 3.8226\n",
      "Epoch 29/30\n",
      "1/1 [==============================] - 0s 9ms/step - loss: 4.1656 - mae: 4.1656\n",
      "Epoch 30/30\n",
      "1/1 [==============================] - 0s 15ms/step - loss: 1.4722 - mae: 1.4722\n"
     ]
    },
    {
     "data": {
      "text/plain": [
       "<keras.callbacks.History at 0x1a9a0eaffa0>"
      ]
     },
     "execution_count": 216,
     "metadata": {},
     "output_type": "execute_result"
    }
   ],
   "source": [
    "model.fit(tf.expand_dims(X,axis=-1),y,epochs=30)"
   ]
  },
  {
   "cell_type": "code",
   "execution_count": 217,
   "metadata": {},
   "outputs": [
    {
     "name": "stdout",
     "output_type": "stream",
     "text": [
      "1/1 [==============================] - 0s 295ms/step\n"
     ]
    },
    {
     "data": {
      "text/plain": [
       "array([[7.403517]], dtype=float32)"
      ]
     },
     "execution_count": 217,
     "metadata": {},
     "output_type": "execute_result"
    }
   ],
   "source": [
    "model.predict([10])"
   ]
  },
  {
   "attachments": {},
   "cell_type": "markdown",
   "metadata": {},
   "source": [
    "Evaluating the model"
   ]
  },
  {
   "cell_type": "code",
   "execution_count": 219,
   "metadata": {},
   "outputs": [
    {
     "data": {
      "text/plain": [
       "<tf.Tensor: shape=(300,), dtype=int32, numpy=\n",
       "array([100, 103, 106, 109, 112, 115, 118, 121, 124, 127, 130, 133, 136,\n",
       "       139, 142, 145, 148, 151, 154, 157, 160, 163, 166, 169, 172, 175,\n",
       "       178, 181, 184, 187, 190, 193, 196, 199, 202, 205, 208, 211, 214,\n",
       "       217, 220, 223, 226, 229, 232, 235, 238, 241, 244, 247, 250, 253,\n",
       "       256, 259, 262, 265, 268, 271, 274, 277, 280, 283, 286, 289, 292,\n",
       "       295, 298, 301, 304, 307, 310, 313, 316, 319, 322, 325, 328, 331,\n",
       "       334, 337, 340, 343, 346, 349, 352, 355, 358, 361, 364, 367, 370,\n",
       "       373, 376, 379, 382, 385, 388, 391, 394, 397, 400, 403, 406, 409,\n",
       "       412, 415, 418, 421, 424, 427, 430, 433, 436, 439, 442, 445, 448,\n",
       "       451, 454, 457, 460, 463, 466, 469, 472, 475, 478, 481, 484, 487,\n",
       "       490, 493, 496, 499, 502, 505, 508, 511, 514, 517, 520, 523, 526,\n",
       "       529, 532, 535, 538, 541, 544, 547, 550, 553, 556, 559, 562, 565,\n",
       "       568, 571, 574, 577, 580, 583, 586, 589, 592, 595, 598, 601, 604,\n",
       "       607, 610, 613, 616, 619, 622, 625, 628, 631, 634, 637, 640, 643,\n",
       "       646, 649, 652, 655, 658, 661, 664, 667, 670, 673, 676, 679, 682,\n",
       "       685, 688, 691, 694, 697, 700, 703, 706, 709, 712, 715, 718, 721,\n",
       "       724, 727, 730, 733, 736, 739, 742, 745, 748, 751, 754, 757, 760,\n",
       "       763, 766, 769, 772, 775, 778, 781, 784, 787, 790, 793, 796, 799,\n",
       "       802, 805, 808, 811, 814, 817, 820, 823, 826, 829, 832, 835, 838,\n",
       "       841, 844, 847, 850, 853, 856, 859, 862, 865, 868, 871, 874, 877,\n",
       "       880, 883, 886, 889, 892, 895, 898, 901, 904, 907, 910, 913, 916,\n",
       "       919, 922, 925, 928, 931, 934, 937, 940, 943, 946, 949, 952, 955,\n",
       "       958, 961, 964, 967, 970, 973, 976, 979, 982, 985, 988, 991, 994,\n",
       "       997])>"
      ]
     },
     "execution_count": 219,
     "metadata": {},
     "output_type": "execute_result"
    }
   ],
   "source": [
    "#larger dataset\n",
    "X = tf.range(100,1000,3)\n",
    "X"
   ]
  },
  {
   "cell_type": "code",
   "execution_count": 220,
   "metadata": {},
   "outputs": [
    {
     "data": {
      "text/plain": [
       "<tf.Tensor: shape=(300,), dtype=int32, numpy=\n",
       "array([ 133,  136,  139,  142,  145,  148,  151,  154,  157,  160,  163,\n",
       "        166,  169,  172,  175,  178,  181,  184,  187,  190,  193,  196,\n",
       "        199,  202,  205,  208,  211,  214,  217,  220,  223,  226,  229,\n",
       "        232,  235,  238,  241,  244,  247,  250,  253,  256,  259,  262,\n",
       "        265,  268,  271,  274,  277,  280,  283,  286,  289,  292,  295,\n",
       "        298,  301,  304,  307,  310,  313,  316,  319,  322,  325,  328,\n",
       "        331,  334,  337,  340,  343,  346,  349,  352,  355,  358,  361,\n",
       "        364,  367,  370,  373,  376,  379,  382,  385,  388,  391,  394,\n",
       "        397,  400,  403,  406,  409,  412,  415,  418,  421,  424,  427,\n",
       "        430,  433,  436,  439,  442,  445,  448,  451,  454,  457,  460,\n",
       "        463,  466,  469,  472,  475,  478,  481,  484,  487,  490,  493,\n",
       "        496,  499,  502,  505,  508,  511,  514,  517,  520,  523,  526,\n",
       "        529,  532,  535,  538,  541,  544,  547,  550,  553,  556,  559,\n",
       "        562,  565,  568,  571,  574,  577,  580,  583,  586,  589,  592,\n",
       "        595,  598,  601,  604,  607,  610,  613,  616,  619,  622,  625,\n",
       "        628,  631,  634,  637,  640,  643,  646,  649,  652,  655,  658,\n",
       "        661,  664,  667,  670,  673,  676,  679,  682,  685,  688,  691,\n",
       "        694,  697,  700,  703,  706,  709,  712,  715,  718,  721,  724,\n",
       "        727,  730,  733,  736,  739,  742,  745,  748,  751,  754,  757,\n",
       "        760,  763,  766,  769,  772,  775,  778,  781,  784,  787,  790,\n",
       "        793,  796,  799,  802,  805,  808,  811,  814,  817,  820,  823,\n",
       "        826,  829,  832,  835,  838,  841,  844,  847,  850,  853,  856,\n",
       "        859,  862,  865,  868,  871,  874,  877,  880,  883,  886,  889,\n",
       "        892,  895,  898,  901,  904,  907,  910,  913,  916,  919,  922,\n",
       "        925,  928,  931,  934,  937,  940,  943,  946,  949,  952,  955,\n",
       "        958,  961,  964,  967,  970,  973,  976,  979,  982,  985,  988,\n",
       "        991,  994,  997, 1000, 1003, 1006, 1009, 1012, 1015, 1018, 1021,\n",
       "       1024, 1027, 1030])>"
      ]
     },
     "execution_count": 220,
     "metadata": {},
     "output_type": "execute_result"
    }
   ],
   "source": [
    "y=X+33\n",
    "y"
   ]
  },
  {
   "cell_type": "code",
   "execution_count": 221,
   "metadata": {},
   "outputs": [
    {
     "data": {
      "text/plain": [
       "[<matplotlib.lines.Line2D at 0x1a9a0ead7e0>]"
      ]
     },
     "execution_count": 221,
     "metadata": {},
     "output_type": "execute_result"
    },
    {
     "data": {
      "image/png": "[encoded data removed]",
      "text/plain": [
       "<Figure size 640x480 with 1 Axes>"
      ]
     },
     "metadata": {},
     "output_type": "display_data"
    }
   ],
   "source": [
    "#visualize the data\n",
    "plt.plot(X,y)"
   ]
  },
  {
   "cell_type": "code",
   "execution_count": 222,
   "metadata": {},
   "outputs": [
    {
     "data": {
      "text/plain": [
       "<matplotlib.collections.PathCollection at 0x1a99fbb4820>"
      ]
     },
     "execution_count": 222,
     "metadata": {},
     "output_type": "execute_result"
    },
    {
     "data": {
      "image/png": "[encoded data removed]",
      "text/plain": [
       "<Figure size 640x480 with 1 Axes>"
      ]
     },
     "metadata": {},
     "output_type": "display_data"
    }
   ],
   "source": [
    "plt.scatter(X,y)"
   ]
  },
  {
   "cell_type": "code",
   "execution_count": null,
   "metadata": {},
   "outputs": [],
   "source": [
    "X_train,y_train=tf.split()"
   ]
  }
 ],
 "metadata": {
  "kernelspec": {
   "display_name": "Python 3",
   "language": "python",
   "name": "python3"
  },
  "language_info": {
   "codemirror_mode": {
    "name": "ipython",
    "version": 3
   },
   "file_extension": ".py",
   "mimetype": "text/x-python",
   "name": "python",
   "nbconvert_exporter": "python",
   "pygments_lexer": "ipython3",
   "version": "3.10.0"
  },
  "orig_nbformat": 4
 },
 "nbformat": 4,
 "nbformat_minor": 2
}
