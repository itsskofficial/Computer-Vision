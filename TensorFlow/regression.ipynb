{
 "cells": [
  {
   "cell_type": "code",
   "execution_count": 1,
   "metadata": {},
   "outputs": [
    {
     "data": {
      "text/plain": [
       "'2.9.1'"
      ]
     },
     "execution_count": 1,
     "metadata": {},
     "output_type": "execute_result"
    }
   ],
   "source": [
    "import tensorflow as tf\n",
    "tf.__version__"
   ]
  },
  {
   "attachments": {},
   "cell_type": "markdown",
   "metadata": {},
   "source": [
    "Creating data to view and fit"
   ]
  },
  {
   "cell_type": "code",
   "execution_count": 2,
   "metadata": {},
   "outputs": [],
   "source": [
    "\n",
    "import numpy as np\n",
    "import matplotlib.pyplot as plt\n",
    "\n",
    "#create features\n",
    "X=np.array([-10,-5,0,5,10])\n",
    "\n",
    "#create labels\n",
    "y=np.array([-12,-7,-2,3,8])"
   ]
  },
  {
   "cell_type": "code",
   "execution_count": 3,
   "metadata": {},
   "outputs": [
    {
     "data": {
      "text/plain": [
       "<matplotlib.collections.PathCollection at 0x214704ce170>"
      ]
     },
     "execution_count": 3,
     "metadata": {},
     "output_type": "execute_result"
    },
    {
     "data": {
      "image/png": "[encoded data removed]",
      "text/plain": [
       "<Figure size 640x480 with 1 Axes>"
      ]
     },
     "metadata": {},
     "output_type": "display_data"
    }
   ],
   "source": [
    "plt.scatter(X,y)"
   ]
  },
  {
   "cell_type": "code",
   "execution_count": 4,
   "metadata": {},
   "outputs": [
    {
     "data": {
      "text/plain": [
       "array([ True,  True,  True,  True,  True])"
      ]
     },
     "execution_count": 4,
     "metadata": {},
     "output_type": "execute_result"
    }
   ],
   "source": [
    "y==X-2"
   ]
  },
  {
   "attachments": {},
   "cell_type": "markdown",
   "metadata": {},
   "source": [
    "Input & Output Shapes"
   ]
  },
  {
   "cell_type": "code",
   "execution_count": 5,
   "metadata": {},
   "outputs": [
    {
     "data": {
      "text/plain": [
       "(<tf.Tensor: shape=(5,), dtype=float32, numpy=array([-10.,  -5.,   0.,   5.,  10.], dtype=float32)>,\n",
       " <tf.Tensor: shape=(5,), dtype=float32, numpy=array([-12.,  -7.,  -2.,   3.,   8.], dtype=float32)>)"
      ]
     },
     "execution_count": 5,
     "metadata": {},
     "output_type": "execute_result"
    }
   ],
   "source": [
    "#convert np array into tensors\n",
    "X=tf.cast(tf.constant(X), dtype=tf.float32)\n",
    "y=tf.cast(tf.constant(y), dtype=tf.float32)\n",
    "X,y\n"
   ]
  },
  {
   "attachments": {},
   "cell_type": "markdown",
   "metadata": {},
   "source": [
    "Modelling"
   ]
  },
  {
   "cell_type": "code",
   "execution_count": 6,
   "metadata": {},
   "outputs": [],
   "source": [
    "#set random seed\n",
    "tf.random.set_seed(100)"
   ]
  },
  {
   "cell_type": "code",
   "execution_count": 7,
   "metadata": {},
   "outputs": [],
   "source": [
    "#create a model sequentially\n",
    "model=tf.keras.Sequential()\n",
    "model.add(tf.keras.layers.Dense(1))"
   ]
  },
  {
   "cell_type": "code",
   "execution_count": 8,
   "metadata": {},
   "outputs": [],
   "source": [
    "#compile the model\n",
    "model.compile(loss=tf.keras.losses.mae,\n",
    "              optimizer=tf.keras.optimizers.SGD(),\n",
    "              metrics=['mae'])\n"
   ]
  },
  {
   "cell_type": "code",
   "execution_count": 9,
   "metadata": {},
   "outputs": [
    {
     "name": "stdout",
     "output_type": "stream",
     "text": [
      "Epoch 1/30\n"
     ]
    }
   ],
   "source": [
    "#fit the model\n",
    "model.fit(tf.expand_dims(X,axis=-1),y,epochs=30)"
   ]
  },
  {
   "cell_type": "code",
   "execution_count": null,
   "metadata": {},
   "outputs": [
    {
     "name": "stdout",
     "output_type": "stream",
     "text": [
      "1/1 [==============================] - 0s 377ms/step\n"
     ]
    },
    {
     "data": {
      "text/plain": [
       "array([[4.0725627]], dtype=float32)"
      ]
     },
     "execution_count": 249,
     "metadata": {},
     "output_type": "execute_result"
    }
   ],
   "source": [
    "model.predict([5])"
   ]
  },
  {
   "attachments": {},
   "cell_type": "markdown",
   "metadata": {},
   "source": [
    "Improving the model"
   ]
  },
  {
   "cell_type": "code",
   "execution_count": null,
   "metadata": {},
   "outputs": [],
   "source": [
    "model.add(tf.keras.layers.Dense(1))\n",
    "model.add(tf.keras.layers.Dropout(0.3))\n",
    "model.compile(loss=tf.keras.losses.mae,\n",
    "              optimizer=tf.keras.optimizers.SGD(),\n",
    "              metrics=['mae'])"
   ]
  },
  {
   "cell_type": "code",
   "execution_count": null,
   "metadata": {},
   "outputs": [
    {
     "name": "stdout",
     "output_type": "stream",
     "text": [
      "Epoch 1/30\n",
      "1/1 [==============================] - 2s 2s/step - loss: 2.9179 - mae: 2.9179\n",
      "Epoch 2/30\n",
      "1/1 [==============================] - 0s 12ms/step - loss: 2.7886 - mae: 2.7886\n",
      "Epoch 3/30\n",
      "1/1 [==============================] - 0s 11ms/step - loss: 5.5989 - mae: 5.5989\n",
      "Epoch 4/30\n",
      "1/1 [==============================] - 0s 14ms/step - loss: 2.8021 - mae: 2.8021\n",
      "Epoch 5/30\n",
      "1/1 [==============================] - 0s 11ms/step - loss: 4.3680 - mae: 4.3680\n",
      "Epoch 6/30\n",
      "1/1 [==============================] - 0s 14ms/step - loss: 2.7469 - mae: 2.7469\n",
      "Epoch 7/30\n",
      "1/1 [==============================] - 0s 14ms/step - loss: 5.1043 - mae: 5.1043\n",
      "Epoch 8/30\n",
      "1/1 [==============================] - 0s 11ms/step - loss: 4.0572 - mae: 4.0572\n",
      "Epoch 9/30\n",
      "1/1 [==============================] - 0s 15ms/step - loss: 1.7190 - mae: 1.7190\n",
      "Epoch 10/30\n",
      "1/1 [==============================] - 0s 12ms/step - loss: 1.8742 - mae: 1.8742\n",
      "Epoch 11/30\n",
      "1/1 [==============================] - 0s 16ms/step - loss: 2.9479 - mae: 2.9479\n",
      "Epoch 12/30\n",
      "1/1 [==============================] - 0s 8ms/step - loss: 5.0494 - mae: 5.0494\n",
      "Epoch 13/30\n",
      "1/1 [==============================] - 0s 11ms/step - loss: 4.1678 - mae: 4.1678\n",
      "Epoch 14/30\n",
      "1/1 [==============================] - 0s 12ms/step - loss: 2.8892 - mae: 2.8892\n",
      "Epoch 15/30\n",
      "1/1 [==============================] - 0s 9ms/step - loss: 3.9426 - mae: 3.9426\n",
      "Epoch 16/30\n",
      "1/1 [==============================] - 0s 9ms/step - loss: 2.6898 - mae: 2.6898\n",
      "Epoch 17/30\n",
      "1/1 [==============================] - 0s 12ms/step - loss: 1.5340 - mae: 1.5340\n",
      "Epoch 18/30\n",
      "1/1 [==============================] - 0s 11ms/step - loss: 2.7629 - mae: 2.7629\n",
      "Epoch 19/30\n",
      "1/1 [==============================] - 0s 12ms/step - loss: 1.4579 - mae: 1.4579\n",
      "Epoch 20/30\n",
      "1/1 [==============================] - 0s 12ms/step - loss: 4.0507 - mae: 4.0507\n",
      "Epoch 21/30\n",
      "1/1 [==============================] - 0s 10ms/step - loss: 3.8980 - mae: 3.8980\n",
      "Epoch 22/30\n",
      "1/1 [==============================] - 0s 11ms/step - loss: 2.6581 - mae: 2.6581\n",
      "Epoch 23/30\n",
      "1/1 [==============================] - 0s 12ms/step - loss: 2.6983 - mae: 2.6983\n",
      "Epoch 24/30\n",
      "1/1 [==============================] - 0s 14ms/step - loss: 3.8704 - mae: 3.8704\n",
      "Epoch 25/30\n",
      "1/1 [==============================] - 0s 14ms/step - loss: 6.4000 - mae: 6.4000\n",
      "Epoch 26/30\n",
      "1/1 [==============================] - 0s 11ms/step - loss: 1.3080 - mae: 1.3080\n",
      "Epoch 27/30\n",
      "1/1 [==============================] - 0s 10ms/step - loss: 6.0055 - mae: 6.0055\n",
      "Epoch 28/30\n",
      "1/1 [==============================] - 0s 14ms/step - loss: 3.8226 - mae: 3.8226\n",
      "Epoch 29/30\n",
      "1/1 [==============================] - 0s 13ms/step - loss: 4.1656 - mae: 4.1656\n",
      "Epoch 30/30\n",
      "1/1 [==============================] - 0s 8ms/step - loss: 1.4722 - mae: 1.4722\n"
     ]
    },
    {
     "data": {
      "text/plain": [
       "<keras.callbacks.History at 0x1a9a3114a90>"
      ]
     },
     "execution_count": 251,
     "metadata": {},
     "output_type": "execute_result"
    }
   ],
   "source": [
    "model.fit(tf.expand_dims(X,axis=-1),y,epochs=30)"
   ]
  },
  {
   "cell_type": "code",
   "execution_count": null,
   "metadata": {},
   "outputs": [
    {
     "name": "stdout",
     "output_type": "stream",
     "text": [
      "1/1 [==============================] - 0s 199ms/step\n"
     ]
    },
    {
     "data": {
      "text/plain": [
       "array([[7.403517]], dtype=float32)"
      ]
     },
     "execution_count": 252,
     "metadata": {},
     "output_type": "execute_result"
    }
   ],
   "source": [
    "model.predict([10])"
   ]
  },
  {
   "attachments": {},
   "cell_type": "markdown",
   "metadata": {},
   "source": [
    "Evaluating the model"
   ]
  },
  {
   "cell_type": "code",
   "execution_count": null,
   "metadata": {},
   "outputs": [
    {
     "data": {
      "text/plain": [
       "<tf.Tensor: shape=(300,), dtype=int32, numpy=\n",
       "array([100, 103, 106, 109, 112, 115, 118, 121, 124, 127, 130, 133, 136,\n",
       "       139, 142, 145, 148, 151, 154, 157, 160, 163, 166, 169, 172, 175,\n",
       "       178, 181, 184, 187, 190, 193, 196, 199, 202, 205, 208, 211, 214,\n",
       "       217, 220, 223, 226, 229, 232, 235, 238, 241, 244, 247, 250, 253,\n",
       "       256, 259, 262, 265, 268, 271, 274, 277, 280, 283, 286, 289, 292,\n",
       "       295, 298, 301, 304, 307, 310, 313, 316, 319, 322, 325, 328, 331,\n",
       "       334, 337, 340, 343, 346, 349, 352, 355, 358, 361, 364, 367, 370,\n",
       "       373, 376, 379, 382, 385, 388, 391, 394, 397, 400, 403, 406, 409,\n",
       "       412, 415, 418, 421, 424, 427, 430, 433, 436, 439, 442, 445, 448,\n",
       "       451, 454, 457, 460, 463, 466, 469, 472, 475, 478, 481, 484, 487,\n",
       "       490, 493, 496, 499, 502, 505, 508, 511, 514, 517, 520, 523, 526,\n",
       "       529, 532, 535, 538, 541, 544, 547, 550, 553, 556, 559, 562, 565,\n",
       "       568, 571, 574, 577, 580, 583, 586, 589, 592, 595, 598, 601, 604,\n",
       "       607, 610, 613, 616, 619, 622, 625, 628, 631, 634, 637, 640, 643,\n",
       "       646, 649, 652, 655, 658, 661, 664, 667, 670, 673, 676, 679, 682,\n",
       "       685, 688, 691, 694, 697, 700, 703, 706, 709, 712, 715, 718, 721,\n",
       "       724, 727, 730, 733, 736, 739, 742, 745, 748, 751, 754, 757, 760,\n",
       "       763, 766, 769, 772, 775, 778, 781, 784, 787, 790, 793, 796, 799,\n",
       "       802, 805, 808, 811, 814, 817, 820, 823, 826, 829, 832, 835, 838,\n",
       "       841, 844, 847, 850, 853, 856, 859, 862, 865, 868, 871, 874, 877,\n",
       "       880, 883, 886, 889, 892, 895, 898, 901, 904, 907, 910, 913, 916,\n",
       "       919, 922, 925, 928, 931, 934, 937, 940, 943, 946, 949, 952, 955,\n",
       "       958, 961, 964, 967, 970, 973, 976, 979, 982, 985, 988, 991, 994,\n",
       "       997])>"
      ]
     },
     "execution_count": 253,
     "metadata": {},
     "output_type": "execute_result"
    }
   ],
   "source": [
    "#larger dataset\n",
    "X = tf.range(100,1000,3)\n",
    "X"
   ]
  },
  {
   "cell_type": "code",
   "execution_count": null,
   "metadata": {},
   "outputs": [
    {
     "data": {
      "text/plain": [
       "<tf.Tensor: shape=(300,), dtype=int32, numpy=\n",
       "array([ 133,  136,  139,  142,  145,  148,  151,  154,  157,  160,  163,\n",
       "        166,  169,  172,  175,  178,  181,  184,  187,  190,  193,  196,\n",
       "        199,  202,  205,  208,  211,  214,  217,  220,  223,  226,  229,\n",
       "        232,  235,  238,  241,  244,  247,  250,  253,  256,  259,  262,\n",
       "        265,  268,  271,  274,  277,  280,  283,  286,  289,  292,  295,\n",
       "        298,  301,  304,  307,  310,  313,  316,  319,  322,  325,  328,\n",
       "        331,  334,  337,  340,  343,  346,  349,  352,  355,  358,  361,\n",
       "        364,  367,  370,  373,  376,  379,  382,  385,  388,  391,  394,\n",
       "        397,  400,  403,  406,  409,  412,  415,  418,  421,  424,  427,\n",
       "        430,  433,  436,  439,  442,  445,  448,  451,  454,  457,  460,\n",
       "        463,  466,  469,  472,  475,  478,  481,  484,  487,  490,  493,\n",
       "        496,  499,  502,  505,  508,  511,  514,  517,  520,  523,  526,\n",
       "        529,  532,  535,  538,  541,  544,  547,  550,  553,  556,  559,\n",
       "        562,  565,  568,  571,  574,  577,  580,  583,  586,  589,  592,\n",
       "        595,  598,  601,  604,  607,  610,  613,  616,  619,  622,  625,\n",
       "        628,  631,  634,  637,  640,  643,  646,  649,  652,  655,  658,\n",
       "        661,  664,  667,  670,  673,  676,  679,  682,  685,  688,  691,\n",
       "        694,  697,  700,  703,  706,  709,  712,  715,  718,  721,  724,\n",
       "        727,  730,  733,  736,  739,  742,  745,  748,  751,  754,  757,\n",
       "        760,  763,  766,  769,  772,  775,  778,  781,  784,  787,  790,\n",
       "        793,  796,  799,  802,  805,  808,  811,  814,  817,  820,  823,\n",
       "        826,  829,  832,  835,  838,  841,  844,  847,  850,  853,  856,\n",
       "        859,  862,  865,  868,  871,  874,  877,  880,  883,  886,  889,\n",
       "        892,  895,  898,  901,  904,  907,  910,  913,  916,  919,  922,\n",
       "        925,  928,  931,  934,  937,  940,  943,  946,  949,  952,  955,\n",
       "        958,  961,  964,  967,  970,  973,  976,  979,  982,  985,  988,\n",
       "        991,  994,  997, 1000, 1003, 1006, 1009, 1012, 1015, 1018, 1021,\n",
       "       1024, 1027, 1030])>"
      ]
     },
     "execution_count": 254,
     "metadata": {},
     "output_type": "execute_result"
    }
   ],
   "source": [
    "y=X+33\n",
    "y"
   ]
  },
  {
   "cell_type": "code",
   "execution_count": null,
   "metadata": {},
   "outputs": [
    {
     "data": {
      "text/plain": [
       "[<matplotlib.lines.Line2D at 0x1a99e9b7f10>]"
      ]
     },
     "execution_count": 255,
     "metadata": {},
     "output_type": "execute_result"
    },
    {
     "data": {
      "image/png": "[encoded data removed]",
      "text/plain": [
       "<Figure size 640x480 with 1 Axes>"
      ]
     },
     "metadata": {},
     "output_type": "display_data"
    }
   ],
   "source": [
    "#visualize the data\n",
    "plt.plot(X,y)"
   ]
  },
  {
   "cell_type": "code",
   "execution_count": null,
   "metadata": {},
   "outputs": [
    {
     "data": {
      "text/plain": [
       "<matplotlib.collections.PathCollection at 0x1a9a321cbb0>"
      ]
     },
     "execution_count": 256,
     "metadata": {},
     "output_type": "execute_result"
    },
    {
     "data": {
      "image/png": "[encoded data removed]",
      "text/plain": [
       "<Figure size 640x480 with 1 Axes>"
      ]
     },
     "metadata": {},
     "output_type": "display_data"
    }
   ],
   "source": [
    "plt.scatter(X,y)"
   ]
  },
  {
   "cell_type": "code",
   "execution_count": null,
   "metadata": {},
   "outputs": [
    {
     "data": {
      "text/plain": [
       "300"
      ]
     },
     "execution_count": 257,
     "metadata": {},
     "output_type": "execute_result"
    }
   ],
   "source": [
    "len(X)"
   ]
  },
  {
   "cell_type": "code",
   "execution_count": null,
   "metadata": {},
   "outputs": [
    {
     "data": {
      "text/plain": [
       "(240, 60)"
      ]
     },
     "execution_count": 258,
     "metadata": {},
     "output_type": "execute_result"
    }
   ],
   "source": [
    "X_train,y_train = X[:240],y[:240]\n",
    "X_test,y_test = X[240:],y[240:]\n",
    "len(X_train),len(X_test)"
   ]
  },
  {
   "cell_type": "code",
   "execution_count": null,
   "metadata": {},
   "outputs": [
    {
     "data": {
      "text/plain": [
       "<matplotlib.collections.PathCollection at 0x1a9a3267040>"
      ]
     },
     "execution_count": 259,
     "metadata": {},
     "output_type": "execute_result"
    },
    {
     "data": {
      "image/png": "[encoded data removed]",
      "text/plain": [
       "<Figure size 1000x700 with 1 Axes>"
      ]
     },
     "metadata": {},
     "output_type": "display_data"
    }
   ],
   "source": [
    "#visualizing the sets\n",
    "plt.figure(figsize=(10,7))\n",
    "plt.scatter(X_train,y_train,c='r',label='Training Data')\n",
    "plt.scatter(X_test,y_test,c='b',label='Testing Data')"
   ]
  },
  {
   "cell_type": "code",
   "execution_count": null,
   "metadata": {},
   "outputs": [],
   "source": [
    "#building the model\n",
    "model=tf.keras.Sequential()\n",
    "model.add(tf.keras.layers.Dense(1, input_shape=[1]))\n"
   ]
  },
  {
   "cell_type": "code",
   "execution_count": null,
   "metadata": {},
   "outputs": [],
   "source": [
    "#compiling the model\n",
    "model.compile(loss=tf.keras.losses.mae,\n",
    "              optimizer=tf.keras.optimizers.Adam(learning_rate=0.001),\n",
    "              metrics=['mae'])"
   ]
  },
  {
   "cell_type": "code",
   "execution_count": null,
   "metadata": {},
   "outputs": [
    {
     "name": "stdout",
     "output_type": "stream",
     "text": [
      "Model: \"sequential_28\"\n",
      "_________________________________________________________________\n",
      " Layer (type)                Output Shape              Param #   \n",
      "=================================================================\n",
      " dense_51 (Dense)            (None, 1)                 2         \n",
      "                                                                 \n",
      "=================================================================\n",
      "Total params: 2\n",
      "Trainable params: 2\n",
      "Non-trainable params: 0\n",
      "_________________________________________________________________\n"
     ]
    }
   ],
   "source": [
    "model.summary()"
   ]
  },
  {
   "cell_type": "code",
   "execution_count": null,
   "metadata": {},
   "outputs": [
    {
     "name": "stdout",
     "output_type": "stream",
     "text": [
      "Epoch 1/100\n",
      "8/8 [==============================] - 1s 5ms/step - loss: 274.2165 - mae: 274.2165\n",
      "Epoch 2/100\n",
      "8/8 [==============================] - 0s 7ms/step - loss: 270.5305 - mae: 270.5305\n",
      "Epoch 3/100\n",
      "8/8 [==============================] - 0s 5ms/step - loss: 266.9054 - mae: 266.9054\n",
      "Epoch 4/100\n",
      "8/8 [==============================] - 0s 7ms/step - loss: 263.2039 - mae: 263.2039\n",
      "Epoch 5/100\n",
      "8/8 [==============================] - 0s 4ms/step - loss: 259.5714 - mae: 259.5714\n",
      "Epoch 6/100\n",
      "8/8 [==============================] - 0s 9ms/step - loss: 255.8953 - mae: 255.8953\n",
      "Epoch 7/100\n",
      "8/8 [==============================] - 0s 8ms/step - loss: 252.2229 - mae: 252.2229\n",
      "Epoch 8/100\n",
      "8/8 [==============================] - 0s 4ms/step - loss: 248.5546 - mae: 248.5546\n",
      "Epoch 9/100\n",
      "8/8 [==============================] - 0s 7ms/step - loss: 244.8887 - mae: 244.8887\n",
      "Epoch 10/100\n",
      "8/8 [==============================] - 0s 4ms/step - loss: 241.2604 - mae: 241.2604\n",
      "Epoch 11/100\n",
      "8/8 [==============================] - 0s 7ms/step - loss: 237.5478 - mae: 237.5478\n",
      "Epoch 12/100\n",
      "8/8 [==============================] - 0s 4ms/step - loss: 233.8833 - mae: 233.8833\n",
      "Epoch 13/100\n",
      "8/8 [==============================] - 0s 5ms/step - loss: 230.2075 - mae: 230.2075\n",
      "Epoch 14/100\n",
      "8/8 [==============================] - 0s 4ms/step - loss: 226.5105 - mae: 226.5105\n",
      "Epoch 15/100\n",
      "8/8 [==============================] - 0s 6ms/step - loss: 222.8543 - mae: 222.8543\n",
      "Epoch 16/100\n",
      "8/8 [==============================] - 0s 5ms/step - loss: 219.1675 - mae: 219.1675\n",
      "Epoch 17/100\n",
      "8/8 [==============================] - 0s 5ms/step - loss: 215.4991 - mae: 215.4991\n",
      "Epoch 18/100\n",
      "8/8 [==============================] - 0s 4ms/step - loss: 211.8046 - mae: 211.8046\n",
      "Epoch 19/100\n",
      "8/8 [==============================] - 0s 8ms/step - loss: 208.1414 - mae: 208.1414\n",
      "Epoch 20/100\n",
      "8/8 [==============================] - 0s 5ms/step - loss: 204.4287 - mae: 204.4287\n",
      "Epoch 21/100\n",
      "8/8 [==============================] - 0s 4ms/step - loss: 200.7986 - mae: 200.7986\n",
      "Epoch 22/100\n",
      "8/8 [==============================] - 0s 5ms/step - loss: 197.1421 - mae: 197.1421\n",
      "Epoch 23/100\n",
      "8/8 [==============================] - 0s 4ms/step - loss: 193.4678 - mae: 193.4678\n",
      "Epoch 24/100\n",
      "8/8 [==============================] - 0s 4ms/step - loss: 189.7810 - mae: 189.7810\n",
      "Epoch 25/100\n",
      "8/8 [==============================] - 0s 7ms/step - loss: 186.0597 - mae: 186.0597\n",
      "Epoch 26/100\n",
      "8/8 [==============================] - 0s 5ms/step - loss: 182.4681 - mae: 182.4681\n",
      "Epoch 27/100\n",
      "8/8 [==============================] - 0s 4ms/step - loss: 178.7270 - mae: 178.7270\n",
      "Epoch 28/100\n",
      "8/8 [==============================] - 0s 3ms/step - loss: 175.1073 - mae: 175.1073\n",
      "Epoch 29/100\n",
      "8/8 [==============================] - 0s 6ms/step - loss: 171.4413 - mae: 171.4413\n",
      "Epoch 30/100\n",
      "8/8 [==============================] - 0s 4ms/step - loss: 167.7473 - mae: 167.7473\n",
      "Epoch 31/100\n",
      "8/8 [==============================] - 0s 4ms/step - loss: 164.1288 - mae: 164.1288\n",
      "Epoch 32/100\n",
      "8/8 [==============================] - 0s 6ms/step - loss: 160.4556 - mae: 160.4556\n",
      "Epoch 33/100\n",
      "8/8 [==============================] - 0s 5ms/step - loss: 156.7618 - mae: 156.7618\n",
      "Epoch 34/100\n",
      "8/8 [==============================] - 0s 4ms/step - loss: 153.1061 - mae: 153.1061\n",
      "Epoch 35/100\n",
      "8/8 [==============================] - 0s 4ms/step - loss: 149.4203 - mae: 149.4203\n",
      "Epoch 36/100\n",
      "8/8 [==============================] - 0s 4ms/step - loss: 145.7332 - mae: 145.7332\n",
      "Epoch 37/100\n",
      "8/8 [==============================] - 0s 8ms/step - loss: 142.1114 - mae: 142.1114\n",
      "Epoch 38/100\n",
      "8/8 [==============================] - 0s 5ms/step - loss: 138.4341 - mae: 138.4341\n",
      "Epoch 39/100\n",
      "8/8 [==============================] - 0s 4ms/step - loss: 134.7512 - mae: 134.7512\n",
      "Epoch 40/100\n",
      "8/8 [==============================] - 0s 5ms/step - loss: 131.0640 - mae: 131.0640\n",
      "Epoch 41/100\n",
      "8/8 [==============================] - 0s 4ms/step - loss: 127.3728 - mae: 127.3728\n",
      "Epoch 42/100\n",
      "8/8 [==============================] - 0s 4ms/step - loss: 123.7340 - mae: 123.7340\n",
      "Epoch 43/100\n",
      "8/8 [==============================] - 0s 4ms/step - loss: 119.9844 - mae: 119.9844\n",
      "Epoch 44/100\n",
      "8/8 [==============================] - 0s 4ms/step - loss: 116.3019 - mae: 116.3019\n",
      "Epoch 45/100\n",
      "8/8 [==============================] - 0s 4ms/step - loss: 112.6207 - mae: 112.6207\n",
      "Epoch 46/100\n",
      "8/8 [==============================] - 0s 5ms/step - loss: 108.9190 - mae: 108.9190\n",
      "Epoch 47/100\n",
      "8/8 [==============================] - 0s 6ms/step - loss: 105.2984 - mae: 105.2984\n",
      "Epoch 48/100\n",
      "8/8 [==============================] - 0s 3ms/step - loss: 101.6248 - mae: 101.6248\n",
      "Epoch 49/100\n",
      "8/8 [==============================] - 0s 5ms/step - loss: 97.9128 - mae: 97.9128\n",
      "Epoch 50/100\n",
      "8/8 [==============================] - 0s 4ms/step - loss: 94.3068 - mae: 94.3068\n",
      "Epoch 51/100\n",
      "8/8 [==============================] - 0s 6ms/step - loss: 90.6236 - mae: 90.6236\n",
      "Epoch 52/100\n",
      "8/8 [==============================] - 0s 4ms/step - loss: 86.9471 - mae: 86.9471\n",
      "Epoch 53/100\n",
      "8/8 [==============================] - 0s 5ms/step - loss: 83.2505 - mae: 83.2505\n",
      "Epoch 54/100\n",
      "8/8 [==============================] - 0s 4ms/step - loss: 79.5888 - mae: 79.5888\n",
      "Epoch 55/100\n",
      "8/8 [==============================] - 0s 5ms/step - loss: 75.9486 - mae: 75.9486\n",
      "Epoch 56/100\n",
      "8/8 [==============================] - 0s 5ms/step - loss: 72.2703 - mae: 72.2703\n",
      "Epoch 57/100\n",
      "8/8 [==============================] - 0s 3ms/step - loss: 68.6032 - mae: 68.6032\n",
      "Epoch 58/100\n",
      "8/8 [==============================] - 0s 4ms/step - loss: 64.9794 - mae: 64.9794\n",
      "Epoch 59/100\n",
      "8/8 [==============================] - 0s 5ms/step - loss: 61.3053 - mae: 61.3053\n",
      "Epoch 60/100\n",
      "8/8 [==============================] - 0s 5ms/step - loss: 57.6575 - mae: 57.6575\n",
      "Epoch 61/100\n",
      "8/8 [==============================] - 0s 4ms/step - loss: 54.0287 - mae: 54.0287\n",
      "Epoch 62/100\n",
      "8/8 [==============================] - 0s 4ms/step - loss: 50.3521 - mae: 50.3521\n",
      "Epoch 63/100\n",
      "8/8 [==============================] - 0s 6ms/step - loss: 46.7165 - mae: 46.7165\n",
      "Epoch 64/100\n",
      "8/8 [==============================] - 0s 6ms/step - loss: 43.0103 - mae: 43.0103\n",
      "Epoch 65/100\n",
      "8/8 [==============================] - 0s 3ms/step - loss: 39.3620 - mae: 39.3620\n",
      "Epoch 66/100\n",
      "8/8 [==============================] - 0s 5ms/step - loss: 35.6659 - mae: 35.6659\n",
      "Epoch 67/100\n",
      "8/8 [==============================] - 0s 5ms/step - loss: 31.9925 - mae: 31.9925\n",
      "Epoch 68/100\n",
      "8/8 [==============================] - 0s 7ms/step - loss: 28.2903 - mae: 28.2903\n",
      "Epoch 69/100\n",
      "8/8 [==============================] - 0s 5ms/step - loss: 24.6555 - mae: 24.6555\n",
      "Epoch 70/100\n",
      "8/8 [==============================] - 0s 4ms/step - loss: 20.9586 - mae: 20.9586\n",
      "Epoch 71/100\n",
      "8/8 [==============================] - 0s 6ms/step - loss: 17.2751 - mae: 17.2751\n",
      "Epoch 72/100\n",
      "8/8 [==============================] - 0s 6ms/step - loss: 13.7163 - mae: 13.7163\n",
      "Epoch 73/100\n",
      "8/8 [==============================] - 0s 9ms/step - loss: 11.6782 - mae: 11.6782\n",
      "Epoch 74/100\n",
      "8/8 [==============================] - 0s 4ms/step - loss: 11.0208 - mae: 11.0208\n",
      "Epoch 75/100\n",
      "8/8 [==============================] - 0s 3ms/step - loss: 10.9423 - mae: 10.9423\n",
      "Epoch 76/100\n",
      "8/8 [==============================] - 0s 7ms/step - loss: 10.9575 - mae: 10.9575\n",
      "Epoch 77/100\n",
      "8/8 [==============================] - 0s 4ms/step - loss: 10.9708 - mae: 10.9708\n",
      "Epoch 78/100\n",
      "8/8 [==============================] - 0s 3ms/step - loss: 10.9652 - mae: 10.9652\n",
      "Epoch 79/100\n",
      "8/8 [==============================] - 0s 5ms/step - loss: 10.9621 - mae: 10.9621\n",
      "Epoch 80/100\n",
      "8/8 [==============================] - 0s 7ms/step - loss: 10.9571 - mae: 10.9571\n",
      "Epoch 81/100\n",
      "8/8 [==============================] - 0s 5ms/step - loss: 10.9524 - mae: 10.9524\n",
      "Epoch 82/100\n",
      "8/8 [==============================] - 0s 6ms/step - loss: 10.9491 - mae: 10.9491\n",
      "Epoch 83/100\n",
      "8/8 [==============================] - 0s 5ms/step - loss: 10.9475 - mae: 10.9475\n",
      "Epoch 84/100\n",
      "8/8 [==============================] - 0s 4ms/step - loss: 10.9478 - mae: 10.9478\n",
      "Epoch 85/100\n",
      "8/8 [==============================] - 0s 4ms/step - loss: 10.9448 - mae: 10.9448\n",
      "Epoch 86/100\n",
      "8/8 [==============================] - 0s 4ms/step - loss: 10.9455 - mae: 10.9455\n",
      "Epoch 87/100\n",
      "8/8 [==============================] - 0s 4ms/step - loss: 10.9439 - mae: 10.9439\n",
      "Epoch 88/100\n",
      "8/8 [==============================] - 0s 5ms/step - loss: 10.9448 - mae: 10.9448\n",
      "Epoch 89/100\n",
      "8/8 [==============================] - 0s 4ms/step - loss: 10.9413 - mae: 10.9413\n",
      "Epoch 90/100\n",
      "8/8 [==============================] - 0s 4ms/step - loss: 10.9399 - mae: 10.9399\n",
      "Epoch 91/100\n",
      "8/8 [==============================] - 0s 6ms/step - loss: 10.9392 - mae: 10.9392\n",
      "Epoch 92/100\n",
      "8/8 [==============================] - 0s 4ms/step - loss: 10.9381 - mae: 10.9381\n",
      "Epoch 93/100\n",
      "8/8 [==============================] - 0s 5ms/step - loss: 10.9367 - mae: 10.9367\n",
      "Epoch 94/100\n",
      "8/8 [==============================] - 0s 11ms/step - loss: 10.9371 - mae: 10.9371\n",
      "Epoch 95/100\n",
      "8/8 [==============================] - 0s 9ms/step - loss: 10.9365 - mae: 10.9365\n",
      "Epoch 96/100\n",
      "8/8 [==============================] - 0s 4ms/step - loss: 10.9334 - mae: 10.9334\n",
      "Epoch 97/100\n",
      "8/8 [==============================] - 0s 3ms/step - loss: 10.9330 - mae: 10.9330\n",
      "Epoch 98/100\n",
      "8/8 [==============================] - 0s 11ms/step - loss: 10.9318 - mae: 10.9318\n",
      "Epoch 99/100\n",
      "8/8 [==============================] - 0s 5ms/step - loss: 10.9324 - mae: 10.9324\n",
      "Epoch 100/100\n",
      "8/8 [==============================] - 0s 8ms/step - loss: 10.9294 - mae: 10.9294\n"
     ]
    },
    {
     "data": {
      "text/plain": [
       "<keras.callbacks.History at 0x1a9a7d30ac0>"
      ]
     },
     "execution_count": 333,
     "metadata": {},
     "output_type": "execute_result"
    }
   ],
   "source": [
    "#fitting the model\n",
    "model.fit(X_train,y_train, epochs = 100)"
   ]
  },
  {
   "cell_type": "code",
   "execution_count": null,
   "metadata": {},
   "outputs": [
    {
     "name": "stdout",
     "output_type": "stream",
     "text": [
      "You must install pydot (`pip install pydot`) and install graphviz (see instructions at https://graphviz.gitlab.io/download/) for plot_model/model_to_dot to work.\n"
     ]
    }
   ],
   "source": [
    "tf.keras.utils.plot_model(model=model,show_shapes=True)"
   ]
  },
  {
   "cell_type": "code",
   "execution_count": null,
   "metadata": {},
   "outputs": [
    {
     "name": "stdout",
     "output_type": "stream",
     "text": [
      "2/2 [==============================] - 0s 7ms/step\n"
     ]
    },
    {
     "data": {
      "text/plain": [
       "(array([[ 865.63794],\n",
       "        [ 868.7998 ],\n",
       "        [ 871.96173],\n",
       "        [ 875.1236 ],\n",
       "        [ 878.28546],\n",
       "        [ 881.4474 ],\n",
       "        [ 884.60925],\n",
       "        [ 887.7712 ],\n",
       "        [ 890.93304],\n",
       "        [ 894.0949 ],\n",
       "        [ 897.25684],\n",
       "        [ 900.4187 ],\n",
       "        [ 903.5806 ],\n",
       "        [ 906.7425 ],\n",
       "        [ 909.90436],\n",
       "        [ 913.0663 ],\n",
       "        [ 916.22815],\n",
       "        [ 919.3901 ],\n",
       "        [ 922.55194],\n",
       "        [ 925.7138 ],\n",
       "        [ 928.87573],\n",
       "        [ 932.0376 ],\n",
       "        [ 935.1995 ],\n",
       "        [ 938.3614 ],\n",
       "        [ 941.52325],\n",
       "        [ 944.6852 ],\n",
       "        [ 947.84705],\n",
       "        [ 951.009  ],\n",
       "        [ 954.17084],\n",
       "        [ 957.3327 ],\n",
       "        [ 960.4946 ],\n",
       "        [ 963.6565 ],\n",
       "        [ 966.8184 ],\n",
       "        [ 969.9803 ],\n",
       "        [ 973.14215],\n",
       "        [ 976.3041 ],\n",
       "        [ 979.46594],\n",
       "        [ 982.62787],\n",
       "        [ 985.78973],\n",
       "        [ 988.9516 ],\n",
       "        [ 992.1135 ],\n",
       "        [ 995.2754 ],\n",
       "        [ 998.4373 ],\n",
       "        [1001.5992 ],\n",
       "        [1004.76105],\n",
       "        [1007.923  ],\n",
       "        [1011.08484],\n",
       "        [1014.24677],\n",
       "        [1017.4086 ],\n",
       "        [1020.5705 ],\n",
       "        [1023.7324 ],\n",
       "        [1026.8944 ],\n",
       "        [1030.0563 ],\n",
       "        [1033.2181 ],\n",
       "        [1036.38   ],\n",
       "        [1039.5419 ],\n",
       "        [1042.7039 ],\n",
       "        [1045.8657 ],\n",
       "        [1049.0276 ],\n",
       "        [1052.1895 ]], dtype=float32),\n",
       " <tf.Tensor: shape=(60,), dtype=int32, numpy=\n",
       " array([ 853,  856,  859,  862,  865,  868,  871,  874,  877,  880,  883,\n",
       "         886,  889,  892,  895,  898,  901,  904,  907,  910,  913,  916,\n",
       "         919,  922,  925,  928,  931,  934,  937,  940,  943,  946,  949,\n",
       "         952,  955,  958,  961,  964,  967,  970,  973,  976,  979,  982,\n",
       "         985,  988,  991,  994,  997, 1000, 1003, 1006, 1009, 1012, 1015,\n",
       "        1018, 1021, 1024, 1027, 1030])>)"
      ]
     },
     "execution_count": 335,
     "metadata": {},
     "output_type": "execute_result"
    }
   ],
   "source": [
    "#visualizing model's predictions\n",
    "y_pred=model.predict(X_test)\n",
    "y_pred,y_test"
   ]
  },
  {
   "cell_type": "code",
   "execution_count": null,
   "metadata": {},
   "outputs": [],
   "source": [
    "#plotting predictions\n",
    "def plot_predictions(train_data=X_train,\n",
    "                     train_labels=y_train,\n",
    "                     test_data=X_test,\n",
    "                     test_labels=y_test,\n",
    "                     predictions=y_pred):\n",
    "    \"\"\"Plotting predictions\"\"\"\n",
    "    plt.figure(figsize=(10,7))\n",
    "    plt.scatter(train_data,train_labels,s=1,c='r', label=\"Training data\")\n",
    "    plt.scatter(test_data,test_labels,s=1,c='b', label=\"Testing data\")\n",
    "    plt.scatter(test_data,predictions,s=1,c='g',label='Predictions')\n",
    "    plt.legend();\n"
   ]
  },
  {
   "cell_type": "code",
   "execution_count": null,
   "metadata": {},
   "outputs": [
    {
     "data": {
      "image/png": "[encoded data removed]",
      "text/plain": [
       "<Figure size 1000x700 with 1 Axes>"
      ]
     },
     "metadata": {},
     "output_type": "display_data"
    }
   ],
   "source": [
    "plot_predictions()"
   ]
  },
  {
   "cell_type": "code",
   "execution_count": null,
   "metadata": {},
   "outputs": [
    {
     "name": "stdout",
     "output_type": "stream",
     "text": [
      "2/2 [==============================] - 13s 10ms/step - loss: 17.4137 - mae: 17.4137\n"
     ]
    },
    {
     "data": {
      "text/plain": [
       "[17.41368293762207, 17.41368293762207]"
      ]
     },
     "execution_count": 342,
     "metadata": {},
     "output_type": "execute_result"
    }
   ],
   "source": [
    "#eva;uating with evaluation metrics\n",
    "model.evaluate(X_test,y_test)"
   ]
  },
  {
   "cell_type": "code",
   "execution_count": null,
   "metadata": {},
   "outputs": [
    {
     "name": "stdout",
     "output_type": "stream",
     "text": [
      "2/2 [==============================] - 2s 9ms/step - loss: 34.7808 - mae: 34.7808\n"
     ]
    },
    {
     "data": {
      "text/plain": [
       "[34.78079605102539, 34.78079605102539]"
      ]
     },
     "execution_count": 344,
     "metadata": {},
     "output_type": "execute_result"
    }
   ],
   "source": [
    "model.evaluate(y_test,y_pred)"
   ]
  },
  {
   "cell_type": "code",
   "execution_count": null,
   "metadata": {},
   "outputs": [
    {
     "data": {
      "text/plain": [
       "<tf.Tensor: shape=(), dtype=float32, numpy=17.413683>"
      ]
     },
     "execution_count": 346,
     "metadata": {},
     "output_type": "execute_result"
    }
   ],
   "source": [
    "y_pred=tf.squeeze(tf.constant(y_pred))\n",
    "tf.metrics.MAE(y_test,y_pred)"
   ]
  },
  {
   "cell_type": "code",
   "execution_count": null,
   "metadata": {},
   "outputs": [
    {
     "data": {
      "text/plain": [
       "<tf.Tensor: shape=(), dtype=float32, numpy=311.09668>"
      ]
     },
     "execution_count": 347,
     "metadata": {},
     "output_type": "execute_result"
    }
   ],
   "source": [
    "tf.metrics.MSE(y_test,y_pred)"
   ]
  },
  {
   "cell_type": "code",
   "execution_count": 350,
   "metadata": {},
   "outputs": [
    {
     "data": {
      "text/plain": [
       "<matplotlib.collections.PathCollection at 0x1a9ab4c5c60>"
      ]
     },
     "execution_count": 350,
     "metadata": {},
     "output_type": "execute_result"
    },
    {
     "data": {
      "image/png": "[encoded data removed]",
      "text/plain": [
       "<Figure size 640x480 with 1 Axes>"
      ]
     },
     "metadata": {},
     "output_type": "display_data"
    }
   ],
   "source": [
    "plt.scatter(y_test,y_pred, c='r')\n",
    "plt.scatter(X_test,y_test, c='b')"
   ]
  }
 ],
 "metadata": {
  "kernelspec": {
   "display_name": "Python 3",
   "language": "python",
   "name": "python3"
  },
  "language_info": {
   "codemirror_mode": {
    "name": "ipython",
    "version": 3
   },
   "file_extension": ".py",
   "mimetype": "text/x-python",
   "name": "python",
   "nbconvert_exporter": "python",
   "pygments_lexer": "ipython3",
   "version": "3.10.0"
  },
  "orig_nbformat": 4
 },
 "nbformat": 4,
 "nbformat_minor": 2
}
