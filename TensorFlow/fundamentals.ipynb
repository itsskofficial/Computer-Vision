{
 "cells": [
  {
   "cell_type": "code",
   "execution_count": 1,
   "metadata": {},
   "outputs": [
    {
     "name": "stdout",
     "output_type": "stream",
     "text": [
      "2.9.1\n"
     ]
    }
   ],
   "source": [
    "import tensorflow as tf\n",
    "print (tf.__version__)"
   ]
  },
  {
   "cell_type": "code",
   "execution_count": 2,
   "metadata": {},
   "outputs": [
    {
     "data": {
      "text/plain": [
       "<tf.Tensor: shape=(), dtype=int32, numpy=3>"
      ]
     },
     "execution_count": 2,
     "metadata": {},
     "output_type": "execute_result"
    }
   ],
   "source": [
    "scalar = tf.constant(3)\n",
    "scalar"
   ]
  },
  {
   "cell_type": "code",
   "execution_count": 3,
   "metadata": {},
   "outputs": [
    {
     "data": {
      "text/plain": [
       "0"
      ]
     },
     "execution_count": 3,
     "metadata": {},
     "output_type": "execute_result"
    }
   ],
   "source": [
    "#check number of dimensions\n",
    "scalar.ndim"
   ]
  },
  {
   "cell_type": "code",
   "execution_count": 4,
   "metadata": {},
   "outputs": [
    {
     "data": {
      "text/plain": [
       "<tf.Tensor: shape=(2,), dtype=int32, numpy=array([3, 3])>"
      ]
     },
     "execution_count": 4,
     "metadata": {},
     "output_type": "execute_result"
    }
   ],
   "source": [
    "#create a vector\n",
    "vector = tf.constant([3,3])\n",
    "vector "
   ]
  },
  {
   "cell_type": "code",
   "execution_count": 5,
   "metadata": {},
   "outputs": [
    {
     "data": {
      "text/plain": [
       "<tf.Tensor: shape=(2, 2), dtype=int32, numpy=\n",
       "array([[3, 3],\n",
       "       [3, 3]])>"
      ]
     },
     "execution_count": 5,
     "metadata": {},
     "output_type": "execute_result"
    }
   ],
   "source": [
    "#create a matrix \n",
    "matrix1 = tf.constant([[3,3],\n",
    "                      [3,3]])\n",
    "matrix1"
   ]
  },
  {
   "cell_type": "code",
   "execution_count": 6,
   "metadata": {},
   "outputs": [
    {
     "data": {
      "text/plain": [
       "<tf.Tensor: shape=(2, 2), dtype=float16, numpy=\n",
       "array([[3.3, 3.3],\n",
       "       [3.3, 3.3]], dtype=float16)>"
      ]
     },
     "execution_count": 6,
     "metadata": {},
     "output_type": "execute_result"
    }
   ],
   "source": [
    "#create matrix with dtype\n",
    "matrix2= tf.constant([[3.3,3.3],\n",
    "                      [3.3,3.3]], dtype=tf.float16)\n",
    "matrix2"
   ]
  },
  {
   "cell_type": "code",
   "execution_count": 7,
   "metadata": {},
   "outputs": [
    {
     "data": {
      "text/plain": [
       "<tf.Tensor: shape=(1, 3, 3), dtype=int32, numpy=\n",
       "array([[[3, 3, 3],\n",
       "        [3, 3, 3],\n",
       "        [3, 3, 3]]])>"
      ]
     },
     "execution_count": 7,
     "metadata": {},
     "output_type": "execute_result"
    }
   ],
   "source": [
    "#create 3x3 matrix\n",
    "matrix3=tf.constant([[[3,3,3],\n",
    "                      [3,3,3],\n",
    "                      [3,3,3]]])\n",
    "matrix3"
   ]
  },
  {
   "cell_type": "code",
   "execution_count": 8,
   "metadata": {},
   "outputs": [
    {
     "ename": "AttributeError",
     "evalue": "module 'tensorflow' has no attribute 'variable'",
     "output_type": "error",
     "traceback": [
      "\u001b[1;31m---------------------------------------------------------------------------\u001b[0m",
      "\u001b[1;31mAttributeError\u001b[0m                            Traceback (most recent call last)",
      "\u001b[1;32md:\\Skills\\Repos\\Deep Learning\\TensorFlow\\fundamentals.ipynb Cell 8\u001b[0m in \u001b[0;36m2\n\u001b[0;32m      <a href='vscode-notebook-cell:/d%3A/Skills/Repos/Deep%20Learning/TensorFlow/fundamentals.ipynb#X10sZmlsZQ%3D%3D?line=0'>1</a>\u001b[0m \u001b[39m#creating a tensor variable\u001b[39;00m\n\u001b[1;32m----> <a href='vscode-notebook-cell:/d%3A/Skills/Repos/Deep%20Learning/TensorFlow/fundamentals.ipynb#X10sZmlsZQ%3D%3D?line=1'>2</a>\u001b[0m var\u001b[39m=\u001b[39mtf\u001b[39m.\u001b[39;49mvariable([\u001b[39m3\u001b[39m,\u001b[39m3\u001b[39m])\n\u001b[0;32m      <a href='vscode-notebook-cell:/d%3A/Skills/Repos/Deep%20Learning/TensorFlow/fundamentals.ipynb#X10sZmlsZQ%3D%3D?line=2'>3</a>\u001b[0m const\u001b[39m=\u001b[39mtf\u001b[39m.\u001b[39mconstant([\u001b[39m3\u001b[39m,\u001b[39m3\u001b[39m])\n",
      "\u001b[1;31mAttributeError\u001b[0m: module 'tensorflow' has no attribute 'variable'"
     ]
    }
   ],
   "source": [
    "#creating a tensor variable\n",
    "var=tf.variable([3,3])\n",
    "const=tf.constant([3,3])"
   ]
  }
 ],
 "metadata": {
  "kernelspec": {
   "display_name": "Python 3",
   "language": "python",
   "name": "python3"
  },
  "language_info": {
   "codemirror_mode": {
    "name": "ipython",
    "version": 3
   },
   "file_extension": ".py",
   "mimetype": "text/x-python",
   "name": "python",
   "nbconvert_exporter": "python",
   "pygments_lexer": "ipython3",
   "version": "3.10.0"
  },
  "orig_nbformat": 4
 },
 "nbformat": 4,
 "nbformat_minor": 2
}
