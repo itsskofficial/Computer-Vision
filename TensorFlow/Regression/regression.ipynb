{
 "cells": [
  {
   "cell_type": "code",
   "execution_count": 107,
   "metadata": {},
   "outputs": [
    {
     "data": {
      "text/plain": [
       "'2.9.1'"
      ]
     },
     "execution_count": 107,
     "metadata": {},
     "output_type": "execute_result"
    }
   ],
   "source": [
    "import tensorflow as tf\n",
    "tf.__version__"
   ]
  },
  {
   "attachments": {},
   "cell_type": "markdown",
   "metadata": {},
   "source": [
    "Creating data to view and fit"
   ]
  },
  {
   "cell_type": "code",
   "execution_count": 108,
   "metadata": {},
   "outputs": [],
   "source": [
    "\n",
    "import numpy as np\n",
    "import matplotlib.pyplot as plt\n",
    "\n",
    "#create features\n",
    "X=np.array([-10,-5,0,5,10])\n",
    "\n",
    "#create labels\n",
    "y=np.array([-12,-7,-2,3,8])"
   ]
  },
  {
   "cell_type": "code",
   "execution_count": 109,
   "metadata": {},
   "outputs": [
    {
     "data": {
      "text/plain": [
       "<matplotlib.collections.PathCollection at 0x2cf84516020>"
      ]
     },
     "execution_count": 109,
     "metadata": {},
     "output_type": "execute_result"
    },
    {
     "data": {
      "image/png": "[encoded data removed]",
      "text/plain": [
       "<Figure size 640x480 with 1 Axes>"
      ]
     },
     "metadata": {},
     "output_type": "display_data"
    }
   ],
   "source": [
    "plt.scatter(X,y)"
   ]
  },
  {
   "cell_type": "code",
   "execution_count": 110,
   "metadata": {},
   "outputs": [
    {
     "data": {
      "text/plain": [
       "array([ True,  True,  True,  True,  True])"
      ]
     },
     "execution_count": 110,
     "metadata": {},
     "output_type": "execute_result"
    }
   ],
   "source": [
    "y==X-2"
   ]
  },
  {
   "attachments": {},
   "cell_type": "markdown",
   "metadata": {},
   "source": [
    "Input & Output Shapes"
   ]
  },
  {
   "cell_type": "code",
   "execution_count": 111,
   "metadata": {},
   "outputs": [
    {
     "data": {
      "text/plain": [
       "(<tf.Tensor: shape=(5,), dtype=float32, numpy=array([-10.,  -5.,   0.,   5.,  10.], dtype=float32)>,\n",
       " <tf.Tensor: shape=(5,), dtype=float32, numpy=array([-12.,  -7.,  -2.,   3.,   8.], dtype=float32)>)"
      ]
     },
     "execution_count": 111,
     "metadata": {},
     "output_type": "execute_result"
    }
   ],
   "source": [
    "#convert np array into tensors\n",
    "X=tf.cast(tf.constant(X), dtype=tf.float32)\n",
    "y=tf.cast(tf.constant(y), dtype=tf.float32)\n",
    "X,y\n"
   ]
  },
  {
   "attachments": {},
   "cell_type": "markdown",
   "metadata": {},
   "source": [
    "Modelling"
   ]
  },
  {
   "cell_type": "code",
   "execution_count": 112,
   "metadata": {},
   "outputs": [],
   "source": [
    "#set random seed\n",
    "tf.random.set_seed(100)"
   ]
  },
  {
   "cell_type": "code",
   "execution_count": 113,
   "metadata": {},
   "outputs": [],
   "source": [
    "#create a model sequentially\n",
    "model=tf.keras.Sequential()\n",
    "model.add(tf.keras.layers.Dense(1))"
   ]
  },
  {
   "cell_type": "code",
   "execution_count": 114,
   "metadata": {},
   "outputs": [],
   "source": [
    "#compile the model\n",
    "model.compile(loss=tf.keras.losses.mae,\n",
    "              optimizer=tf.keras.optimizers.SGD(),\n",
    "              metrics=['mae'])\n"
   ]
  },
  {
   "cell_type": "code",
   "execution_count": 115,
   "metadata": {},
   "outputs": [
    {
     "name": "stdout",
     "output_type": "stream",
     "text": [
      "Epoch 1/30\n",
      "1/1 [==============================] - 5s 5s/step - loss: 11.6169 - mae: 11.6169\n",
      "Epoch 2/30\n",
      "1/1 [==============================] - 0s 56ms/step - loss: 11.2565 - mae: 11.2565\n",
      "Epoch 3/30\n",
      "1/1 [==============================] - 0s 30ms/step - loss: 10.8961 - mae: 10.8961\n",
      "Epoch 4/30\n",
      "1/1 [==============================] - 0s 27ms/step - loss: 10.5357 - mae: 10.5357\n",
      "Epoch 5/30\n",
      "1/1 [==============================] - 0s 66ms/step - loss: 10.1753 - mae: 10.1753\n",
      "Epoch 6/30\n",
      "1/1 [==============================] - 0s 32ms/step - loss: 9.8149 - mae: 9.8149\n",
      "Epoch 7/30\n",
      "1/1 [==============================] - 0s 40ms/step - loss: 9.4545 - mae: 9.4545\n",
      "Epoch 8/30\n",
      "1/1 [==============================] - 0s 126ms/step - loss: 9.0941 - mae: 9.0941\n",
      "Epoch 9/30\n",
      "1/1 [==============================] - 0s 25ms/step - loss: 8.7337 - mae: 8.7337\n",
      "Epoch 10/30\n",
      "1/1 [==============================] - 0s 84ms/step - loss: 8.3733 - mae: 8.3733\n",
      "Epoch 11/30\n",
      "1/1 [==============================] - 0s 26ms/step - loss: 8.0129 - mae: 8.0129\n",
      "Epoch 12/30\n",
      "1/1 [==============================] - 0s 25ms/step - loss: 7.6525 - mae: 7.6525\n",
      "Epoch 13/30\n",
      "1/1 [==============================] - 0s 51ms/step - loss: 7.2921 - mae: 7.2921\n",
      "Epoch 14/30\n",
      "1/1 [==============================] - 0s 25ms/step - loss: 6.9317 - mae: 6.9317\n",
      "Epoch 15/30\n",
      "1/1 [==============================] - 0s 25ms/step - loss: 6.5713 - mae: 6.5713\n",
      "Epoch 16/30\n",
      "1/1 [==============================] - 0s 88ms/step - loss: 6.2109 - mae: 6.2109\n",
      "Epoch 17/30\n",
      "1/1 [==============================] - 0s 24ms/step - loss: 5.8505 - mae: 5.8505\n",
      "Epoch 18/30\n",
      "1/1 [==============================] - 0s 50ms/step - loss: 5.4901 - mae: 5.4901\n",
      "Epoch 19/30\n",
      "1/1 [==============================] - 0s 24ms/step - loss: 5.1297 - mae: 5.1297\n",
      "Epoch 20/30\n",
      "1/1 [==============================] - 0s 26ms/step - loss: 4.7693 - mae: 4.7693\n",
      "Epoch 21/30\n",
      "1/1 [==============================] - 0s 49ms/step - loss: 4.4089 - mae: 4.4089\n",
      "Epoch 22/30\n",
      "1/1 [==============================] - 0s 19ms/step - loss: 4.0485 - mae: 4.0485\n",
      "Epoch 23/30\n",
      "1/1 [==============================] - 0s 19ms/step - loss: 3.6881 - mae: 3.6881\n",
      "Epoch 24/30\n",
      "1/1 [==============================] - 0s 29ms/step - loss: 3.3277 - mae: 3.3277\n",
      "Epoch 25/30\n",
      "1/1 [==============================] - 0s 23ms/step - loss: 2.9673 - mae: 2.9673\n",
      "Epoch 26/30\n",
      "1/1 [==============================] - 0s 41ms/step - loss: 2.6480 - mae: 2.6480\n",
      "Epoch 27/30\n",
      "1/1 [==============================] - 0s 24ms/step - loss: 2.4844 - mae: 2.4844\n",
      "Epoch 28/30\n",
      "1/1 [==============================] - 0s 24ms/step - loss: 2.3207 - mae: 2.3207\n",
      "Epoch 29/30\n",
      "1/1 [==============================] - 0s 64ms/step - loss: 2.1572 - mae: 2.1572\n",
      "Epoch 30/30\n",
      "1/1 [==============================] - 0s 25ms/step - loss: 1.9935 - mae: 1.9935\n"
     ]
    },
    {
     "data": {
      "text/plain": [
       "<keras.callbacks.History at 0x2cf84532320>"
      ]
     },
     "execution_count": 115,
     "metadata": {},
     "output_type": "execute_result"
    }
   ],
   "source": [
    "#fit the model\n",
    "model.fit(tf.expand_dims(X,axis=-1),y,epochs=30)"
   ]
  },
  {
   "cell_type": "code",
   "execution_count": 116,
   "metadata": {},
   "outputs": [
    {
     "name": "stdout",
     "output_type": "stream",
     "text": [
      "1/1 [==============================] - 1s 747ms/step\n"
     ]
    },
    {
     "data": {
      "text/plain": [
       "array([[4.0725627]], dtype=float32)"
      ]
     },
     "execution_count": 116,
     "metadata": {},
     "output_type": "execute_result"
    }
   ],
   "source": [
    "model.predict([5])"
   ]
  },
  {
   "attachments": {},
   "cell_type": "markdown",
   "metadata": {},
   "source": [
    "Improving the model"
   ]
  },
  {
   "cell_type": "code",
   "execution_count": 117,
   "metadata": {},
   "outputs": [],
   "source": [
    "model.add(tf.keras.layers.Dense(1))\n",
    "model.add(tf.keras.layers.Dropout(0.3))\n",
    "model.compile(loss=tf.keras.losses.mae,\n",
    "              optimizer=tf.keras.optimizers.SGD(),\n",
    "              metrics=['mae'])"
   ]
  },
  {
   "cell_type": "code",
   "execution_count": 118,
   "metadata": {},
   "outputs": [
    {
     "name": "stdout",
     "output_type": "stream",
     "text": [
      "Epoch 1/30\n"
     ]
    }
   ],
   "source": [
    "model.fit(tf.expand_dims(X,axis=-1),y,epochs=30)"
   ]
  },
  {
   "cell_type": "code",
   "execution_count": null,
   "metadata": {},
   "outputs": [
    {
     "name": "stdout",
     "output_type": "stream",
     "text": [
      "1/1 [==============================] - 1s 976ms/step\n"
     ]
    },
    {
     "data": {
      "text/plain": [
       "array([[7.403517]], dtype=float32)"
      ]
     },
     "execution_count": 84,
     "metadata": {},
     "output_type": "execute_result"
    }
   ],
   "source": [
    "model.predict([10])"
   ]
  },
  {
   "attachments": {},
   "cell_type": "markdown",
   "metadata": {},
   "source": [
    "Evaluating the model"
   ]
  },
  {
   "cell_type": "code",
   "execution_count": null,
   "metadata": {},
   "outputs": [
    {
     "data": {
      "text/plain": [
       "<tf.Tensor: shape=(300,), dtype=int32, numpy=\n",
       "array([100, 103, 106, 109, 112, 115, 118, 121, 124, 127, 130, 133, 136,\n",
       "       139, 142, 145, 148, 151, 154, 157, 160, 163, 166, 169, 172, 175,\n",
       "       178, 181, 184, 187, 190, 193, 196, 199, 202, 205, 208, 211, 214,\n",
       "       217, 220, 223, 226, 229, 232, 235, 238, 241, 244, 247, 250, 253,\n",
       "       256, 259, 262, 265, 268, 271, 274, 277, 280, 283, 286, 289, 292,\n",
       "       295, 298, 301, 304, 307, 310, 313, 316, 319, 322, 325, 328, 331,\n",
       "       334, 337, 340, 343, 346, 349, 352, 355, 358, 361, 364, 367, 370,\n",
       "       373, 376, 379, 382, 385, 388, 391, 394, 397, 400, 403, 406, 409,\n",
       "       412, 415, 418, 421, 424, 427, 430, 433, 436, 439, 442, 445, 448,\n",
       "       451, 454, 457, 460, 463, 466, 469, 472, 475, 478, 481, 484, 487,\n",
       "       490, 493, 496, 499, 502, 505, 508, 511, 514, 517, 520, 523, 526,\n",
       "       529, 532, 535, 538, 541, 544, 547, 550, 553, 556, 559, 562, 565,\n",
       "       568, 571, 574, 577, 580, 583, 586, 589, 592, 595, 598, 601, 604,\n",
       "       607, 610, 613, 616, 619, 622, 625, 628, 631, 634, 637, 640, 643,\n",
       "       646, 649, 652, 655, 658, 661, 664, 667, 670, 673, 676, 679, 682,\n",
       "       685, 688, 691, 694, 697, 700, 703, 706, 709, 712, 715, 718, 721,\n",
       "       724, 727, 730, 733, 736, 739, 742, 745, 748, 751, 754, 757, 760,\n",
       "       763, 766, 769, 772, 775, 778, 781, 784, 787, 790, 793, 796, 799,\n",
       "       802, 805, 808, 811, 814, 817, 820, 823, 826, 829, 832, 835, 838,\n",
       "       841, 844, 847, 850, 853, 856, 859, 862, 865, 868, 871, 874, 877,\n",
       "       880, 883, 886, 889, 892, 895, 898, 901, 904, 907, 910, 913, 916,\n",
       "       919, 922, 925, 928, 931, 934, 937, 940, 943, 946, 949, 952, 955,\n",
       "       958, 961, 964, 967, 970, 973, 976, 979, 982, 985, 988, 991, 994,\n",
       "       997])>"
      ]
     },
     "execution_count": 85,
     "metadata": {},
     "output_type": "execute_result"
    }
   ],
   "source": [
    "#larger dataset\n",
    "X = tf.range(100,1000,3)\n",
    "X"
   ]
  },
  {
   "cell_type": "code",
   "execution_count": null,
   "metadata": {},
   "outputs": [
    {
     "data": {
      "text/plain": [
       "<tf.Tensor: shape=(300,), dtype=int32, numpy=\n",
       "array([ 133,  136,  139,  142,  145,  148,  151,  154,  157,  160,  163,\n",
       "        166,  169,  172,  175,  178,  181,  184,  187,  190,  193,  196,\n",
       "        199,  202,  205,  208,  211,  214,  217,  220,  223,  226,  229,\n",
       "        232,  235,  238,  241,  244,  247,  250,  253,  256,  259,  262,\n",
       "        265,  268,  271,  274,  277,  280,  283,  286,  289,  292,  295,\n",
       "        298,  301,  304,  307,  310,  313,  316,  319,  322,  325,  328,\n",
       "        331,  334,  337,  340,  343,  346,  349,  352,  355,  358,  361,\n",
       "        364,  367,  370,  373,  376,  379,  382,  385,  388,  391,  394,\n",
       "        397,  400,  403,  406,  409,  412,  415,  418,  421,  424,  427,\n",
       "        430,  433,  436,  439,  442,  445,  448,  451,  454,  457,  460,\n",
       "        463,  466,  469,  472,  475,  478,  481,  484,  487,  490,  493,\n",
       "        496,  499,  502,  505,  508,  511,  514,  517,  520,  523,  526,\n",
       "        529,  532,  535,  538,  541,  544,  547,  550,  553,  556,  559,\n",
       "        562,  565,  568,  571,  574,  577,  580,  583,  586,  589,  592,\n",
       "        595,  598,  601,  604,  607,  610,  613,  616,  619,  622,  625,\n",
       "        628,  631,  634,  637,  640,  643,  646,  649,  652,  655,  658,\n",
       "        661,  664,  667,  670,  673,  676,  679,  682,  685,  688,  691,\n",
       "        694,  697,  700,  703,  706,  709,  712,  715,  718,  721,  724,\n",
       "        727,  730,  733,  736,  739,  742,  745,  748,  751,  754,  757,\n",
       "        760,  763,  766,  769,  772,  775,  778,  781,  784,  787,  790,\n",
       "        793,  796,  799,  802,  805,  808,  811,  814,  817,  820,  823,\n",
       "        826,  829,  832,  835,  838,  841,  844,  847,  850,  853,  856,\n",
       "        859,  862,  865,  868,  871,  874,  877,  880,  883,  886,  889,\n",
       "        892,  895,  898,  901,  904,  907,  910,  913,  916,  919,  922,\n",
       "        925,  928,  931,  934,  937,  940,  943,  946,  949,  952,  955,\n",
       "        958,  961,  964,  967,  970,  973,  976,  979,  982,  985,  988,\n",
       "        991,  994,  997, 1000, 1003, 1006, 1009, 1012, 1015, 1018, 1021,\n",
       "       1024, 1027, 1030])>"
      ]
     },
     "execution_count": 86,
     "metadata": {},
     "output_type": "execute_result"
    }
   ],
   "source": [
    "y=X+33\n",
    "y"
   ]
  },
  {
   "cell_type": "code",
   "execution_count": null,
   "metadata": {},
   "outputs": [
    {
     "data": {
      "text/plain": [
       "[<matplotlib.lines.Line2D at 0x2cf83ce0a60>]"
      ]
     },
     "execution_count": 87,
     "metadata": {},
     "output_type": "execute_result"
    },
    {
     "data": {
      "image/png": "[encoded data removed]",
      "text/plain": [
       "<Figure size 640x480 with 1 Axes>"
      ]
     },
     "metadata": {},
     "output_type": "display_data"
    }
   ],
   "source": [
    "#visualize the data\n",
    "plt.plot(X,y)"
   ]
  },
  {
   "cell_type": "code",
   "execution_count": null,
   "metadata": {},
   "outputs": [
    {
     "data": {
      "text/plain": [
       "<matplotlib.collections.PathCollection at 0x2cf83d16e90>"
      ]
     },
     "execution_count": 88,
     "metadata": {},
     "output_type": "execute_result"
    },
    {
     "data": {
      "image/png": "[encoded data removed]",
      "text/plain": [
       "<Figure size 640x480 with 1 Axes>"
      ]
     },
     "metadata": {},
     "output_type": "display_data"
    }
   ],
   "source": [
    "plt.scatter(X,y)"
   ]
  },
  {
   "cell_type": "code",
   "execution_count": null,
   "metadata": {},
   "outputs": [
    {
     "data": {
      "text/plain": [
       "300"
      ]
     },
     "execution_count": 89,
     "metadata": {},
     "output_type": "execute_result"
    }
   ],
   "source": [
    "len(X)"
   ]
  },
  {
   "cell_type": "code",
   "execution_count": null,
   "metadata": {},
   "outputs": [
    {
     "data": {
      "text/plain": [
       "(240, 60)"
      ]
     },
     "execution_count": 90,
     "metadata": {},
     "output_type": "execute_result"
    }
   ],
   "source": [
    "X_train,y_train = X[:240],y[:240]\n",
    "X_test,y_test = X[240:],y[240:]\n",
    "len(X_train),len(X_test)"
   ]
  },
  {
   "cell_type": "code",
   "execution_count": null,
   "metadata": {},
   "outputs": [
    {
     "data": {
      "text/plain": [
       "<matplotlib.collections.PathCollection at 0x2cf83ecd300>"
      ]
     },
     "execution_count": 91,
     "metadata": {},
     "output_type": "execute_result"
    },
    {
     "data": {
      "image/png": "[encoded data removed]",
      "text/plain": [
       "<Figure size 1000x700 with 1 Axes>"
      ]
     },
     "metadata": {},
     "output_type": "display_data"
    }
   ],
   "source": [
    "#visualizing the sets\n",
    "plt.figure(figsize=(10,7))\n",
    "plt.scatter(X_train,y_train,c='r',label='Training Data')\n",
    "plt.scatter(X_test,y_test,c='b',label='Testing Data')"
   ]
  },
  {
   "cell_type": "code",
   "execution_count": null,
   "metadata": {},
   "outputs": [],
   "source": [
    "#building the model\n",
    "model=tf.keras.Sequential()\n",
    "model.add(tf.keras.layers.Dense(10, input_shape=[1]))\n"
   ]
  },
  {
   "cell_type": "code",
   "execution_count": null,
   "metadata": {},
   "outputs": [],
   "source": [
    "#compiling the model\n",
    "model.compile(loss=tf.keras.losses.mae,\n",
    "              optimizer=tf.keras.optimizers.SGD(),\n",
    "              metrics=['mae'])"
   ]
  },
  {
   "cell_type": "code",
   "execution_count": null,
   "metadata": {},
   "outputs": [
    {
     "name": "stdout",
     "output_type": "stream",
     "text": [
      "Model: \"sequential_5\"\n",
      "_________________________________________________________________\n",
      " Layer (type)                Output Shape              Param #   \n",
      "=================================================================\n",
      " dense_8 (Dense)             (None, 1)                 2         \n",
      "                                                                 \n",
      "=================================================================\n",
      "Total params: 2\n",
      "Trainable params: 2\n",
      "Non-trainable params: 0\n",
      "_________________________________________________________________\n"
     ]
    }
   ],
   "source": [
    "model.summary()"
   ]
  },
  {
   "cell_type": "code",
   "execution_count": null,
   "metadata": {},
   "outputs": [
    {
     "name": "stdout",
     "output_type": "stream",
     "text": [
      "Epoch 1/100\n",
      "8/8 [==============================] - 4s 16ms/step - loss: 1075.0818 - mae: 1075.0818\n",
      "Epoch 2/100\n",
      "8/8 [==============================] - 0s 17ms/step - loss: 1046.5546 - mae: 1046.5546\n",
      "Epoch 3/100\n",
      "8/8 [==============================] - 0s 23ms/step - loss: 1090.0302 - mae: 1090.0302\n",
      "Epoch 4/100\n",
      "8/8 [==============================] - 0s 17ms/step - loss: 1046.3551 - mae: 1046.3551\n",
      "Epoch 5/100\n",
      "8/8 [==============================] - 0s 21ms/step - loss: 1057.4376 - mae: 1057.4376\n",
      "Epoch 6/100\n",
      "8/8 [==============================] - 0s 24ms/step - loss: 1034.5450 - mae: 1034.5450\n",
      "Epoch 7/100\n",
      "8/8 [==============================] - 0s 23ms/step - loss: 1033.5417 - mae: 1033.5417\n",
      "Epoch 8/100\n",
      "8/8 [==============================] - 0s 48ms/step - loss: 1002.4034 - mae: 1002.4034\n",
      "Epoch 9/100\n",
      "8/8 [==============================] - 0s 29ms/step - loss: 990.5588 - mae: 990.5588\n",
      "Epoch 10/100\n",
      "8/8 [==============================] - 0s 31ms/step - loss: 952.1601 - mae: 952.1601\n",
      "Epoch 11/100\n",
      "8/8 [==============================] - 0s 30ms/step - loss: 1059.8488 - mae: 1059.8488\n",
      "Epoch 12/100\n",
      "8/8 [==============================] - 0s 33ms/step - loss: 1000.1489 - mae: 1000.1489\n",
      "Epoch 13/100\n",
      "8/8 [==============================] - 0s 10ms/step - loss: 955.2997 - mae: 955.2997\n",
      "Epoch 14/100\n",
      "8/8 [==============================] - 0s 13ms/step - loss: 1051.8400 - mae: 1051.8400\n",
      "Epoch 15/100\n",
      "8/8 [==============================] - 0s 14ms/step - loss: 1094.0051 - mae: 1094.0051\n",
      "Epoch 16/100\n",
      "8/8 [==============================] - 0s 14ms/step - loss: 1064.6859 - mae: 1064.6859\n",
      "Epoch 17/100\n",
      "8/8 [==============================] - 0s 15ms/step - loss: 1113.1500 - mae: 1113.1500\n",
      "Epoch 18/100\n",
      "8/8 [==============================] - 0s 19ms/step - loss: 1116.7595 - mae: 1116.7595\n",
      "Epoch 19/100\n",
      "8/8 [==============================] - 0s 15ms/step - loss: 1094.1445 - mae: 1094.1445\n",
      "Epoch 20/100\n",
      "8/8 [==============================] - 0s 18ms/step - loss: 1018.6406 - mae: 1018.6406\n",
      "Epoch 21/100\n",
      "8/8 [==============================] - 0s 20ms/step - loss: 968.0029 - mae: 968.0029\n",
      "Epoch 22/100\n",
      "8/8 [==============================] - 0s 16ms/step - loss: 1018.3030 - mae: 1018.3030\n",
      "Epoch 23/100\n",
      "8/8 [==============================] - 0s 18ms/step - loss: 1086.4097 - mae: 1086.4097\n",
      "Epoch 24/100\n",
      "8/8 [==============================] - 0s 16ms/step - loss: 1099.3928 - mae: 1099.3928\n",
      "Epoch 25/100\n",
      "8/8 [==============================] - 0s 19ms/step - loss: 1085.8403 - mae: 1085.8403\n",
      "Epoch 26/100\n",
      "8/8 [==============================] - 0s 20ms/step - loss: 1162.4520 - mae: 1162.4520\n",
      "Epoch 27/100\n",
      "8/8 [==============================] - 0s 13ms/step - loss: 1104.2716 - mae: 1104.2716\n",
      "Epoch 28/100\n",
      "8/8 [==============================] - 0s 14ms/step - loss: 1107.4590 - mae: 1107.4590\n",
      "Epoch 29/100\n",
      "8/8 [==============================] - 0s 16ms/step - loss: 1069.8175 - mae: 1069.8175\n",
      "Epoch 30/100\n",
      "8/8 [==============================] - 0s 17ms/step - loss: 1026.1877 - mae: 1026.1877\n",
      "Epoch 31/100\n",
      "8/8 [==============================] - 0s 19ms/step - loss: 1069.9022 - mae: 1069.9022\n",
      "Epoch 32/100\n",
      "8/8 [==============================] - 0s 21ms/step - loss: 1041.7350 - mae: 1041.7350\n",
      "Epoch 33/100\n",
      "8/8 [==============================] - 0s 25ms/step - loss: 1056.7462 - mae: 1056.7462\n",
      "Epoch 34/100\n",
      "8/8 [==============================] - 0s 32ms/step - loss: 1106.1644 - mae: 1106.1644\n",
      "Epoch 35/100\n",
      "8/8 [==============================] - 0s 12ms/step - loss: 1048.7585 - mae: 1048.7585\n",
      "Epoch 36/100\n",
      "8/8 [==============================] - 0s 10ms/step - loss: 1033.6440 - mae: 1033.6440\n",
      "Epoch 37/100\n",
      "8/8 [==============================] - 0s 14ms/step - loss: 1066.6716 - mae: 1066.6716\n",
      "Epoch 38/100\n",
      "8/8 [==============================] - 0s 16ms/step - loss: 1024.6282 - mae: 1024.6282\n",
      "Epoch 39/100\n",
      "8/8 [==============================] - 0s 16ms/step - loss: 1039.9969 - mae: 1039.9969\n",
      "Epoch 40/100\n",
      "8/8 [==============================] - 0s 13ms/step - loss: 1032.4337 - mae: 1032.4337\n",
      "Epoch 41/100\n",
      "8/8 [==============================] - 0s 12ms/step - loss: 990.9031 - mae: 990.9031\n",
      "Epoch 42/100\n",
      "8/8 [==============================] - 0s 23ms/step - loss: 1010.4270 - mae: 1010.4270\n",
      "Epoch 43/100\n",
      "8/8 [==============================] - 0s 12ms/step - loss: 1027.7628 - mae: 1027.7628\n",
      "Epoch 44/100\n",
      "8/8 [==============================] - 0s 14ms/step - loss: 1020.3107 - mae: 1020.3107\n",
      "Epoch 45/100\n",
      "8/8 [==============================] - 0s 14ms/step - loss: 1119.3197 - mae: 1119.3197\n",
      "Epoch 46/100\n",
      "8/8 [==============================] - 0s 17ms/step - loss: 1085.5143 - mae: 1085.5143\n",
      "Epoch 47/100\n",
      "8/8 [==============================] - 0s 13ms/step - loss: 1116.2999 - mae: 1116.2999\n",
      "Epoch 48/100\n",
      "8/8 [==============================] - 0s 12ms/step - loss: 1041.6572 - mae: 1041.6572\n",
      "Epoch 49/100\n",
      "8/8 [==============================] - 0s 11ms/step - loss: 1021.6075 - mae: 1021.6075\n",
      "Epoch 50/100\n",
      "8/8 [==============================] - 0s 10ms/step - loss: 1058.2660 - mae: 1058.2660\n",
      "Epoch 51/100\n",
      "8/8 [==============================] - 0s 13ms/step - loss: 1169.9459 - mae: 1169.9459\n",
      "Epoch 52/100\n",
      "8/8 [==============================] - 0s 13ms/step - loss: 1141.8326 - mae: 1141.8326\n",
      "Epoch 53/100\n",
      "8/8 [==============================] - 0s 19ms/step - loss: 1060.7603 - mae: 1060.7603\n",
      "Epoch 54/100\n",
      "8/8 [==============================] - 0s 14ms/step - loss: 1116.5659 - mae: 1116.5659\n",
      "Epoch 55/100\n",
      "8/8 [==============================] - 0s 14ms/step - loss: 1063.9133 - mae: 1063.9133\n",
      "Epoch 56/100\n",
      "8/8 [==============================] - 0s 10ms/step - loss: 984.9475 - mae: 984.9475\n",
      "Epoch 57/100\n",
      "8/8 [==============================] - 0s 13ms/step - loss: 1062.3938 - mae: 1062.3938\n",
      "Epoch 58/100\n",
      "8/8 [==============================] - 0s 14ms/step - loss: 1054.0896 - mae: 1054.0896\n",
      "Epoch 59/100\n",
      "8/8 [==============================] - 0s 27ms/step - loss: 1040.4952 - mae: 1040.4952\n",
      "Epoch 60/100\n",
      "8/8 [==============================] - 0s 23ms/step - loss: 1043.0155 - mae: 1043.0155\n",
      "Epoch 61/100\n",
      "8/8 [==============================] - 0s 25ms/step - loss: 1046.9318 - mae: 1046.9318\n",
      "Epoch 62/100\n",
      "8/8 [==============================] - 0s 18ms/step - loss: 1021.1765 - mae: 1021.1765\n",
      "Epoch 63/100\n",
      "8/8 [==============================] - 0s 19ms/step - loss: 1010.0551 - mae: 1010.0551\n",
      "Epoch 64/100\n",
      "8/8 [==============================] - 0s 25ms/step - loss: 1008.4090 - mae: 1008.4090\n",
      "Epoch 65/100\n",
      "8/8 [==============================] - 0s 21ms/step - loss: 1053.1185 - mae: 1053.1185\n",
      "Epoch 66/100\n",
      "8/8 [==============================] - 0s 20ms/step - loss: 1039.6635 - mae: 1039.6635\n",
      "Epoch 67/100\n",
      "8/8 [==============================] - 0s 14ms/step - loss: 1059.1515 - mae: 1059.1515\n",
      "Epoch 68/100\n",
      "8/8 [==============================] - 0s 12ms/step - loss: 1047.4069 - mae: 1047.4069\n",
      "Epoch 69/100\n",
      "8/8 [==============================] - 0s 13ms/step - loss: 1105.1329 - mae: 1105.1329\n",
      "Epoch 70/100\n",
      "8/8 [==============================] - 0s 14ms/step - loss: 1141.8713 - mae: 1141.8713\n",
      "Epoch 71/100\n",
      "8/8 [==============================] - 0s 13ms/step - loss: 1039.4633 - mae: 1039.4633\n",
      "Epoch 72/100\n",
      "8/8 [==============================] - 0s 21ms/step - loss: 1080.5367 - mae: 1080.5367\n",
      "Epoch 73/100\n",
      "8/8 [==============================] - 0s 30ms/step - loss: 1051.4608 - mae: 1051.4608\n",
      "Epoch 74/100\n",
      "8/8 [==============================] - 0s 14ms/step - loss: 1023.1049 - mae: 1023.1049\n",
      "Epoch 75/100\n",
      "8/8 [==============================] - 0s 13ms/step - loss: 1020.7377 - mae: 1020.7377\n",
      "Epoch 76/100\n",
      "8/8 [==============================] - 0s 23ms/step - loss: 1027.9296 - mae: 1027.9296\n",
      "Epoch 77/100\n",
      "8/8 [==============================] - 0s 16ms/step - loss: 1081.7311 - mae: 1081.7311\n",
      "Epoch 78/100\n",
      "8/8 [==============================] - 0s 11ms/step - loss: 1048.9237 - mae: 1048.9237\n",
      "Epoch 79/100\n",
      "8/8 [==============================] - 0s 18ms/step - loss: 1054.5031 - mae: 1054.5031\n",
      "Epoch 80/100\n",
      "8/8 [==============================] - 0s 17ms/step - loss: 1160.0165 - mae: 1160.0165\n",
      "Epoch 81/100\n",
      "8/8 [==============================] - 0s 14ms/step - loss: 1087.8431 - mae: 1087.8431\n",
      "Epoch 82/100\n",
      "8/8 [==============================] - 0s 18ms/step - loss: 1106.9885 - mae: 1106.9885\n",
      "Epoch 83/100\n",
      "8/8 [==============================] - 0s 17ms/step - loss: 1074.2451 - mae: 1074.2451\n",
      "Epoch 84/100\n",
      "8/8 [==============================] - 0s 26ms/step - loss: 1121.3800 - mae: 1121.3800\n",
      "Epoch 85/100\n",
      "8/8 [==============================] - 0s 12ms/step - loss: 1128.7958 - mae: 1128.7958\n",
      "Epoch 86/100\n",
      "8/8 [==============================] - 0s 11ms/step - loss: 1046.2897 - mae: 1046.2897\n",
      "Epoch 87/100\n",
      "8/8 [==============================] - 0s 19ms/step - loss: 1017.6284 - mae: 1017.6284\n",
      "Epoch 88/100\n",
      "8/8 [==============================] - 0s 31ms/step - loss: 1028.8361 - mae: 1028.8361\n",
      "Epoch 89/100\n",
      "8/8 [==============================] - 0s 36ms/step - loss: 1074.6353 - mae: 1074.6353\n",
      "Epoch 90/100\n",
      "8/8 [==============================] - 0s 13ms/step - loss: 1043.9336 - mae: 1043.9336\n",
      "Epoch 91/100\n",
      "8/8 [==============================] - 0s 18ms/step - loss: 1031.8523 - mae: 1031.8523\n",
      "Epoch 92/100\n",
      "8/8 [==============================] - 0s 22ms/step - loss: 1055.5214 - mae: 1055.5214\n",
      "Epoch 93/100\n",
      "8/8 [==============================] - 0s 15ms/step - loss: 1000.5015 - mae: 1000.5015\n",
      "Epoch 94/100\n",
      "8/8 [==============================] - 0s 17ms/step - loss: 997.0809 - mae: 997.0809\n",
      "Epoch 95/100\n",
      "8/8 [==============================] - 0s 12ms/step - loss: 1024.1256 - mae: 1024.1256\n",
      "Epoch 96/100\n",
      "8/8 [==============================] - 0s 10ms/step - loss: 1032.1469 - mae: 1032.1469\n",
      "Epoch 97/100\n",
      "8/8 [==============================] - 0s 10ms/step - loss: 1027.7417 - mae: 1027.7417\n",
      "Epoch 98/100\n",
      "8/8 [==============================] - 0s 13ms/step - loss: 1042.3142 - mae: 1042.3142\n",
      "Epoch 99/100\n",
      "8/8 [==============================] - 0s 16ms/step - loss: 1014.7815 - mae: 1014.7815\n",
      "Epoch 100/100\n",
      "8/8 [==============================] - 0s 19ms/step - loss: 1012.5565 - mae: 1012.5565\n"
     ]
    },
    {
     "data": {
      "text/plain": [
       "<keras.callbacks.History at 0x2cf83ef6ad0>"
      ]
     },
     "execution_count": 95,
     "metadata": {},
     "output_type": "execute_result"
    }
   ],
   "source": [
    "#fitting the model\n",
    "model.fit(X_train,y_train, epochs = 100)"
   ]
  },
  {
   "cell_type": "code",
   "execution_count": null,
   "metadata": {},
   "outputs": [
    {
     "data": {
      "image/png": "[encoded data removed]",
      "text/plain": [
       "<IPython.core.display.Image object>"
      ]
     },
     "execution_count": 96,
     "metadata": {},
     "output_type": "execute_result"
    }
   ],
   "source": [
    "tf.keras.utils.plot_model(model=model,show_shapes=True)"
   ]
  },
  {
   "cell_type": "code",
   "execution_count": null,
   "metadata": {},
   "outputs": [
    {
     "name": "stdout",
     "output_type": "stream",
     "text": [
      "2/2 [==============================] - 0s 20ms/step\n"
     ]
    },
    {
     "data": {
      "text/plain": [
       "(array([[1147.893 ],\n",
       "        [1152.0925],\n",
       "        [1156.2921],\n",
       "        [1160.4916],\n",
       "        [1164.6912],\n",
       "        [1168.8906],\n",
       "        [1173.0902],\n",
       "        [1177.2898],\n",
       "        [1181.4893],\n",
       "        [1185.6888],\n",
       "        [1189.8884],\n",
       "        [1194.0879],\n",
       "        [1198.2875],\n",
       "        [1202.4869],\n",
       "        [1206.6865],\n",
       "        [1210.8861],\n",
       "        [1215.0856],\n",
       "        [1219.2852],\n",
       "        [1223.4846],\n",
       "        [1227.6842],\n",
       "        [1231.8838],\n",
       "        [1236.0833],\n",
       "        [1240.2828],\n",
       "        [1244.4823],\n",
       "        [1248.6819],\n",
       "        [1252.8815],\n",
       "        [1257.0809],\n",
       "        [1261.2805],\n",
       "        [1265.4801],\n",
       "        [1269.6796],\n",
       "        [1273.8792],\n",
       "        [1278.0786],\n",
       "        [1282.2782],\n",
       "        [1286.4778],\n",
       "        [1290.6772],\n",
       "        [1294.8768],\n",
       "        [1299.0763],\n",
       "        [1303.2759],\n",
       "        [1307.4755],\n",
       "        [1311.6749],\n",
       "        [1315.8745],\n",
       "        [1320.074 ],\n",
       "        [1324.2736],\n",
       "        [1328.4731],\n",
       "        [1332.6726],\n",
       "        [1336.8722],\n",
       "        [1341.0718],\n",
       "        [1345.2712],\n",
       "        [1349.4708],\n",
       "        [1353.6703],\n",
       "        [1357.8699],\n",
       "        [1362.0695],\n",
       "        [1366.2689],\n",
       "        [1370.4685],\n",
       "        [1374.668 ],\n",
       "        [1378.8676],\n",
       "        [1383.0671],\n",
       "        [1387.2666],\n",
       "        [1391.4662],\n",
       "        [1395.6656]], dtype=float32),\n",
       " <tf.Tensor: shape=(60,), dtype=int32, numpy=\n",
       " array([ 853,  856,  859,  862,  865,  868,  871,  874,  877,  880,  883,\n",
       "         886,  889,  892,  895,  898,  901,  904,  907,  910,  913,  916,\n",
       "         919,  922,  925,  928,  931,  934,  937,  940,  943,  946,  949,\n",
       "         952,  955,  958,  961,  964,  967,  970,  973,  976,  979,  982,\n",
       "         985,  988,  991,  994,  997, 1000, 1003, 1006, 1009, 1012, 1015,\n",
       "        1018, 1021, 1024, 1027, 1030])>)"
      ]
     },
     "execution_count": 97,
     "metadata": {},
     "output_type": "execute_result"
    }
   ],
   "source": [
    "#visualizing model's predictions\n",
    "y_pred=model.predict(X_test)\n",
    "y_pred,y_test"
   ]
  },
  {
   "cell_type": "code",
   "execution_count": null,
   "metadata": {},
   "outputs": [],
   "source": [
    "#plotting predictions\n",
    "def plot_predictions(train_data=X_train,\n",
    "                     train_labels=y_train,\n",
    "                     test_data=X_test,\n",
    "                     test_labels=y_test,\n",
    "                     predictions=y_pred):\n",
    "    \"\"\"Plotting predictions\"\"\"\n",
    "    plt.figure(figsize=(10,7))\n",
    "    plt.scatter(train_data,train_labels,s=1,c='r', label=\"Training data\")\n",
    "    plt.scatter(test_data,test_labels,s=1,c='b', label=\"Testing data\")\n",
    "    plt.scatter(test_data,predictions,s=1,c='g',label='Predictions')\n",
    "    plt.legend();\n"
   ]
  },
  {
   "cell_type": "code",
   "execution_count": null,
   "metadata": {},
   "outputs": [
    {
     "data": {
      "image/png": "[encoded data removed]",
      "text/plain": [
       "<Figure size 1000x700 with 1 Axes>"
      ]
     },
     "metadata": {},
     "output_type": "display_data"
    }
   ],
   "source": [
    "plot_predictions()"
   ]
  },
  {
   "cell_type": "code",
   "execution_count": null,
   "metadata": {},
   "outputs": [
    {
     "name": "stdout",
     "output_type": "stream",
     "text": [
      "WARNING:tensorflow:5 out of the last 9 calls to <function Model.make_test_function.<locals>.test_function at 0x000002CF83F5B370> triggered tf.function retracing. Tracing is expensive and the excessive number of tracings could be due to (1) creating @tf.function repeatedly in a loop, (2) passing tensors with different shapes, (3) passing Python objects instead of tensors. For (1), please define your @tf.function outside of the loop. For (2), @tf.function has reduce_retracing=True option that can avoid unnecessary retracing. For (3), please refer to https://www.tensorflow.org/guide/function#controlling_retracing and https://www.tensorflow.org/api_docs/python/tf/function for  more details.\n",
      "2/2 [==============================] - 1s 15ms/step - loss: 330.2794 - mae: 330.2794\n"
     ]
    },
    {
     "data": {
      "text/plain": [
       "[330.27935791015625, 330.27935791015625]"
      ]
     },
     "execution_count": 100,
     "metadata": {},
     "output_type": "execute_result"
    }
   ],
   "source": [
    "#eva;uating with evaluation metrics\n",
    "model.evaluate(X_test,y_test)"
   ]
  },
  {
   "cell_type": "code",
   "execution_count": null,
   "metadata": {},
   "outputs": [
    {
     "name": "stdout",
     "output_type": "stream",
     "text": [
      "WARNING:tensorflow:6 out of the last 11 calls to <function Model.make_test_function.<locals>.test_function at 0x000002CF83F5B370> triggered tf.function retracing. Tracing is expensive and the excessive number of tracings could be due to (1) creating @tf.function repeatedly in a loop, (2) passing tensors with different shapes, (3) passing Python objects instead of tensors. For (1), please define your @tf.function outside of the loop. For (2), @tf.function has reduce_retracing=True option that can avoid unnecessary retracing. For (3), please refer to https://www.tensorflow.org/guide/function#controlling_retracing and https://www.tensorflow.org/api_docs/python/tf/function for  more details.\n",
      "2/2 [==============================] - 1s 38ms/step - loss: 46.1949 - mae: 46.1949\n"
     ]
    },
    {
     "data": {
      "text/plain": [
       "[46.19491195678711, 46.19491195678711]"
      ]
     },
     "execution_count": 101,
     "metadata": {},
     "output_type": "execute_result"
    }
   ],
   "source": [
    "model.evaluate(y_test,y_pred)"
   ]
  },
  {
   "cell_type": "code",
   "execution_count": null,
   "metadata": {},
   "outputs": [
    {
     "data": {
      "text/plain": [
       "<tf.Tensor: shape=(), dtype=float32, numpy=330.27936>"
      ]
     },
     "execution_count": 102,
     "metadata": {},
     "output_type": "execute_result"
    }
   ],
   "source": [
    "y_pred=tf.squeeze(tf.constant(y_pred))\n",
    "tf.metrics.MAE(y_test,y_pred)"
   ]
  },
  {
   "cell_type": "code",
   "execution_count": null,
   "metadata": {},
   "outputs": [
    {
     "data": {
      "text/plain": [
       "<tf.Tensor: shape=(), dtype=float32, numpy=109515.99>"
      ]
     },
     "execution_count": 103,
     "metadata": {},
     "output_type": "execute_result"
    }
   ],
   "source": [
    "tf.metrics.MSE(y_test,y_pred)"
   ]
  },
  {
   "cell_type": "code",
   "execution_count": null,
   "metadata": {},
   "outputs": [
    {
     "data": {
      "text/plain": [
       "<matplotlib.collections.PathCollection at 0x2cf8448dab0>"
      ]
     },
     "execution_count": 104,
     "metadata": {},
     "output_type": "execute_result"
    },
    {
     "data": {
      "image/png": "[encoded data removed]",
      "text/plain": [
       "<Figure size 640x480 with 1 Axes>"
      ]
     },
     "metadata": {},
     "output_type": "display_data"
    }
   ],
   "source": [
    "plt.scatter(y_test,y_pred, c='r')\n",
    "plt.scatter(X_test,y_test, c='b')"
   ]
  },
  {
   "cell_type": "code",
   "execution_count": null,
   "metadata": {},
   "outputs": [
    {
     "name": "stdout",
     "output_type": "stream",
     "text": [
      "INFO:tensorflow:Assets written to: model\\assets\n"
     ]
    }
   ],
   "source": [
    "#saving the model\n",
    "model.save(\"model\")"
   ]
  },
  {
   "cell_type": "code",
   "execution_count": null,
   "metadata": {},
   "outputs": [],
   "source": [
    "model.save(\" model\\model.h5\")"
   ]
  },
  {
   "cell_type": "code",
   "execution_count": null,
   "metadata": {},
   "outputs": [],
   "source": []
  }
 ],
 "metadata": {
  "kernelspec": {
   "display_name": "Python 3",
   "language": "python",
   "name": "python3"
  },
  "language_info": {
   "codemirror_mode": {
    "name": "ipython",
    "version": 3
   },
   "file_extension": ".py",
   "mimetype": "text/x-python",
   "name": "python",
   "nbconvert_exporter": "python",
   "pygments_lexer": "ipython3",
   "version": "3.10.0"
  },
  "orig_nbformat": 4
 },
 "nbformat": 4,
 "nbformat_minor": 2
}
