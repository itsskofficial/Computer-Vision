{
 "cells": [
  {
   "cell_type": "code",
   "execution_count": 37,
   "metadata": {},
   "outputs": [
    {
     "data": {
      "text/plain": [
       "'2.9.1'"
      ]
     },
     "execution_count": 37,
     "metadata": {},
     "output_type": "execute_result"
    }
   ],
   "source": [
    "import tensorflow as tf\n",
    "tf.__version__"
   ]
  },
  {
   "attachments": {},
   "cell_type": "markdown",
   "metadata": {},
   "source": [
    "Creating data to view and fit"
   ]
  },
  {
   "cell_type": "code",
   "execution_count": 38,
   "metadata": {},
   "outputs": [],
   "source": [
    "\n",
    "import numpy as np\n",
    "import matplotlib.pyplot as plt\n",
    "\n",
    "#create features\n",
    "X=np.array([-10,-5,0,5,10])\n",
    "\n",
    "#create labels\n",
    "y=np.array([-12,-7,-2,3,8])"
   ]
  },
  {
   "cell_type": "code",
   "execution_count": 39,
   "metadata": {},
   "outputs": [
    {
     "data": {
      "text/plain": [
       "<matplotlib.collections.PathCollection at 0x2cf8121e290>"
      ]
     },
     "execution_count": 39,
     "metadata": {},
     "output_type": "execute_result"
    },
    {
     "data": {
      "image/png": "[encoded data removed]",
      "text/plain": [
       "<Figure size 640x480 with 1 Axes>"
      ]
     },
     "metadata": {},
     "output_type": "display_data"
    }
   ],
   "source": [
    "plt.scatter(X,y)"
   ]
  },
  {
   "cell_type": "code",
   "execution_count": 40,
   "metadata": {},
   "outputs": [
    {
     "data": {
      "text/plain": [
       "array([ True,  True,  True,  True,  True])"
      ]
     },
     "execution_count": 40,
     "metadata": {},
     "output_type": "execute_result"
    }
   ],
   "source": [
    "y==X-2"
   ]
  },
  {
   "attachments": {},
   "cell_type": "markdown",
   "metadata": {},
   "source": [
    "Input & Output Shapes"
   ]
  },
  {
   "cell_type": "code",
   "execution_count": 41,
   "metadata": {},
   "outputs": [
    {
     "data": {
      "text/plain": [
       "(<tf.Tensor: shape=(5,), dtype=float32, numpy=array([-10.,  -5.,   0.,   5.,  10.], dtype=float32)>,\n",
       " <tf.Tensor: shape=(5,), dtype=float32, numpy=array([-12.,  -7.,  -2.,   3.,   8.], dtype=float32)>)"
      ]
     },
     "execution_count": 41,
     "metadata": {},
     "output_type": "execute_result"
    }
   ],
   "source": [
    "#convert np array into tensors\n",
    "X=tf.cast(tf.constant(X), dtype=tf.float32)\n",
    "y=tf.cast(tf.constant(y), dtype=tf.float32)\n",
    "X,y\n"
   ]
  },
  {
   "attachments": {},
   "cell_type": "markdown",
   "metadata": {},
   "source": [
    "Modelling"
   ]
  },
  {
   "cell_type": "code",
   "execution_count": 42,
   "metadata": {},
   "outputs": [],
   "source": [
    "#set random seed\n",
    "tf.random.set_seed(100)"
   ]
  },
  {
   "cell_type": "code",
   "execution_count": 43,
   "metadata": {},
   "outputs": [],
   "source": [
    "#create a model sequentially\n",
    "model=tf.keras.Sequential()\n",
    "model.add(tf.keras.layers.Dense(1))"
   ]
  },
  {
   "cell_type": "code",
   "execution_count": 44,
   "metadata": {},
   "outputs": [],
   "source": [
    "#compile the model\n",
    "model.compile(loss=tf.keras.losses.mae,\n",
    "              optimizer=tf.keras.optimizers.SGD(),\n",
    "              metrics=['mae'])\n"
   ]
  },
  {
   "cell_type": "code",
   "execution_count": 45,
   "metadata": {},
   "outputs": [
    {
     "name": "stdout",
     "output_type": "stream",
     "text": [
      "Epoch 1/30\n"
     ]
    }
   ],
   "source": [
    "#fit the model\n",
    "model.fit(tf.expand_dims(X,axis=-1),y,epochs=30)"
   ]
  },
  {
   "cell_type": "code",
   "execution_count": null,
   "metadata": {},
   "outputs": [
    {
     "name": "stdout",
     "output_type": "stream",
     "text": [
      "1/1 [==============================] - 1s 615ms/step\n"
     ]
    },
    {
     "data": {
      "text/plain": [
       "array([[4.0725627]], dtype=float32)"
      ]
     },
     "execution_count": 11,
     "metadata": {},
     "output_type": "execute_result"
    }
   ],
   "source": [
    "model.predict([5])"
   ]
  },
  {
   "attachments": {},
   "cell_type": "markdown",
   "metadata": {},
   "source": [
    "Improving the model"
   ]
  },
  {
   "cell_type": "code",
   "execution_count": null,
   "metadata": {},
   "outputs": [],
   "source": [
    "model.add(tf.keras.layers.Dense(1))\n",
    "model.add(tf.keras.layers.Dropout(0.3))\n",
    "model.compile(loss=tf.keras.losses.mae,\n",
    "              optimizer=tf.keras.optimizers.SGD(),\n",
    "              metrics=['mae'])"
   ]
  },
  {
   "cell_type": "code",
   "execution_count": null,
   "metadata": {},
   "outputs": [
    {
     "name": "stdout",
     "output_type": "stream",
     "text": [
      "Epoch 1/30\n",
      "1/1 [==============================] - 3s 3s/step - loss: 2.9179 - mae: 2.9179\n",
      "Epoch 2/30\n",
      "1/1 [==============================] - 0s 29ms/step - loss: 2.7886 - mae: 2.7886\n",
      "Epoch 3/30\n",
      "1/1 [==============================] - 0s 22ms/step - loss: 5.5989 - mae: 5.5989\n",
      "Epoch 4/30\n",
      "1/1 [==============================] - 0s 19ms/step - loss: 2.8021 - mae: 2.8021\n",
      "Epoch 5/30\n",
      "1/1 [==============================] - 0s 20ms/step - loss: 4.3680 - mae: 4.3680\n",
      "Epoch 6/30\n",
      "1/1 [==============================] - 0s 19ms/step - loss: 2.7469 - mae: 2.7469\n",
      "Epoch 7/30\n",
      "1/1 [==============================] - 0s 29ms/step - loss: 5.1043 - mae: 5.1043\n",
      "Epoch 8/30\n",
      "1/1 [==============================] - 0s 19ms/step - loss: 4.0572 - mae: 4.0572\n",
      "Epoch 9/30\n",
      "1/1 [==============================] - 0s 20ms/step - loss: 1.7190 - mae: 1.7190\n",
      "Epoch 10/30\n",
      "1/1 [==============================] - 0s 21ms/step - loss: 1.8742 - mae: 1.8742\n",
      "Epoch 11/30\n",
      "1/1 [==============================] - 0s 18ms/step - loss: 2.9479 - mae: 2.9479\n",
      "Epoch 12/30\n",
      "1/1 [==============================] - 0s 28ms/step - loss: 5.0494 - mae: 5.0494\n",
      "Epoch 13/30\n",
      "1/1 [==============================] - 0s 18ms/step - loss: 4.1678 - mae: 4.1678\n",
      "Epoch 14/30\n",
      "1/1 [==============================] - 0s 26ms/step - loss: 2.8892 - mae: 2.8892\n",
      "Epoch 15/30\n",
      "1/1 [==============================] - 0s 19ms/step - loss: 3.9426 - mae: 3.9426\n",
      "Epoch 16/30\n",
      "1/1 [==============================] - 0s 17ms/step - loss: 2.6898 - mae: 2.6898\n",
      "Epoch 17/30\n",
      "1/1 [==============================] - 0s 25ms/step - loss: 1.5340 - mae: 1.5340\n",
      "Epoch 18/30\n",
      "1/1 [==============================] - 0s 17ms/step - loss: 2.7629 - mae: 2.7629\n",
      "Epoch 19/30\n",
      "1/1 [==============================] - 0s 14ms/step - loss: 1.4579 - mae: 1.4579\n",
      "Epoch 20/30\n",
      "1/1 [==============================] - 0s 19ms/step - loss: 4.0507 - mae: 4.0507\n",
      "Epoch 21/30\n",
      "1/1 [==============================] - 0s 17ms/step - loss: 3.8980 - mae: 3.8980\n",
      "Epoch 22/30\n",
      "1/1 [==============================] - 0s 20ms/step - loss: 2.6581 - mae: 2.6581\n",
      "Epoch 23/30\n",
      "1/1 [==============================] - 0s 18ms/step - loss: 2.6983 - mae: 2.6983\n",
      "Epoch 24/30\n",
      "1/1 [==============================] - 0s 18ms/step - loss: 3.8704 - mae: 3.8704\n",
      "Epoch 25/30\n",
      "1/1 [==============================] - 0s 20ms/step - loss: 6.4000 - mae: 6.4000\n",
      "Epoch 26/30\n",
      "1/1 [==============================] - 0s 20ms/step - loss: 1.3080 - mae: 1.3080\n",
      "Epoch 27/30\n",
      "1/1 [==============================] - 0s 27ms/step - loss: 6.0055 - mae: 6.0055\n",
      "Epoch 28/30\n",
      "1/1 [==============================] - 0s 33ms/step - loss: 3.8226 - mae: 3.8226\n",
      "Epoch 29/30\n",
      "1/1 [==============================] - 0s 27ms/step - loss: 4.1656 - mae: 4.1656\n",
      "Epoch 30/30\n",
      "1/1 [==============================] - 0s 24ms/step - loss: 1.4722 - mae: 1.4722\n"
     ]
    },
    {
     "data": {
      "text/plain": [
       "<keras.callbacks.History at 0x2cffe4e42b0>"
      ]
     },
     "execution_count": 13,
     "metadata": {},
     "output_type": "execute_result"
    }
   ],
   "source": [
    "model.fit(tf.expand_dims(X,axis=-1),y,epochs=30)"
   ]
  },
  {
   "cell_type": "code",
   "execution_count": null,
   "metadata": {},
   "outputs": [
    {
     "name": "stdout",
     "output_type": "stream",
     "text": [
      "1/1 [==============================] - 1s 701ms/step\n"
     ]
    },
    {
     "data": {
      "text/plain": [
       "array([[7.403517]], dtype=float32)"
      ]
     },
     "execution_count": 14,
     "metadata": {},
     "output_type": "execute_result"
    }
   ],
   "source": [
    "model.predict([10])"
   ]
  },
  {
   "attachments": {},
   "cell_type": "markdown",
   "metadata": {},
   "source": [
    "Evaluating the model"
   ]
  },
  {
   "cell_type": "code",
   "execution_count": null,
   "metadata": {},
   "outputs": [
    {
     "data": {
      "text/plain": [
       "<tf.Tensor: shape=(300,), dtype=int32, numpy=\n",
       "array([100, 103, 106, 109, 112, 115, 118, 121, 124, 127, 130, 133, 136,\n",
       "       139, 142, 145, 148, 151, 154, 157, 160, 163, 166, 169, 172, 175,\n",
       "       178, 181, 184, 187, 190, 193, 196, 199, 202, 205, 208, 211, 214,\n",
       "       217, 220, 223, 226, 229, 232, 235, 238, 241, 244, 247, 250, 253,\n",
       "       256, 259, 262, 265, 268, 271, 274, 277, 280, 283, 286, 289, 292,\n",
       "       295, 298, 301, 304, 307, 310, 313, 316, 319, 322, 325, 328, 331,\n",
       "       334, 337, 340, 343, 346, 349, 352, 355, 358, 361, 364, 367, 370,\n",
       "       373, 376, 379, 382, 385, 388, 391, 394, 397, 400, 403, 406, 409,\n",
       "       412, 415, 418, 421, 424, 427, 430, 433, 436, 439, 442, 445, 448,\n",
       "       451, 454, 457, 460, 463, 466, 469, 472, 475, 478, 481, 484, 487,\n",
       "       490, 493, 496, 499, 502, 505, 508, 511, 514, 517, 520, 523, 526,\n",
       "       529, 532, 535, 538, 541, 544, 547, 550, 553, 556, 559, 562, 565,\n",
       "       568, 571, 574, 577, 580, 583, 586, 589, 592, 595, 598, 601, 604,\n",
       "       607, 610, 613, 616, 619, 622, 625, 628, 631, 634, 637, 640, 643,\n",
       "       646, 649, 652, 655, 658, 661, 664, 667, 670, 673, 676, 679, 682,\n",
       "       685, 688, 691, 694, 697, 700, 703, 706, 709, 712, 715, 718, 721,\n",
       "       724, 727, 730, 733, 736, 739, 742, 745, 748, 751, 754, 757, 760,\n",
       "       763, 766, 769, 772, 775, 778, 781, 784, 787, 790, 793, 796, 799,\n",
       "       802, 805, 808, 811, 814, 817, 820, 823, 826, 829, 832, 835, 838,\n",
       "       841, 844, 847, 850, 853, 856, 859, 862, 865, 868, 871, 874, 877,\n",
       "       880, 883, 886, 889, 892, 895, 898, 901, 904, 907, 910, 913, 916,\n",
       "       919, 922, 925, 928, 931, 934, 937, 940, 943, 946, 949, 952, 955,\n",
       "       958, 961, 964, 967, 970, 973, 976, 979, 982, 985, 988, 991, 994,\n",
       "       997])>"
      ]
     },
     "execution_count": 15,
     "metadata": {},
     "output_type": "execute_result"
    }
   ],
   "source": [
    "#larger dataset\n",
    "X = tf.range(100,1000,3)\n",
    "X"
   ]
  },
  {
   "cell_type": "code",
   "execution_count": null,
   "metadata": {},
   "outputs": [
    {
     "data": {
      "text/plain": [
       "<tf.Tensor: shape=(300,), dtype=int32, numpy=\n",
       "array([ 133,  136,  139,  142,  145,  148,  151,  154,  157,  160,  163,\n",
       "        166,  169,  172,  175,  178,  181,  184,  187,  190,  193,  196,\n",
       "        199,  202,  205,  208,  211,  214,  217,  220,  223,  226,  229,\n",
       "        232,  235,  238,  241,  244,  247,  250,  253,  256,  259,  262,\n",
       "        265,  268,  271,  274,  277,  280,  283,  286,  289,  292,  295,\n",
       "        298,  301,  304,  307,  310,  313,  316,  319,  322,  325,  328,\n",
       "        331,  334,  337,  340,  343,  346,  349,  352,  355,  358,  361,\n",
       "        364,  367,  370,  373,  376,  379,  382,  385,  388,  391,  394,\n",
       "        397,  400,  403,  406,  409,  412,  415,  418,  421,  424,  427,\n",
       "        430,  433,  436,  439,  442,  445,  448,  451,  454,  457,  460,\n",
       "        463,  466,  469,  472,  475,  478,  481,  484,  487,  490,  493,\n",
       "        496,  499,  502,  505,  508,  511,  514,  517,  520,  523,  526,\n",
       "        529,  532,  535,  538,  541,  544,  547,  550,  553,  556,  559,\n",
       "        562,  565,  568,  571,  574,  577,  580,  583,  586,  589,  592,\n",
       "        595,  598,  601,  604,  607,  610,  613,  616,  619,  622,  625,\n",
       "        628,  631,  634,  637,  640,  643,  646,  649,  652,  655,  658,\n",
       "        661,  664,  667,  670,  673,  676,  679,  682,  685,  688,  691,\n",
       "        694,  697,  700,  703,  706,  709,  712,  715,  718,  721,  724,\n",
       "        727,  730,  733,  736,  739,  742,  745,  748,  751,  754,  757,\n",
       "        760,  763,  766,  769,  772,  775,  778,  781,  784,  787,  790,\n",
       "        793,  796,  799,  802,  805,  808,  811,  814,  817,  820,  823,\n",
       "        826,  829,  832,  835,  838,  841,  844,  847,  850,  853,  856,\n",
       "        859,  862,  865,  868,  871,  874,  877,  880,  883,  886,  889,\n",
       "        892,  895,  898,  901,  904,  907,  910,  913,  916,  919,  922,\n",
       "        925,  928,  931,  934,  937,  940,  943,  946,  949,  952,  955,\n",
       "        958,  961,  964,  967,  970,  973,  976,  979,  982,  985,  988,\n",
       "        991,  994,  997, 1000, 1003, 1006, 1009, 1012, 1015, 1018, 1021,\n",
       "       1024, 1027, 1030])>"
      ]
     },
     "execution_count": 16,
     "metadata": {},
     "output_type": "execute_result"
    }
   ],
   "source": [
    "y=X+33\n",
    "y"
   ]
  },
  {
   "cell_type": "code",
   "execution_count": null,
   "metadata": {},
   "outputs": [
    {
     "data": {
      "text/plain": [
       "[<matplotlib.lines.Line2D at 0x2cffe5abeb0>]"
      ]
     },
     "execution_count": 17,
     "metadata": {},
     "output_type": "execute_result"
    },
    {
     "data": {
      "image/png": "[encoded data removed]",
      "text/plain": [
       "<Figure size 640x480 with 1 Axes>"
      ]
     },
     "metadata": {},
     "output_type": "display_data"
    }
   ],
   "source": [
    "#visualize the data\n",
    "plt.plot(X,y)"
   ]
  },
  {
   "cell_type": "code",
   "execution_count": null,
   "metadata": {},
   "outputs": [
    {
     "data": {
      "text/plain": [
       "<matplotlib.collections.PathCollection at 0x2cfff5f19f0>"
      ]
     },
     "execution_count": 18,
     "metadata": {},
     "output_type": "execute_result"
    },
    {
     "data": {
      "image/png": "[encoded data removed]",
      "text/plain": [
       "<Figure size 640x480 with 1 Axes>"
      ]
     },
     "metadata": {},
     "output_type": "display_data"
    }
   ],
   "source": [
    "plt.scatter(X,y)"
   ]
  },
  {
   "cell_type": "code",
   "execution_count": null,
   "metadata": {},
   "outputs": [
    {
     "data": {
      "text/plain": [
       "300"
      ]
     },
     "execution_count": 19,
     "metadata": {},
     "output_type": "execute_result"
    }
   ],
   "source": [
    "len(X)"
   ]
  },
  {
   "cell_type": "code",
   "execution_count": null,
   "metadata": {},
   "outputs": [
    {
     "data": {
      "text/plain": [
       "(240, 60)"
      ]
     },
     "execution_count": 20,
     "metadata": {},
     "output_type": "execute_result"
    }
   ],
   "source": [
    "X_train,y_train = X[:240],y[:240]\n",
    "X_test,y_test = X[240:],y[240:]\n",
    "len(X_train),len(X_test)"
   ]
  },
  {
   "cell_type": "code",
   "execution_count": null,
   "metadata": {},
   "outputs": [
    {
     "data": {
      "text/plain": [
       "<matplotlib.collections.PathCollection at 0x2cfff647eb0>"
      ]
     },
     "execution_count": 21,
     "metadata": {},
     "output_type": "execute_result"
    },
    {
     "data": {
      "image/png": "[encoded data removed]",
      "text/plain": [
       "<Figure size 1000x700 with 1 Axes>"
      ]
     },
     "metadata": {},
     "output_type": "display_data"
    }
   ],
   "source": [
    "#visualizing the sets\n",
    "plt.figure(figsize=(10,7))\n",
    "plt.scatter(X_train,y_train,c='r',label='Training Data')\n",
    "plt.scatter(X_test,y_test,c='b',label='Testing Data')"
   ]
  },
  {
   "cell_type": "code",
   "execution_count": null,
   "metadata": {},
   "outputs": [],
   "source": [
    "#building the model\n",
    "model=tf.keras.Sequential()\n",
    "model.add(tf.keras.layers.Dense(1, input_shape=[1]))\n"
   ]
  },
  {
   "cell_type": "code",
   "execution_count": null,
   "metadata": {},
   "outputs": [],
   "source": [
    "#compiling the model\n",
    "model.compile(loss=tf.keras.losses.mae,\n",
    "              optimizer=tf.keras.optimizers.Adam(learning_rate=0.0001),\n",
    "              metrics=['mae'])"
   ]
  },
  {
   "cell_type": "code",
   "execution_count": null,
   "metadata": {},
   "outputs": [
    {
     "name": "stdout",
     "output_type": "stream",
     "text": [
      "Model: \"sequential_1\"\n",
      "_________________________________________________________________\n",
      " Layer (type)                Output Shape              Param #   \n",
      "=================================================================\n",
      " dense_2 (Dense)             (None, 1)                 2         \n",
      "                                                                 \n",
      "=================================================================\n",
      "Total params: 2\n",
      "Trainable params: 2\n",
      "Non-trainable params: 0\n",
      "_________________________________________________________________\n"
     ]
    }
   ],
   "source": [
    "model.summary()"
   ]
  },
  {
   "cell_type": "code",
   "execution_count": null,
   "metadata": {},
   "outputs": [
    {
     "name": "stdout",
     "output_type": "stream",
     "text": [
      "Epoch 1/100\n",
      "8/8 [==============================] - 4s 10ms/step - loss: 1101.0637 - mae: 1101.0637\n",
      "Epoch 2/100\n",
      "8/8 [==============================] - 0s 17ms/step - loss: 1097.3776 - mae: 1097.3776\n",
      "Epoch 3/100\n",
      "8/8 [==============================] - 0s 11ms/step - loss: 1093.7524 - mae: 1093.7524\n",
      "Epoch 4/100\n",
      "8/8 [==============================] - 0s 10ms/step - loss: 1090.0509 - mae: 1090.0509\n",
      "Epoch 5/100\n",
      "8/8 [==============================] - 0s 9ms/step - loss: 1086.4185 - mae: 1086.4185\n",
      "Epoch 6/100\n",
      "8/8 [==============================] - 0s 10ms/step - loss: 1082.7423 - mae: 1082.7423\n",
      "Epoch 7/100\n",
      "8/8 [==============================] - 0s 11ms/step - loss: 1079.0699 - mae: 1079.0699\n",
      "Epoch 8/100\n",
      "8/8 [==============================] - 0s 12ms/step - loss: 1075.4016 - mae: 1075.4016\n",
      "Epoch 9/100\n",
      "8/8 [==============================] - 0s 12ms/step - loss: 1071.7356 - mae: 1071.7356\n",
      "Epoch 10/100\n",
      "8/8 [==============================] - 0s 10ms/step - loss: 1068.1073 - mae: 1068.1073\n",
      "Epoch 11/100\n",
      "8/8 [==============================] - 0s 14ms/step - loss: 1064.3947 - mae: 1064.3947\n",
      "Epoch 12/100\n",
      "8/8 [==============================] - 0s 13ms/step - loss: 1060.7301 - mae: 1060.7301\n",
      "Epoch 13/100\n",
      "8/8 [==============================] - 0s 14ms/step - loss: 1057.0544 - mae: 1057.0544\n",
      "Epoch 14/100\n",
      "8/8 [==============================] - 0s 13ms/step - loss: 1053.3575 - mae: 1053.3575\n",
      "Epoch 15/100\n",
      "8/8 [==============================] - 0s 11ms/step - loss: 1049.7015 - mae: 1049.7015\n",
      "Epoch 16/100\n",
      "8/8 [==============================] - 0s 11ms/step - loss: 1046.0146 - mae: 1046.0146\n",
      "Epoch 17/100\n",
      "8/8 [==============================] - 0s 11ms/step - loss: 1042.3459 - mae: 1042.3459\n",
      "Epoch 18/100\n",
      "8/8 [==============================] - 0s 12ms/step - loss: 1038.6517 - mae: 1038.6517\n",
      "Epoch 19/100\n",
      "8/8 [==============================] - 0s 13ms/step - loss: 1034.9884 - mae: 1034.9884\n",
      "Epoch 20/100\n",
      "8/8 [==============================] - 0s 12ms/step - loss: 1031.2758 - mae: 1031.2758\n",
      "Epoch 21/100\n",
      "8/8 [==============================] - 0s 13ms/step - loss: 1027.6458 - mae: 1027.6458\n",
      "Epoch 22/100\n",
      "8/8 [==============================] - 0s 14ms/step - loss: 1023.9893 - mae: 1023.9893\n",
      "Epoch 23/100\n",
      "8/8 [==============================] - 0s 12ms/step - loss: 1020.3151 - mae: 1020.3151\n",
      "Epoch 24/100\n",
      "8/8 [==============================] - 0s 11ms/step - loss: 1016.6283 - mae: 1016.6283\n",
      "Epoch 25/100\n",
      "8/8 [==============================] - 0s 12ms/step - loss: 1012.9070 - mae: 1012.9070\n",
      "Epoch 26/100\n",
      "8/8 [==============================] - 0s 12ms/step - loss: 1009.3155 - mae: 1009.3155\n",
      "Epoch 27/100\n",
      "8/8 [==============================] - 0s 6ms/step - loss: 1005.5743 - mae: 1005.5743\n",
      "Epoch 28/100\n",
      "8/8 [==============================] - 0s 15ms/step - loss: 1001.9544 - mae: 1001.9544\n",
      "Epoch 29/100\n",
      "8/8 [==============================] - 0s 12ms/step - loss: 998.2883 - mae: 998.2883\n",
      "Epoch 30/100\n",
      "8/8 [==============================] - 0s 10ms/step - loss: 994.5945 - mae: 994.5945\n",
      "Epoch 31/100\n",
      "8/8 [==============================] - 0s 18ms/step - loss: 990.9761 - mae: 990.9761\n",
      "Epoch 32/100\n",
      "8/8 [==============================] - 0s 14ms/step - loss: 987.3030 - mae: 987.3030\n",
      "Epoch 33/100\n",
      "8/8 [==============================] - 0s 12ms/step - loss: 983.6091 - mae: 983.6091\n",
      "Epoch 34/100\n",
      "8/8 [==============================] - 0s 9ms/step - loss: 979.9533 - mae: 979.9533\n",
      "Epoch 35/100\n",
      "8/8 [==============================] - 0s 17ms/step - loss: 976.2675 - mae: 976.2675\n",
      "Epoch 36/100\n",
      "8/8 [==============================] - 0s 7ms/step - loss: 972.5803 - mae: 972.5803\n",
      "Epoch 37/100\n",
      "8/8 [==============================] - 0s 14ms/step - loss: 968.9586 - mae: 968.9586\n",
      "Epoch 38/100\n",
      "8/8 [==============================] - 0s 11ms/step - loss: 965.2811 - mae: 965.2811\n",
      "Epoch 39/100\n",
      "8/8 [==============================] - 0s 16ms/step - loss: 961.5983 - mae: 961.5983\n",
      "Epoch 40/100\n",
      "8/8 [==============================] - 0s 8ms/step - loss: 957.9111 - mae: 957.9111\n",
      "Epoch 41/100\n",
      "8/8 [==============================] - 0s 10ms/step - loss: 954.2198 - mae: 954.2198\n",
      "Epoch 42/100\n",
      "8/8 [==============================] - 0s 17ms/step - loss: 950.5810 - mae: 950.5810\n",
      "Epoch 43/100\n",
      "8/8 [==============================] - 0s 11ms/step - loss: 946.8314 - mae: 946.8314\n",
      "Epoch 44/100\n",
      "8/8 [==============================] - 0s 11ms/step - loss: 943.1488 - mae: 943.1488\n",
      "Epoch 45/100\n",
      "8/8 [==============================] - 0s 14ms/step - loss: 939.4678 - mae: 939.4678\n",
      "Epoch 46/100\n",
      "8/8 [==============================] - 0s 17ms/step - loss: 935.7659 - mae: 935.7659\n",
      "Epoch 47/100\n",
      "8/8 [==============================] - 0s 21ms/step - loss: 932.1454 - mae: 932.1454\n",
      "Epoch 48/100\n",
      "8/8 [==============================] - 0s 17ms/step - loss: 928.4718 - mae: 928.4718\n",
      "Epoch 49/100\n",
      "8/8 [==============================] - 0s 7ms/step - loss: 924.7598 - mae: 924.7598\n",
      "Epoch 50/100\n",
      "8/8 [==============================] - 0s 23ms/step - loss: 921.1539 - mae: 921.1539\n",
      "Epoch 51/100\n",
      "8/8 [==============================] - 0s 16ms/step - loss: 917.4706 - mae: 917.4706\n",
      "Epoch 52/100\n",
      "8/8 [==============================] - 0s 15ms/step - loss: 913.7941 - mae: 913.7941\n",
      "Epoch 53/100\n",
      "8/8 [==============================] - 0s 11ms/step - loss: 910.0975 - mae: 910.0975\n",
      "Epoch 54/100\n",
      "8/8 [==============================] - 0s 19ms/step - loss: 906.4359 - mae: 906.4359\n",
      "Epoch 55/100\n",
      "8/8 [==============================] - 0s 14ms/step - loss: 902.7957 - mae: 902.7957\n",
      "Epoch 56/100\n",
      "8/8 [==============================] - 0s 10ms/step - loss: 899.1173 - mae: 899.1173\n",
      "Epoch 57/100\n",
      "8/8 [==============================] - 0s 12ms/step - loss: 895.4503 - mae: 895.4503\n",
      "Epoch 58/100\n",
      "8/8 [==============================] - 0s 16ms/step - loss: 891.8264 - mae: 891.8264\n",
      "Epoch 59/100\n",
      "8/8 [==============================] - 0s 13ms/step - loss: 888.1523 - mae: 888.1523\n",
      "Epoch 60/100\n",
      "8/8 [==============================] - 0s 13ms/step - loss: 884.5046 - mae: 884.5046\n",
      "Epoch 61/100\n",
      "8/8 [==============================] - 0s 7ms/step - loss: 880.8757 - mae: 880.8757\n",
      "Epoch 62/100\n",
      "8/8 [==============================] - 0s 10ms/step - loss: 877.1992 - mae: 877.1992\n",
      "Epoch 63/100\n",
      "8/8 [==============================] - 0s 11ms/step - loss: 873.5636 - mae: 873.5636\n",
      "Epoch 64/100\n",
      "8/8 [==============================] - 0s 11ms/step - loss: 869.8574 - mae: 869.8574\n",
      "Epoch 65/100\n",
      "8/8 [==============================] - 0s 15ms/step - loss: 866.2090 - mae: 866.2090\n",
      "Epoch 66/100\n",
      "8/8 [==============================] - 0s 12ms/step - loss: 862.5129 - mae: 862.5129\n",
      "Epoch 67/100\n",
      "8/8 [==============================] - 0s 14ms/step - loss: 858.8396 - mae: 858.8396\n",
      "Epoch 68/100\n",
      "8/8 [==============================] - 0s 9ms/step - loss: 855.1373 - mae: 855.1373\n",
      "Epoch 69/100\n",
      "8/8 [==============================] - 0s 12ms/step - loss: 851.5025 - mae: 851.5025\n",
      "Epoch 70/100\n",
      "8/8 [==============================] - 0s 13ms/step - loss: 847.8055 - mae: 847.8055\n",
      "Epoch 71/100\n",
      "8/8 [==============================] - 0s 12ms/step - loss: 844.1221 - mae: 844.1221\n",
      "Epoch 72/100\n",
      "8/8 [==============================] - 0s 7ms/step - loss: 840.5001 - mae: 840.5001\n",
      "Epoch 73/100\n",
      "8/8 [==============================] - 0s 12ms/step - loss: 836.8057 - mae: 836.8057\n",
      "Epoch 74/100\n",
      "8/8 [==============================] - 0s 16ms/step - loss: 833.2261 - mae: 833.2261\n",
      "Epoch 75/100\n",
      "8/8 [==============================] - 0s 14ms/step - loss: 829.5471 - mae: 829.5471\n",
      "Epoch 76/100\n",
      "8/8 [==============================] - 0s 16ms/step - loss: 825.8880 - mae: 825.8880\n",
      "Epoch 77/100\n",
      "8/8 [==============================] - 0s 15ms/step - loss: 822.2344 - mae: 822.2344\n",
      "Epoch 78/100\n",
      "8/8 [==============================] - 0s 6ms/step - loss: 818.5651 - mae: 818.5651\n",
      "Epoch 79/100\n",
      "8/8 [==============================] - 0s 10ms/step - loss: 814.9024 - mae: 814.9024\n",
      "Epoch 80/100\n",
      "8/8 [==============================] - 0s 10ms/step - loss: 811.2457 - mae: 811.2457\n",
      "Epoch 81/100\n",
      "8/8 [==============================] - 0s 10ms/step - loss: 807.5498 - mae: 807.5498\n",
      "Epoch 82/100\n",
      "8/8 [==============================] - 0s 10ms/step - loss: 803.9052 - mae: 803.9052\n",
      "Epoch 83/100\n",
      "8/8 [==============================] - 0s 7ms/step - loss: 800.2297 - mae: 800.2297\n",
      "Epoch 84/100\n",
      "8/8 [==============================] - 0s 9ms/step - loss: 796.5790 - mae: 796.5790\n",
      "Epoch 85/100\n",
      "8/8 [==============================] - 0s 10ms/step - loss: 792.9180 - mae: 792.9180\n",
      "Epoch 86/100\n",
      "8/8 [==============================] - 0s 10ms/step - loss: 789.2699 - mae: 789.2699\n",
      "Epoch 87/100\n",
      "8/8 [==============================] - 0s 10ms/step - loss: 785.6061 - mae: 785.6061\n",
      "Epoch 88/100\n",
      "8/8 [==============================] - 0s 8ms/step - loss: 781.9850 - mae: 781.9850\n",
      "Epoch 89/100\n",
      "8/8 [==============================] - 0s 18ms/step - loss: 778.3025 - mae: 778.3025\n",
      "Epoch 90/100\n",
      "8/8 [==============================] - 0s 14ms/step - loss: 774.6057 - mae: 774.6057\n",
      "Epoch 91/100\n",
      "8/8 [==============================] - 0s 10ms/step - loss: 770.9493 - mae: 770.9493\n",
      "Epoch 92/100\n",
      "8/8 [==============================] - 0s 15ms/step - loss: 767.3399 - mae: 767.3399\n",
      "Epoch 93/100\n",
      "8/8 [==============================] - 0s 11ms/step - loss: 763.6268 - mae: 763.6268\n",
      "Epoch 94/100\n",
      "8/8 [==============================] - 0s 10ms/step - loss: 759.9807 - mae: 759.9807\n",
      "Epoch 95/100\n",
      "8/8 [==============================] - 0s 10ms/step - loss: 756.3089 - mae: 756.3089\n",
      "Epoch 96/100\n",
      "8/8 [==============================] - 0s 9ms/step - loss: 752.6971 - mae: 752.6971\n",
      "Epoch 97/100\n",
      "8/8 [==============================] - 0s 12ms/step - loss: 749.0847 - mae: 749.0847\n",
      "Epoch 98/100\n",
      "8/8 [==============================] - 0s 9ms/step - loss: 745.3884 - mae: 745.3884\n",
      "Epoch 99/100\n",
      "8/8 [==============================] - 0s 11ms/step - loss: 741.7824 - mae: 741.7824\n",
      "Epoch 100/100\n",
      "8/8 [==============================] - 0s 9ms/step - loss: 738.0784 - mae: 738.0784\n"
     ]
    },
    {
     "data": {
      "text/plain": [
       "<keras.callbacks.History at 0x2cfff68ec80>"
      ]
     },
     "execution_count": 25,
     "metadata": {},
     "output_type": "execute_result"
    }
   ],
   "source": [
    "#fitting the model\n",
    "model.fit(X_train,y_train, epochs = 100)"
   ]
  },
  {
   "cell_type": "code",
   "execution_count": null,
   "metadata": {},
   "outputs": [
    {
     "data": {
      "image/png": "[encoded data removed]",
      "text/plain": [
       "<IPython.core.display.Image object>"
      ]
     },
     "execution_count": 26,
     "metadata": {},
     "output_type": "execute_result"
    }
   ],
   "source": [
    "tf.keras.utils.plot_model(model=model,show_shapes=True)"
   ]
  },
  {
   "cell_type": "code",
   "execution_count": null,
   "metadata": {},
   "outputs": [
    {
     "name": "stdout",
     "output_type": "stream",
     "text": [
      "2/2 [==============================] - 1s 11ms/step\n"
     ]
    },
    {
     "data": {
      "text/plain": [
       "(array([[-437.68155],\n",
       "        [-439.28577],\n",
       "        [-440.88995],\n",
       "        [-442.49417],\n",
       "        [-444.09836],\n",
       "        [-445.70258],\n",
       "        [-447.30676],\n",
       "        [-448.91095],\n",
       "        [-450.51517],\n",
       "        [-452.11935],\n",
       "        [-453.72357],\n",
       "        [-455.32776],\n",
       "        [-456.93198],\n",
       "        [-458.53616],\n",
       "        [-460.14038],\n",
       "        [-461.74457],\n",
       "        [-463.3488 ],\n",
       "        [-464.95297],\n",
       "        [-466.55716],\n",
       "        [-468.16138],\n",
       "        [-469.76556],\n",
       "        [-471.36978],\n",
       "        [-472.97397],\n",
       "        [-474.5782 ],\n",
       "        [-476.18237],\n",
       "        [-477.7866 ],\n",
       "        [-479.39078],\n",
       "        [-480.995  ],\n",
       "        [-482.59918],\n",
       "        [-484.20337],\n",
       "        [-485.8076 ],\n",
       "        [-487.41177],\n",
       "        [-489.016  ],\n",
       "        [-490.62018],\n",
       "        [-492.2244 ],\n",
       "        [-493.82858],\n",
       "        [-495.4328 ],\n",
       "        [-497.037  ],\n",
       "        [-498.64117],\n",
       "        [-500.2454 ],\n",
       "        [-501.84958],\n",
       "        [-503.4538 ],\n",
       "        [-505.05798],\n",
       "        [-506.6622 ],\n",
       "        [-508.2664 ],\n",
       "        [-509.8706 ],\n",
       "        [-511.4748 ],\n",
       "        [-513.079  ],\n",
       "        [-514.68317],\n",
       "        [-516.2874 ],\n",
       "        [-517.8916 ],\n",
       "        [-519.4958 ],\n",
       "        [-521.1    ],\n",
       "        [-522.7042 ],\n",
       "        [-524.3084 ],\n",
       "        [-525.9126 ],\n",
       "        [-527.5168 ],\n",
       "        [-529.12103],\n",
       "        [-530.7252 ],\n",
       "        [-532.3294 ]], dtype=float32),\n",
       " <tf.Tensor: shape=(60,), dtype=int32, numpy=\n",
       " array([ 853,  856,  859,  862,  865,  868,  871,  874,  877,  880,  883,\n",
       "         886,  889,  892,  895,  898,  901,  904,  907,  910,  913,  916,\n",
       "         919,  922,  925,  928,  931,  934,  937,  940,  943,  946,  949,\n",
       "         952,  955,  958,  961,  964,  967,  970,  973,  976,  979,  982,\n",
       "         985,  988,  991,  994,  997, 1000, 1003, 1006, 1009, 1012, 1015,\n",
       "        1018, 1021, 1024, 1027, 1030])>)"
      ]
     },
     "execution_count": 27,
     "metadata": {},
     "output_type": "execute_result"
    }
   ],
   "source": [
    "#visualizing model's predictions\n",
    "y_pred=model.predict(X_test)\n",
    "y_pred,y_test"
   ]
  },
  {
   "cell_type": "code",
   "execution_count": null,
   "metadata": {},
   "outputs": [],
   "source": [
    "#plotting predictions\n",
    "def plot_predictions(train_data=X_train,\n",
    "                     train_labels=y_train,\n",
    "                     test_data=X_test,\n",
    "                     test_labels=y_test,\n",
    "                     predictions=y_pred):\n",
    "    \"\"\"Plotting predictions\"\"\"\n",
    "    plt.figure(figsize=(10,7))\n",
    "    plt.scatter(train_data,train_labels,s=1,c='r', label=\"Training data\")\n",
    "    plt.scatter(test_data,test_labels,s=1,c='b', label=\"Testing data\")\n",
    "    plt.scatter(test_data,predictions,s=1,c='g',label='Predictions')\n",
    "    plt.legend();\n"
   ]
  },
  {
   "cell_type": "code",
   "execution_count": null,
   "metadata": {},
   "outputs": [
    {
     "data": {
      "image/png": "[encoded data removed]",
      "text/plain": [
       "<Figure size 1000x700 with 1 Axes>"
      ]
     },
     "metadata": {},
     "output_type": "display_data"
    }
   ],
   "source": [
    "plot_predictions()"
   ]
  },
  {
   "cell_type": "code",
   "execution_count": null,
   "metadata": {},
   "outputs": [
    {
     "name": "stdout",
     "output_type": "stream",
     "text": [
      "2/2 [==============================] - 1s 16ms/step - loss: 1426.5055 - mae: 1426.5055\n"
     ]
    },
    {
     "data": {
      "text/plain": [
       "[1426.5054931640625, 1426.5054931640625]"
      ]
     },
     "execution_count": 30,
     "metadata": {},
     "output_type": "execute_result"
    }
   ],
   "source": [
    "#eva;uating with evaluation metrics\n",
    "model.evaluate(X_test,y_test)"
   ]
  },
  {
   "cell_type": "code",
   "execution_count": null,
   "metadata": {},
   "outputs": [
    {
     "name": "stdout",
     "output_type": "stream",
     "text": [
      "2/2 [==============================] - 1s 21ms/step - loss: 17.6462 - mae: 17.6462\n"
     ]
    },
    {
     "data": {
      "text/plain": [
       "[17.646207809448242, 17.646207809448242]"
      ]
     },
     "execution_count": 31,
     "metadata": {},
     "output_type": "execute_result"
    }
   ],
   "source": [
    "model.evaluate(y_test,y_pred)"
   ]
  },
  {
   "cell_type": "code",
   "execution_count": null,
   "metadata": {},
   "outputs": [
    {
     "data": {
      "text/plain": [
       "<tf.Tensor: shape=(), dtype=float32, numpy=1426.5055>"
      ]
     },
     "execution_count": 32,
     "metadata": {},
     "output_type": "execute_result"
    }
   ],
   "source": [
    "y_pred=tf.squeeze(tf.constant(y_pred))\n",
    "tf.metrics.MAE(y_test,y_pred)"
   ]
  },
  {
   "cell_type": "code",
   "execution_count": null,
   "metadata": {},
   "outputs": [
    {
     "data": {
      "text/plain": [
       "<tf.Tensor: shape=(), dtype=float32, numpy=2041275.8>"
      ]
     },
     "execution_count": 33,
     "metadata": {},
     "output_type": "execute_result"
    }
   ],
   "source": [
    "tf.metrics.MSE(y_test,y_pred)"
   ]
  },
  {
   "cell_type": "code",
   "execution_count": null,
   "metadata": {},
   "outputs": [
    {
     "data": {
      "text/plain": [
       "<matplotlib.collections.PathCollection at 0x2cf811d9c00>"
      ]
     },
     "execution_count": 34,
     "metadata": {},
     "output_type": "execute_result"
    },
    {
     "data": {
      "image/png": "[encoded data removed]",
      "text/plain": [
       "<Figure size 640x480 with 1 Axes>"
      ]
     },
     "metadata": {},
     "output_type": "display_data"
    }
   ],
   "source": [
    "plt.scatter(y_test,y_pred, c='r')\n",
    "plt.scatter(X_test,y_test, c='b')"
   ]
  },
  {
   "cell_type": "code",
   "execution_count": null,
   "metadata": {},
   "outputs": [
    {
     "name": "stdout",
     "output_type": "stream",
     "text": [
      "INFO:tensorflow:Assets written to: model\\assets\n"
     ]
    }
   ],
   "source": [
    "#saving the model\n",
    "model.save(\"model\")"
   ]
  },
  {
   "cell_type": "code",
   "execution_count": null,
   "metadata": {},
   "outputs": [],
   "source": [
    "model.save(\" model\\model.h5\")"
   ]
  },
  {
   "cell_type": "code",
   "execution_count": null,
   "metadata": {},
   "outputs": [],
   "source": []
  }
 ],
 "metadata": {
  "kernelspec": {
   "display_name": "Python 3",
   "language": "python",
   "name": "python3"
  },
  "language_info": {
   "codemirror_mode": {
    "name": "ipython",
    "version": 3
   },
   "file_extension": ".py",
   "mimetype": "text/x-python",
   "name": "python",
   "nbconvert_exporter": "python",
   "pygments_lexer": "ipython3",
   "version": "3.10.0"
  },
  "orig_nbformat": 4
 },
 "nbformat": 4,
 "nbformat_minor": 2
}
