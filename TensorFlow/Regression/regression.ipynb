{
 "cells": [
  {
   "cell_type": "code",
   "execution_count": 107,
   "metadata": {},
   "outputs": [
    {
     "data": {
      "text/plain": [
       "'2.9.1'"
      ]
     },
     "execution_count": 107,
     "metadata": {},
     "output_type": "execute_result"
    }
   ],
   "source": [
    "import tensorflow as tf\n",
    "tf.__version__"
   ]
  },
  {
   "attachments": {},
   "cell_type": "markdown",
   "metadata": {},
   "source": [
    "Creating data to view and fit"
   ]
  },
  {
   "cell_type": "code",
   "execution_count": 108,
   "metadata": {},
   "outputs": [],
   "source": [
    "\n",
    "import numpy as np\n",
    "import matplotlib.pyplot as plt\n",
    "\n",
    "#create features\n",
    "X=np.array([-10,-5,0,5,10])\n",
    "\n",
    "#create labels\n",
    "y=np.array([-12,-7,-2,3,8])"
   ]
  },
  {
   "cell_type": "code",
   "execution_count": 109,
   "metadata": {},
   "outputs": [
    {
     "data": {
      "text/plain": [
       "<matplotlib.collections.PathCollection at 0x2cf84516020>"
      ]
     },
     "execution_count": 109,
     "metadata": {},
     "output_type": "execute_result"
    },
    {
     "data": {
      "image/png": "[encoded data removed]",
      "text/plain": [
       "<Figure size 640x480 with 1 Axes>"
      ]
     },
     "metadata": {},
     "output_type": "display_data"
    }
   ],
   "source": [
    "plt.scatter(X,y)"
   ]
  },
  {
   "cell_type": "code",
   "execution_count": 110,
   "metadata": {},
   "outputs": [
    {
     "data": {
      "text/plain": [
       "array([ True,  True,  True,  True,  True])"
      ]
     },
     "execution_count": 110,
     "metadata": {},
     "output_type": "execute_result"
    }
   ],
   "source": [
    "y==X-2"
   ]
  },
  {
   "attachments": {},
   "cell_type": "markdown",
   "metadata": {},
   "source": [
    "Input & Output Shapes"
   ]
  },
  {
   "cell_type": "code",
   "execution_count": 111,
   "metadata": {},
   "outputs": [
    {
     "data": {
      "text/plain": [
       "(<tf.Tensor: shape=(5,), dtype=float32, numpy=array([-10.,  -5.,   0.,   5.,  10.], dtype=float32)>,\n",
       " <tf.Tensor: shape=(5,), dtype=float32, numpy=array([-12.,  -7.,  -2.,   3.,   8.], dtype=float32)>)"
      ]
     },
     "execution_count": 111,
     "metadata": {},
     "output_type": "execute_result"
    }
   ],
   "source": [
    "#convert np array into tensors\n",
    "X=tf.cast(tf.constant(X), dtype=tf.float32)\n",
    "y=tf.cast(tf.constant(y), dtype=tf.float32)\n",
    "X,y\n"
   ]
  },
  {
   "attachments": {},
   "cell_type": "markdown",
   "metadata": {},
   "source": [
    "Modelling"
   ]
  },
  {
   "cell_type": "code",
   "execution_count": 112,
   "metadata": {},
   "outputs": [],
   "source": [
    "#set random seed\n",
    "tf.random.set_seed(100)"
   ]
  },
  {
   "cell_type": "code",
   "execution_count": 113,
   "metadata": {},
   "outputs": [],
   "source": [
    "#create a model sequentially\n",
    "model=tf.keras.Sequential()\n",
    "model.add(tf.keras.layers.Dense(1))"
   ]
  },
  {
   "cell_type": "code",
   "execution_count": 114,
   "metadata": {},
   "outputs": [],
   "source": [
    "#compile the model\n",
    "model.compile(loss=tf.keras.losses.mae,\n",
    "              optimizer=tf.keras.optimizers.SGD(),\n",
    "              metrics=['mae'])\n"
   ]
  },
  {
   "cell_type": "code",
   "execution_count": 115,
   "metadata": {},
   "outputs": [
    {
     "name": "stdout",
     "output_type": "stream",
     "text": [
      "Epoch 1/30\n",
      "1/1 [==============================] - 5s 5s/step - loss: 11.6169 - mae: 11.6169\n",
      "Epoch 2/30\n",
      "1/1 [==============================] - 0s 56ms/step - loss: 11.2565 - mae: 11.2565\n",
      "Epoch 3/30\n",
      "1/1 [==============================] - 0s 30ms/step - loss: 10.8961 - mae: 10.8961\n",
      "Epoch 4/30\n",
      "1/1 [==============================] - 0s 27ms/step - loss: 10.5357 - mae: 10.5357\n",
      "Epoch 5/30\n",
      "1/1 [==============================] - 0s 66ms/step - loss: 10.1753 - mae: 10.1753\n",
      "Epoch 6/30\n",
      "1/1 [==============================] - 0s 32ms/step - loss: 9.8149 - mae: 9.8149\n",
      "Epoch 7/30\n",
      "1/1 [==============================] - 0s 40ms/step - loss: 9.4545 - mae: 9.4545\n",
      "Epoch 8/30\n",
      "1/1 [==============================] - 0s 126ms/step - loss: 9.0941 - mae: 9.0941\n",
      "Epoch 9/30\n",
      "1/1 [==============================] - 0s 25ms/step - loss: 8.7337 - mae: 8.7337\n",
      "Epoch 10/30\n",
      "1/1 [==============================] - 0s 84ms/step - loss: 8.3733 - mae: 8.3733\n",
      "Epoch 11/30\n",
      "1/1 [==============================] - 0s 26ms/step - loss: 8.0129 - mae: 8.0129\n",
      "Epoch 12/30\n",
      "1/1 [==============================] - 0s 25ms/step - loss: 7.6525 - mae: 7.6525\n",
      "Epoch 13/30\n",
      "1/1 [==============================] - 0s 51ms/step - loss: 7.2921 - mae: 7.2921\n",
      "Epoch 14/30\n",
      "1/1 [==============================] - 0s 25ms/step - loss: 6.9317 - mae: 6.9317\n",
      "Epoch 15/30\n",
      "1/1 [==============================] - 0s 25ms/step - loss: 6.5713 - mae: 6.5713\n",
      "Epoch 16/30\n",
      "1/1 [==============================] - 0s 88ms/step - loss: 6.2109 - mae: 6.2109\n",
      "Epoch 17/30\n",
      "1/1 [==============================] - 0s 24ms/step - loss: 5.8505 - mae: 5.8505\n",
      "Epoch 18/30\n",
      "1/1 [==============================] - 0s 50ms/step - loss: 5.4901 - mae: 5.4901\n",
      "Epoch 19/30\n",
      "1/1 [==============================] - 0s 24ms/step - loss: 5.1297 - mae: 5.1297\n",
      "Epoch 20/30\n",
      "1/1 [==============================] - 0s 26ms/step - loss: 4.7693 - mae: 4.7693\n",
      "Epoch 21/30\n",
      "1/1 [==============================] - 0s 49ms/step - loss: 4.4089 - mae: 4.4089\n",
      "Epoch 22/30\n",
      "1/1 [==============================] - 0s 19ms/step - loss: 4.0485 - mae: 4.0485\n",
      "Epoch 23/30\n",
      "1/1 [==============================] - 0s 19ms/step - loss: 3.6881 - mae: 3.6881\n",
      "Epoch 24/30\n",
      "1/1 [==============================] - 0s 29ms/step - loss: 3.3277 - mae: 3.3277\n",
      "Epoch 25/30\n",
      "1/1 [==============================] - 0s 23ms/step - loss: 2.9673 - mae: 2.9673\n",
      "Epoch 26/30\n",
      "1/1 [==============================] - 0s 41ms/step - loss: 2.6480 - mae: 2.6480\n",
      "Epoch 27/30\n",
      "1/1 [==============================] - 0s 24ms/step - loss: 2.4844 - mae: 2.4844\n",
      "Epoch 28/30\n",
      "1/1 [==============================] - 0s 24ms/step - loss: 2.3207 - mae: 2.3207\n",
      "Epoch 29/30\n",
      "1/1 [==============================] - 0s 64ms/step - loss: 2.1572 - mae: 2.1572\n",
      "Epoch 30/30\n",
      "1/1 [==============================] - 0s 25ms/step - loss: 1.9935 - mae: 1.9935\n"
     ]
    },
    {
     "data": {
      "text/plain": [
       "<keras.callbacks.History at 0x2cf84532320>"
      ]
     },
     "execution_count": 115,
     "metadata": {},
     "output_type": "execute_result"
    }
   ],
   "source": [
    "#fit the model\n",
    "model.fit(tf.expand_dims(X,axis=-1),y,epochs=30)"
   ]
  },
  {
   "cell_type": "code",
   "execution_count": 116,
   "metadata": {},
   "outputs": [
    {
     "name": "stdout",
     "output_type": "stream",
     "text": [
      "1/1 [==============================] - 1s 747ms/step\n"
     ]
    },
    {
     "data": {
      "text/plain": [
       "array([[4.0725627]], dtype=float32)"
      ]
     },
     "execution_count": 116,
     "metadata": {},
     "output_type": "execute_result"
    }
   ],
   "source": [
    "model.predict([5])"
   ]
  },
  {
   "attachments": {},
   "cell_type": "markdown",
   "metadata": {},
   "source": [
    "Improving the model"
   ]
  },
  {
   "cell_type": "code",
   "execution_count": 117,
   "metadata": {},
   "outputs": [],
   "source": [
    "model.add(tf.keras.layers.Dense(1))\n",
    "model.add(tf.keras.layers.Dropout(0.3))\n",
    "model.compile(loss=tf.keras.losses.mae,\n",
    "              optimizer=tf.keras.optimizers.SGD(),\n",
    "              metrics=['mae'])"
   ]
  },
  {
   "cell_type": "code",
   "execution_count": 118,
   "metadata": {},
   "outputs": [
    {
     "name": "stdout",
     "output_type": "stream",
     "text": [
      "Epoch 1/30\n",
      "1/1 [==============================] - 6s 6s/step - loss: 2.9179 - mae: 2.9179\n",
      "Epoch 2/30\n",
      "1/1 [==============================] - 0s 26ms/step - loss: 2.7886 - mae: 2.7886\n",
      "Epoch 3/30\n",
      "1/1 [==============================] - 0s 27ms/step - loss: 5.5989 - mae: 5.5989\n",
      "Epoch 4/30\n",
      "1/1 [==============================] - 0s 90ms/step - loss: 2.8021 - mae: 2.8021\n",
      "Epoch 5/30\n",
      "1/1 [==============================] - 0s 29ms/step - loss: 4.3680 - mae: 4.3680\n",
      "Epoch 6/30\n",
      "1/1 [==============================] - 0s 85ms/step - loss: 2.7469 - mae: 2.7469\n",
      "Epoch 7/30\n",
      "1/1 [==============================] - 0s 27ms/step - loss: 5.1043 - mae: 5.1043\n",
      "Epoch 8/30\n",
      "1/1 [==============================] - 0s 26ms/step - loss: 4.0572 - mae: 4.0572\n",
      "Epoch 9/30\n",
      "1/1 [==============================] - 0s 46ms/step - loss: 1.7190 - mae: 1.7190\n",
      "Epoch 10/30\n",
      "1/1 [==============================] - 0s 49ms/step - loss: 1.8742 - mae: 1.8742\n",
      "Epoch 11/30\n",
      "1/1 [==============================] - 0s 28ms/step - loss: 2.9479 - mae: 2.9479\n",
      "Epoch 12/30\n",
      "1/1 [==============================] - 0s 41ms/step - loss: 5.0494 - mae: 5.0494\n",
      "Epoch 13/30\n",
      "1/1 [==============================] - 0s 24ms/step - loss: 4.1678 - mae: 4.1678\n",
      "Epoch 14/30\n",
      "1/1 [==============================] - 0s 100ms/step - loss: 2.8892 - mae: 2.8892\n",
      "Epoch 15/30\n",
      "1/1 [==============================] - 0s 31ms/step - loss: 3.9426 - mae: 3.9426\n",
      "Epoch 16/30\n",
      "1/1 [==============================] - 0s 28ms/step - loss: 2.6898 - mae: 2.6898\n",
      "Epoch 17/30\n",
      "1/1 [==============================] - 0s 89ms/step - loss: 1.5340 - mae: 1.5340\n",
      "Epoch 18/30\n",
      "1/1 [==============================] - 0s 24ms/step - loss: 2.7629 - mae: 2.7629\n",
      "Epoch 19/30\n",
      "1/1 [==============================] - 0s 23ms/step - loss: 1.4579 - mae: 1.4579\n",
      "Epoch 20/30\n",
      "1/1 [==============================] - 0s 18ms/step - loss: 4.0507 - mae: 4.0507\n",
      "Epoch 21/30\n",
      "1/1 [==============================] - 0s 17ms/step - loss: 3.8980 - mae: 3.8980\n",
      "Epoch 22/30\n",
      "1/1 [==============================] - 0s 103ms/step - loss: 2.6581 - mae: 2.6581\n",
      "Epoch 23/30\n",
      "1/1 [==============================] - 0s 21ms/step - loss: 2.6983 - mae: 2.6983\n",
      "Epoch 24/30\n",
      "1/1 [==============================] - 0s 22ms/step - loss: 3.8704 - mae: 3.8704\n",
      "Epoch 25/30\n",
      "1/1 [==============================] - 0s 49ms/step - loss: 6.4000 - mae: 6.4000\n",
      "Epoch 26/30\n",
      "1/1 [==============================] - 0s 27ms/step - loss: 1.3080 - mae: 1.3080\n",
      "Epoch 27/30\n",
      "1/1 [==============================] - 0s 43ms/step - loss: 6.0055 - mae: 6.0055\n",
      "Epoch 28/30\n",
      "1/1 [==============================] - 0s 29ms/step - loss: 3.8226 - mae: 3.8226\n",
      "Epoch 29/30\n",
      "1/1 [==============================] - 0s 22ms/step - loss: 4.1656 - mae: 4.1656\n",
      "Epoch 30/30\n",
      "1/1 [==============================] - 0s 64ms/step - loss: 1.4722 - mae: 1.4722\n"
     ]
    },
    {
     "data": {
      "text/plain": [
       "<keras.callbacks.History at 0x2cf85679120>"
      ]
     },
     "execution_count": 118,
     "metadata": {},
     "output_type": "execute_result"
    }
   ],
   "source": [
    "model.fit(tf.expand_dims(X,axis=-1),y,epochs=30)"
   ]
  },
  {
   "cell_type": "code",
   "execution_count": 119,
   "metadata": {},
   "outputs": [
    {
     "name": "stdout",
     "output_type": "stream",
     "text": [
      "1/1 [==============================] - 1s 1s/step\n"
     ]
    },
    {
     "data": {
      "text/plain": [
       "array([[7.403517]], dtype=float32)"
      ]
     },
     "execution_count": 119,
     "metadata": {},
     "output_type": "execute_result"
    }
   ],
   "source": [
    "model.predict([10])"
   ]
  },
  {
   "attachments": {},
   "cell_type": "markdown",
   "metadata": {},
   "source": [
    "Evaluating the model"
   ]
  },
  {
   "cell_type": "code",
   "execution_count": 120,
   "metadata": {},
   "outputs": [
    {
     "data": {
      "text/plain": [
       "<tf.Tensor: shape=(300,), dtype=int32, numpy=\n",
       "array([100, 103, 106, 109, 112, 115, 118, 121, 124, 127, 130, 133, 136,\n",
       "       139, 142, 145, 148, 151, 154, 157, 160, 163, 166, 169, 172, 175,\n",
       "       178, 181, 184, 187, 190, 193, 196, 199, 202, 205, 208, 211, 214,\n",
       "       217, 220, 223, 226, 229, 232, 235, 238, 241, 244, 247, 250, 253,\n",
       "       256, 259, 262, 265, 268, 271, 274, 277, 280, 283, 286, 289, 292,\n",
       "       295, 298, 301, 304, 307, 310, 313, 316, 319, 322, 325, 328, 331,\n",
       "       334, 337, 340, 343, 346, 349, 352, 355, 358, 361, 364, 367, 370,\n",
       "       373, 376, 379, 382, 385, 388, 391, 394, 397, 400, 403, 406, 409,\n",
       "       412, 415, 418, 421, 424, 427, 430, 433, 436, 439, 442, 445, 448,\n",
       "       451, 454, 457, 460, 463, 466, 469, 472, 475, 478, 481, 484, 487,\n",
       "       490, 493, 496, 499, 502, 505, 508, 511, 514, 517, 520, 523, 526,\n",
       "       529, 532, 535, 538, 541, 544, 547, 550, 553, 556, 559, 562, 565,\n",
       "       568, 571, 574, 577, 580, 583, 586, 589, 592, 595, 598, 601, 604,\n",
       "       607, 610, 613, 616, 619, 622, 625, 628, 631, 634, 637, 640, 643,\n",
       "       646, 649, 652, 655, 658, 661, 664, 667, 670, 673, 676, 679, 682,\n",
       "       685, 688, 691, 694, 697, 700, 703, 706, 709, 712, 715, 718, 721,\n",
       "       724, 727, 730, 733, 736, 739, 742, 745, 748, 751, 754, 757, 760,\n",
       "       763, 766, 769, 772, 775, 778, 781, 784, 787, 790, 793, 796, 799,\n",
       "       802, 805, 808, 811, 814, 817, 820, 823, 826, 829, 832, 835, 838,\n",
       "       841, 844, 847, 850, 853, 856, 859, 862, 865, 868, 871, 874, 877,\n",
       "       880, 883, 886, 889, 892, 895, 898, 901, 904, 907, 910, 913, 916,\n",
       "       919, 922, 925, 928, 931, 934, 937, 940, 943, 946, 949, 952, 955,\n",
       "       958, 961, 964, 967, 970, 973, 976, 979, 982, 985, 988, 991, 994,\n",
       "       997])>"
      ]
     },
     "execution_count": 120,
     "metadata": {},
     "output_type": "execute_result"
    }
   ],
   "source": [
    "#larger dataset\n",
    "X = tf.range(100,1000,3)\n",
    "X"
   ]
  },
  {
   "cell_type": "code",
   "execution_count": 121,
   "metadata": {},
   "outputs": [
    {
     "data": {
      "text/plain": [
       "<tf.Tensor: shape=(300,), dtype=int32, numpy=\n",
       "array([ 133,  136,  139,  142,  145,  148,  151,  154,  157,  160,  163,\n",
       "        166,  169,  172,  175,  178,  181,  184,  187,  190,  193,  196,\n",
       "        199,  202,  205,  208,  211,  214,  217,  220,  223,  226,  229,\n",
       "        232,  235,  238,  241,  244,  247,  250,  253,  256,  259,  262,\n",
       "        265,  268,  271,  274,  277,  280,  283,  286,  289,  292,  295,\n",
       "        298,  301,  304,  307,  310,  313,  316,  319,  322,  325,  328,\n",
       "        331,  334,  337,  340,  343,  346,  349,  352,  355,  358,  361,\n",
       "        364,  367,  370,  373,  376,  379,  382,  385,  388,  391,  394,\n",
       "        397,  400,  403,  406,  409,  412,  415,  418,  421,  424,  427,\n",
       "        430,  433,  436,  439,  442,  445,  448,  451,  454,  457,  460,\n",
       "        463,  466,  469,  472,  475,  478,  481,  484,  487,  490,  493,\n",
       "        496,  499,  502,  505,  508,  511,  514,  517,  520,  523,  526,\n",
       "        529,  532,  535,  538,  541,  544,  547,  550,  553,  556,  559,\n",
       "        562,  565,  568,  571,  574,  577,  580,  583,  586,  589,  592,\n",
       "        595,  598,  601,  604,  607,  610,  613,  616,  619,  622,  625,\n",
       "        628,  631,  634,  637,  640,  643,  646,  649,  652,  655,  658,\n",
       "        661,  664,  667,  670,  673,  676,  679,  682,  685,  688,  691,\n",
       "        694,  697,  700,  703,  706,  709,  712,  715,  718,  721,  724,\n",
       "        727,  730,  733,  736,  739,  742,  745,  748,  751,  754,  757,\n",
       "        760,  763,  766,  769,  772,  775,  778,  781,  784,  787,  790,\n",
       "        793,  796,  799,  802,  805,  808,  811,  814,  817,  820,  823,\n",
       "        826,  829,  832,  835,  838,  841,  844,  847,  850,  853,  856,\n",
       "        859,  862,  865,  868,  871,  874,  877,  880,  883,  886,  889,\n",
       "        892,  895,  898,  901,  904,  907,  910,  913,  916,  919,  922,\n",
       "        925,  928,  931,  934,  937,  940,  943,  946,  949,  952,  955,\n",
       "        958,  961,  964,  967,  970,  973,  976,  979,  982,  985,  988,\n",
       "        991,  994,  997, 1000, 1003, 1006, 1009, 1012, 1015, 1018, 1021,\n",
       "       1024, 1027, 1030])>"
      ]
     },
     "execution_count": 121,
     "metadata": {},
     "output_type": "execute_result"
    }
   ],
   "source": [
    "y=X+33\n",
    "y"
   ]
  },
  {
   "cell_type": "code",
   "execution_count": 122,
   "metadata": {},
   "outputs": [
    {
     "data": {
      "text/plain": [
       "[<matplotlib.lines.Line2D at 0x2cf85748e20>]"
      ]
     },
     "execution_count": 122,
     "metadata": {},
     "output_type": "execute_result"
    },
    {
     "data": {
      "image/png": "[encoded data removed]",
      "text/plain": [
       "<Figure size 640x480 with 1 Axes>"
      ]
     },
     "metadata": {},
     "output_type": "display_data"
    }
   ],
   "source": [
    "#visualize the data\n",
    "plt.plot(X,y)"
   ]
  },
  {
   "cell_type": "code",
   "execution_count": 123,
   "metadata": {},
   "outputs": [
    {
     "data": {
      "text/plain": [
       "<matplotlib.collections.PathCollection at 0x2cf8577f640>"
      ]
     },
     "execution_count": 123,
     "metadata": {},
     "output_type": "execute_result"
    },
    {
     "data": {
      "image/png": "[encoded data removed]",
      "text/plain": [
       "<Figure size 640x480 with 1 Axes>"
      ]
     },
     "metadata": {},
     "output_type": "display_data"
    }
   ],
   "source": [
    "plt.scatter(X,y)"
   ]
  },
  {
   "cell_type": "code",
   "execution_count": 124,
   "metadata": {},
   "outputs": [
    {
     "data": {
      "text/plain": [
       "300"
      ]
     },
     "execution_count": 124,
     "metadata": {},
     "output_type": "execute_result"
    }
   ],
   "source": [
    "len(X)"
   ]
  },
  {
   "cell_type": "code",
   "execution_count": 125,
   "metadata": {},
   "outputs": [
    {
     "data": {
      "text/plain": [
       "(240, 60)"
      ]
     },
     "execution_count": 125,
     "metadata": {},
     "output_type": "execute_result"
    }
   ],
   "source": [
    "X_train,y_train = X[:240],y[:240]\n",
    "X_test,y_test = X[240:],y[240:]\n",
    "len(X_train),len(X_test)"
   ]
  },
  {
   "cell_type": "code",
   "execution_count": 126,
   "metadata": {},
   "outputs": [
    {
     "data": {
      "text/plain": [
       "<matplotlib.collections.PathCollection at 0x2cf857edb70>"
      ]
     },
     "execution_count": 126,
     "metadata": {},
     "output_type": "execute_result"
    },
    {
     "data": {
      "image/png": "[encoded data removed]",
      "text/plain": [
       "<Figure size 1000x700 with 1 Axes>"
      ]
     },
     "metadata": {},
     "output_type": "display_data"
    }
   ],
   "source": [
    "#visualizing the sets\n",
    "plt.figure(figsize=(10,7))\n",
    "plt.scatter(X_train,y_train,c='r',label='Training Data')\n",
    "plt.scatter(X_test,y_test,c='b',label='Testing Data')"
   ]
  },
  {
   "cell_type": "code",
   "execution_count": 127,
   "metadata": {},
   "outputs": [],
   "source": [
    "#building the model\n",
    "model=tf.keras.Sequential()\n",
    "model.add(tf.keras.layers.Dense(10, input_shape=[1]))\n"
   ]
  },
  {
   "cell_type": "code",
   "execution_count": 128,
   "metadata": {},
   "outputs": [],
   "source": [
    "#compiling the model\n",
    "model.compile(loss=tf.keras.losses.mae,\n",
    "              optimizer=tf.keras.optimizers.SGD(),\n",
    "              metrics=['mae'])"
   ]
  },
  {
   "cell_type": "code",
   "execution_count": 129,
   "metadata": {},
   "outputs": [
    {
     "name": "stdout",
     "output_type": "stream",
     "text": [
      "Model: \"sequential_7\"\n",
      "_________________________________________________________________\n",
      " Layer (type)                Output Shape              Param #   \n",
      "=================================================================\n",
      " dense_11 (Dense)            (None, 10)                20        \n",
      "                                                                 \n",
      "=================================================================\n",
      "Total params: 20\n",
      "Trainable params: 20\n",
      "Non-trainable params: 0\n",
      "_________________________________________________________________\n"
     ]
    }
   ],
   "source": [
    "model.summary()"
   ]
  },
  {
   "cell_type": "code",
   "execution_count": 130,
   "metadata": {},
   "outputs": [
    {
     "name": "stdout",
     "output_type": "stream",
     "text": [
      "Epoch 1/100\n",
      "8/8 [==============================] - 6s 17ms/step - loss: 238.8707 - mae: 238.8707\n",
      "Epoch 2/100\n",
      "8/8 [==============================] - 0s 24ms/step - loss: 99.6693 - mae: 99.6693\n",
      "Epoch 3/100\n",
      "8/8 [==============================] - 0s 24ms/step - loss: 108.4555 - mae: 108.4555\n",
      "Epoch 4/100\n",
      "8/8 [==============================] - 0s 25ms/step - loss: 103.9870 - mae: 103.9870\n",
      "Epoch 5/100\n",
      "8/8 [==============================] - 0s 19ms/step - loss: 104.5870 - mae: 104.5870\n",
      "Epoch 6/100\n",
      "8/8 [==============================] - 0s 18ms/step - loss: 103.1844 - mae: 103.1844\n",
      "Epoch 7/100\n",
      "8/8 [==============================] - 0s 19ms/step - loss: 102.0906 - mae: 102.0906\n",
      "Epoch 8/100\n",
      "8/8 [==============================] - 0s 13ms/step - loss: 98.6991 - mae: 98.6991\n",
      "Epoch 9/100\n",
      "8/8 [==============================] - 0s 13ms/step - loss: 101.9828 - mae: 101.9828\n",
      "Epoch 10/100\n",
      "8/8 [==============================] - 0s 24ms/step - loss: 97.0585 - mae: 97.0585\n",
      "Epoch 11/100\n",
      "8/8 [==============================] - 0s 12ms/step - loss: 106.9031 - mae: 106.9031\n",
      "Epoch 12/100\n",
      "8/8 [==============================] - 0s 22ms/step - loss: 97.1629 - mae: 97.1629\n",
      "Epoch 13/100\n",
      "8/8 [==============================] - 0s 12ms/step - loss: 97.6641 - mae: 97.6641\n",
      "Epoch 14/100\n",
      "8/8 [==============================] - 0s 14ms/step - loss: 106.3587 - mae: 106.3587\n",
      "Epoch 15/100\n",
      "8/8 [==============================] - 0s 12ms/step - loss: 104.0334 - mae: 104.0334\n",
      "Epoch 16/100\n",
      "8/8 [==============================] - 0s 11ms/step - loss: 102.3197 - mae: 102.3197\n",
      "Epoch 17/100\n",
      "8/8 [==============================] - 0s 16ms/step - loss: 107.3731 - mae: 107.3731\n",
      "Epoch 18/100\n",
      "8/8 [==============================] - 0s 17ms/step - loss: 109.2078 - mae: 109.2078\n",
      "Epoch 19/100\n",
      "8/8 [==============================] - 0s 17ms/step - loss: 106.1491 - mae: 106.1491\n",
      "Epoch 20/100\n",
      "8/8 [==============================] - 0s 15ms/step - loss: 95.5493 - mae: 95.5493\n",
      "Epoch 21/100\n",
      "8/8 [==============================] - 0s 14ms/step - loss: 101.1379 - mae: 101.1379\n",
      "Epoch 22/100\n",
      "8/8 [==============================] - 0s 18ms/step - loss: 101.7387 - mae: 101.7387\n",
      "Epoch 23/100\n",
      "8/8 [==============================] - 0s 14ms/step - loss: 112.9037 - mae: 112.9037\n",
      "Epoch 24/100\n",
      "8/8 [==============================] - 0s 22ms/step - loss: 106.9470 - mae: 106.9470\n",
      "Epoch 25/100\n",
      "8/8 [==============================] - 0s 25ms/step - loss: 105.1537 - mae: 105.1537\n",
      "Epoch 26/100\n",
      "8/8 [==============================] - 0s 15ms/step - loss: 104.6844 - mae: 104.6844\n",
      "Epoch 27/100\n",
      "8/8 [==============================] - 0s 28ms/step - loss: 104.0800 - mae: 104.0800\n",
      "Epoch 28/100\n",
      "8/8 [==============================] - 0s 20ms/step - loss: 102.8160 - mae: 102.8160\n",
      "Epoch 29/100\n",
      "8/8 [==============================] - 0s 21ms/step - loss: 97.0653 - mae: 97.0653\n",
      "Epoch 30/100\n",
      "8/8 [==============================] - 0s 29ms/step - loss: 98.7379 - mae: 98.7379\n",
      "Epoch 31/100\n",
      "8/8 [==============================] - 0s 20ms/step - loss: 110.5610 - mae: 110.5610\n",
      "Epoch 32/100\n",
      "8/8 [==============================] - 0s 19ms/step - loss: 104.6339 - mae: 104.6339\n",
      "Epoch 33/100\n",
      "8/8 [==============================] - 0s 18ms/step - loss: 107.0912 - mae: 107.0912\n",
      "Epoch 34/100\n",
      "8/8 [==============================] - 0s 13ms/step - loss: 104.0494 - mae: 104.0494\n",
      "Epoch 35/100\n",
      "8/8 [==============================] - 0s 15ms/step - loss: 101.7816 - mae: 101.7816\n",
      "Epoch 36/100\n",
      "8/8 [==============================] - 0s 22ms/step - loss: 100.4360 - mae: 100.4360\n",
      "Epoch 37/100\n",
      "8/8 [==============================] - 0s 23ms/step - loss: 111.2246 - mae: 111.2246\n",
      "Epoch 38/100\n",
      "8/8 [==============================] - 0s 32ms/step - loss: 104.0874 - mae: 104.0874\n",
      "Epoch 39/100\n",
      "8/8 [==============================] - 0s 17ms/step - loss: 106.2376 - mae: 106.2376\n",
      "Epoch 40/100\n",
      "8/8 [==============================] - 0s 20ms/step - loss: 109.5515 - mae: 109.5515\n",
      "Epoch 41/100\n",
      "8/8 [==============================] - 0s 24ms/step - loss: 101.0134 - mae: 101.0134\n",
      "Epoch 42/100\n",
      "8/8 [==============================] - 0s 21ms/step - loss: 101.6422 - mae: 101.6422\n",
      "Epoch 43/100\n",
      "8/8 [==============================] - 0s 19ms/step - loss: 105.3234 - mae: 105.3234\n",
      "Epoch 44/100\n",
      "8/8 [==============================] - 0s 18ms/step - loss: 100.7352 - mae: 100.7352\n",
      "Epoch 45/100\n",
      "8/8 [==============================] - 0s 18ms/step - loss: 100.5278 - mae: 100.5278\n",
      "Epoch 46/100\n",
      "8/8 [==============================] - 0s 24ms/step - loss: 104.9455 - mae: 104.9455\n",
      "Epoch 47/100\n",
      "8/8 [==============================] - 0s 16ms/step - loss: 104.2949 - mae: 104.2949\n",
      "Epoch 48/100\n",
      "8/8 [==============================] - 0s 21ms/step - loss: 97.3827 - mae: 97.3827\n",
      "Epoch 49/100\n",
      "8/8 [==============================] - 0s 15ms/step - loss: 102.0903 - mae: 102.0903\n",
      "Epoch 50/100\n",
      "8/8 [==============================] - 0s 13ms/step - loss: 101.1777 - mae: 101.1777\n",
      "Epoch 51/100\n",
      "8/8 [==============================] - 0s 18ms/step - loss: 104.5587 - mae: 104.5587\n",
      "Epoch 52/100\n",
      "8/8 [==============================] - 0s 29ms/step - loss: 104.4013 - mae: 104.4013\n",
      "Epoch 53/100\n",
      "8/8 [==============================] - 0s 29ms/step - loss: 105.5881 - mae: 105.5881\n",
      "Epoch 54/100\n",
      "8/8 [==============================] - 0s 36ms/step - loss: 105.5730 - mae: 105.5730\n",
      "Epoch 55/100\n",
      "8/8 [==============================] - 0s 19ms/step - loss: 104.7799 - mae: 104.7799\n",
      "Epoch 56/100\n",
      "8/8 [==============================] - 0s 20ms/step - loss: 105.0029 - mae: 105.0029\n",
      "Epoch 57/100\n",
      "8/8 [==============================] - 0s 13ms/step - loss: 105.8815 - mae: 105.8815\n",
      "Epoch 58/100\n",
      "8/8 [==============================] - 0s 12ms/step - loss: 106.3703 - mae: 106.3703\n",
      "Epoch 59/100\n",
      "8/8 [==============================] - 0s 15ms/step - loss: 104.7627 - mae: 104.7627\n",
      "Epoch 60/100\n",
      "8/8 [==============================] - 0s 18ms/step - loss: 103.4917 - mae: 103.4917\n",
      "Epoch 61/100\n",
      "8/8 [==============================] - 0s 19ms/step - loss: 102.7023 - mae: 102.7023\n",
      "Epoch 62/100\n",
      "8/8 [==============================] - 0s 17ms/step - loss: 100.3094 - mae: 100.3094\n",
      "Epoch 63/100\n",
      "8/8 [==============================] - 0s 22ms/step - loss: 87.0322 - mae: 87.0322\n",
      "Epoch 64/100\n",
      "8/8 [==============================] - 0s 16ms/step - loss: 90.1576 - mae: 90.1576\n",
      "Epoch 65/100\n",
      "8/8 [==============================] - 0s 16ms/step - loss: 113.1982 - mae: 113.1982\n",
      "Epoch 66/100\n",
      "8/8 [==============================] - 0s 17ms/step - loss: 104.0292 - mae: 104.0292\n",
      "Epoch 67/100\n",
      "8/8 [==============================] - 0s 27ms/step - loss: 105.7929 - mae: 105.7929\n",
      "Epoch 68/100\n",
      "8/8 [==============================] - 0s 35ms/step - loss: 103.9193 - mae: 103.9193\n",
      "Epoch 69/100\n",
      "8/8 [==============================] - 0s 37ms/step - loss: 104.5961 - mae: 104.5961\n",
      "Epoch 70/100\n",
      "8/8 [==============================] - 0s 30ms/step - loss: 104.5312 - mae: 104.5312\n",
      "Epoch 71/100\n",
      "8/8 [==============================] - 0s 13ms/step - loss: 101.2476 - mae: 101.2476\n",
      "Epoch 72/100\n",
      "8/8 [==============================] - 0s 19ms/step - loss: 103.4818 - mae: 103.4818\n",
      "Epoch 73/100\n",
      "8/8 [==============================] - 0s 18ms/step - loss: 97.7041 - mae: 97.7041\n",
      "Epoch 74/100\n",
      "8/8 [==============================] - 0s 16ms/step - loss: 97.0876 - mae: 97.0876\n",
      "Epoch 75/100\n",
      "8/8 [==============================] - 0s 13ms/step - loss: 100.3787 - mae: 100.3787\n",
      "Epoch 76/100\n",
      "8/8 [==============================] - 0s 22ms/step - loss: 104.2189 - mae: 104.2189\n",
      "Epoch 77/100\n",
      "8/8 [==============================] - 0s 14ms/step - loss: 107.0209 - mae: 107.0209\n",
      "Epoch 78/100\n",
      "8/8 [==============================] - 0s 18ms/step - loss: 104.4966 - mae: 104.4966\n",
      "Epoch 79/100\n",
      "8/8 [==============================] - 0s 18ms/step - loss: 101.6182 - mae: 101.6182\n",
      "Epoch 80/100\n",
      "8/8 [==============================] - 0s 14ms/step - loss: 105.8675 - mae: 105.8675\n",
      "Epoch 81/100\n",
      "8/8 [==============================] - 0s 30ms/step - loss: 104.8974 - mae: 104.8974\n",
      "Epoch 82/100\n",
      "8/8 [==============================] - 0s 21ms/step - loss: 105.6749 - mae: 105.6749\n",
      "Epoch 83/100\n",
      "8/8 [==============================] - 0s 17ms/step - loss: 105.1584 - mae: 105.1584\n",
      "Epoch 84/100\n",
      "8/8 [==============================] - 0s 18ms/step - loss: 106.8876 - mae: 106.8876\n",
      "Epoch 85/100\n",
      "8/8 [==============================] - 0s 15ms/step - loss: 103.1326 - mae: 103.1326\n",
      "Epoch 86/100\n",
      "8/8 [==============================] - 0s 13ms/step - loss: 94.9003 - mae: 94.9003\n",
      "Epoch 87/100\n",
      "8/8 [==============================] - 0s 14ms/step - loss: 105.4200 - mae: 105.4200\n",
      "Epoch 88/100\n",
      "8/8 [==============================] - 0s 12ms/step - loss: 105.0427 - mae: 105.0427\n",
      "Epoch 89/100\n",
      "8/8 [==============================] - 0s 10ms/step - loss: 112.8839 - mae: 112.8839\n",
      "Epoch 90/100\n",
      "8/8 [==============================] - 0s 18ms/step - loss: 108.1480 - mae: 108.1480\n",
      "Epoch 91/100\n",
      "8/8 [==============================] - 0s 15ms/step - loss: 107.3814 - mae: 107.3814\n",
      "Epoch 92/100\n",
      "8/8 [==============================] - 0s 16ms/step - loss: 115.3013 - mae: 115.3013\n",
      "Epoch 93/100\n",
      "8/8 [==============================] - 0s 26ms/step - loss: 95.8561 - mae: 95.8561\n",
      "Epoch 94/100\n",
      "8/8 [==============================] - 0s 16ms/step - loss: 102.2902 - mae: 102.2902\n",
      "Epoch 95/100\n",
      "8/8 [==============================] - 0s 21ms/step - loss: 95.4789 - mae: 95.4789\n",
      "Epoch 96/100\n",
      "8/8 [==============================] - 0s 28ms/step - loss: 100.8775 - mae: 100.8775\n",
      "Epoch 97/100\n",
      "8/8 [==============================] - 0s 21ms/step - loss: 98.1310 - mae: 98.1310\n",
      "Epoch 98/100\n",
      "8/8 [==============================] - 0s 28ms/step - loss: 103.9484 - mae: 103.9484\n",
      "Epoch 99/100\n",
      "8/8 [==============================] - 0s 15ms/step - loss: 106.5670 - mae: 106.5670\n",
      "Epoch 100/100\n",
      "8/8 [==============================] - 0s 19ms/step - loss: 107.9672 - mae: 107.9672\n"
     ]
    },
    {
     "data": {
      "text/plain": [
       "<keras.callbacks.History at 0x2cf85838040>"
      ]
     },
     "execution_count": 130,
     "metadata": {},
     "output_type": "execute_result"
    }
   ],
   "source": [
    "#fitting the model\n",
    "model.fit(X_train,y_train, epochs = 100)"
   ]
  },
  {
   "cell_type": "code",
   "execution_count": 131,
   "metadata": {},
   "outputs": [
    {
     "data": {
      "image/png": "[encoded data removed]",
      "text/plain": [
       "<IPython.core.display.Image object>"
      ]
     },
     "execution_count": 131,
     "metadata": {},
     "output_type": "execute_result"
    }
   ],
   "source": [
    "tf.keras.utils.plot_model(model=model,show_shapes=True)"
   ]
  },
  {
   "cell_type": "code",
   "execution_count": 132,
   "metadata": {},
   "outputs": [
    {
     "name": "stdout",
     "output_type": "stream",
     "text": [
      "2/2 [==============================] - 1s 15ms/step\n"
     ]
    },
    {
     "data": {
      "text/plain": [
       "(array([[1055.0638, 1041.4968, 1055.3346, 1055.2246, 1039.8887, 1054.8345,\n",
       "         1041.609 , 1041.5997, 1041.5927, 1039.2777],\n",
       "        [1058.9237, 1045.3071, 1059.1954, 1059.0851, 1043.693 , 1058.6936,\n",
       "         1045.4196, 1045.4103, 1045.4032, 1043.08  ],\n",
       "        [1062.7836, 1049.1173, 1063.0563, 1062.9456, 1047.4974, 1062.5526,\n",
       "         1049.2302, 1049.221 , 1049.2139, 1046.8821],\n",
       "        [1066.6436, 1052.9276, 1066.9172, 1066.806 , 1051.3018, 1066.4117,\n",
       "         1053.0409, 1053.0316, 1053.0244, 1050.6842],\n",
       "        [1070.5034, 1056.7378, 1070.7781, 1070.6665, 1055.1061, 1070.2708,\n",
       "         1056.8516, 1056.8422, 1056.835 , 1054.4863],\n",
       "        [1074.3633, 1060.548 , 1074.6389, 1074.527 , 1058.9105, 1074.1299,\n",
       "         1060.6622, 1060.6528, 1060.6456, 1058.2885],\n",
       "        [1078.2231, 1064.3583, 1078.4998, 1078.3875, 1062.7148, 1077.9889,\n",
       "         1064.4729, 1064.4635, 1064.4562, 1062.0906],\n",
       "        [1082.083 , 1068.1685, 1082.3606, 1082.2479, 1066.5192, 1081.8479,\n",
       "         1068.2836, 1068.274 , 1068.2668, 1065.8927],\n",
       "        [1085.9429, 1071.9788, 1086.2216, 1086.1084, 1070.3236, 1085.707 ,\n",
       "         1072.0942, 1072.0847, 1072.0774, 1069.6948],\n",
       "        [1089.8027, 1075.789 , 1090.0824, 1089.9689, 1074.1279, 1089.566 ,\n",
       "         1075.9049, 1075.8954, 1075.888 , 1073.497 ],\n",
       "        [1093.6627, 1079.5992, 1093.9432, 1093.8293, 1077.9323, 1093.4252,\n",
       "         1079.7156, 1079.7059, 1079.6986, 1077.2991],\n",
       "        [1097.5226, 1083.4094, 1097.8041, 1097.6898, 1081.7367, 1097.2842,\n",
       "         1083.5262, 1083.5166, 1083.5092, 1081.1012],\n",
       "        [1101.3824, 1087.2197, 1101.6649, 1101.5503, 1085.541 , 1101.1432,\n",
       "         1087.3369, 1087.3271, 1087.3197, 1084.9033],\n",
       "        [1105.2423, 1091.0299, 1105.5258, 1105.4108, 1089.3455, 1105.0023,\n",
       "         1091.1476, 1091.1378, 1091.1304, 1088.7054],\n",
       "        [1109.1022, 1094.8402, 1109.3867, 1109.2714, 1093.1498, 1108.8613,\n",
       "         1094.9583, 1094.9485, 1094.9409, 1092.5076],\n",
       "        [1112.962 , 1098.6504, 1113.2476, 1113.1318, 1096.9541, 1112.7205,\n",
       "         1098.7689, 1098.759 , 1098.7515, 1096.3097],\n",
       "        [1116.8219, 1102.4606, 1117.1084, 1116.9923, 1100.7585, 1116.5795,\n",
       "         1102.5796, 1102.5697, 1102.5621, 1100.1119],\n",
       "        [1120.6818, 1106.2709, 1120.9692, 1120.8528, 1104.5629, 1120.4386,\n",
       "         1106.3903, 1106.3804, 1106.3727, 1103.9141],\n",
       "        [1124.5417, 1110.081 , 1124.8301, 1124.7133, 1108.3672, 1124.2976,\n",
       "         1110.2009, 1110.1909, 1110.1832, 1107.7162],\n",
       "        [1128.4016, 1113.8914, 1128.691 , 1128.5737, 1112.1716, 1128.1566,\n",
       "         1114.0116, 1114.0016, 1113.9939, 1111.5183],\n",
       "        [1132.2615, 1117.7015, 1132.5519, 1132.4342, 1115.976 , 1132.0157,\n",
       "         1117.8223, 1117.8123, 1117.8044, 1115.3204],\n",
       "        [1136.1213, 1121.5118, 1136.4127, 1136.2947, 1119.7804, 1135.8748,\n",
       "         1121.6329, 1121.6228, 1121.615 , 1119.1226],\n",
       "        [1139.9812, 1125.322 , 1140.2736, 1140.1552, 1123.5847, 1139.7339,\n",
       "         1125.4436, 1125.4335, 1125.4257, 1122.9247],\n",
       "        [1143.8411, 1129.1323, 1144.1344, 1144.0156, 1127.389 , 1143.5929,\n",
       "         1129.2543, 1129.2441, 1129.2362, 1126.7268],\n",
       "        [1147.7009, 1132.9425, 1147.9954, 1147.8761, 1131.1935, 1147.452 ,\n",
       "         1133.065 , 1133.0547, 1133.0468, 1130.5289],\n",
       "        [1151.5608, 1136.7528, 1151.8562, 1151.7366, 1134.9978, 1151.311 ,\n",
       "         1136.8756, 1136.8654, 1136.8574, 1134.331 ],\n",
       "        [1155.4208, 1140.563 , 1155.717 , 1155.597 , 1138.8021, 1155.17  ,\n",
       "         1140.6863, 1140.676 , 1140.668 , 1138.1332],\n",
       "        [1159.2806, 1144.3732, 1159.5779, 1159.4575, 1142.6066, 1159.0292,\n",
       "         1144.497 , 1144.4866, 1144.4785, 1141.9353],\n",
       "        [1163.1405, 1148.1835, 1163.4387, 1163.318 , 1146.4109, 1162.8882,\n",
       "         1148.3075, 1148.2972, 1148.2892, 1145.7374],\n",
       "        [1167.0004, 1151.9937, 1167.2997, 1167.1785, 1150.2153, 1166.7473,\n",
       "         1152.1182, 1152.1079, 1152.0997, 1149.5396],\n",
       "        [1170.8602, 1155.804 , 1171.1605, 1171.039 , 1154.0197, 1170.6063,\n",
       "         1155.9288, 1155.9185, 1155.9103, 1153.3417],\n",
       "        [1174.7201, 1159.6141, 1175.0214, 1174.8994, 1157.824 , 1174.4653,\n",
       "         1159.7395, 1159.7291, 1159.721 , 1157.1439],\n",
       "        [1178.58  , 1163.4244, 1178.8822, 1178.7599, 1161.6284, 1178.3245,\n",
       "         1163.5502, 1163.5398, 1163.5315, 1160.946 ],\n",
       "        [1182.4398, 1167.2346, 1182.743 , 1182.6204, 1165.4327, 1182.1835,\n",
       "         1167.3608, 1167.3503, 1167.342 , 1164.7482],\n",
       "        [1186.2998, 1171.0449, 1186.6039, 1186.4808, 1169.237 , 1186.0426,\n",
       "         1171.1715, 1171.161 , 1171.1527, 1168.5503],\n",
       "        [1190.1597, 1174.8551, 1190.4648, 1190.3413, 1173.0415, 1189.9016,\n",
       "         1174.9822, 1174.9716, 1174.9633, 1172.3524],\n",
       "        [1194.0195, 1178.6654, 1194.3257, 1194.2018, 1176.8458, 1193.7607,\n",
       "         1178.7928, 1178.7822, 1178.7738, 1176.1545],\n",
       "        [1197.8794, 1182.4756, 1198.1865, 1198.0623, 1180.6501, 1197.6198,\n",
       "         1182.6035, 1182.5929, 1182.5845, 1179.9567],\n",
       "        [1201.7393, 1186.2858, 1202.0474, 1201.9227, 1184.4546, 1201.4788,\n",
       "         1186.4142, 1186.4034, 1186.395 , 1183.7588],\n",
       "        [1205.5991, 1190.0961, 1205.9082, 1205.7832, 1188.2589, 1205.3379,\n",
       "         1190.2249, 1190.2141, 1190.2056, 1187.5609],\n",
       "        [1209.459 , 1193.9062, 1209.7692, 1209.6437, 1192.0634, 1209.1969,\n",
       "         1194.0355, 1194.0248, 1194.0162, 1191.363 ],\n",
       "        [1213.319 , 1197.7166, 1213.63  , 1213.5042, 1195.8677, 1213.056 ,\n",
       "         1197.8462, 1197.8353, 1197.8268, 1195.1652],\n",
       "        [1217.1788, 1201.5267, 1217.4908, 1217.3646, 1199.672 , 1216.915 ,\n",
       "         1201.6569, 1201.646 , 1201.6373, 1198.9673],\n",
       "        [1221.0387, 1205.337 , 1221.3517, 1221.2251, 1203.4764, 1220.7742,\n",
       "         1205.4675, 1205.4567, 1205.448 , 1202.7694],\n",
       "        [1224.8986, 1209.1472, 1225.2125, 1225.0856, 1207.2808, 1224.6332,\n",
       "         1209.2782, 1209.2672, 1209.2585, 1206.5715],\n",
       "        [1228.7584, 1212.9575, 1229.0735, 1228.946 , 1211.0851, 1228.4922,\n",
       "         1213.0889, 1213.0779, 1213.0691, 1210.3737],\n",
       "        [1232.6183, 1216.7677, 1232.9343, 1232.8065, 1214.8895, 1232.3513,\n",
       "         1216.8995, 1216.8885, 1216.8798, 1214.1759],\n",
       "        [1236.4781, 1220.5779, 1236.7952, 1236.667 , 1218.6938, 1236.2103,\n",
       "         1220.7102, 1220.6991, 1220.6903, 1217.978 ],\n",
       "        [1240.338 , 1224.3882, 1240.656 , 1240.5275, 1222.4983, 1240.0695,\n",
       "         1224.5209, 1224.5098, 1224.5009, 1221.7802],\n",
       "        [1244.198 , 1228.1984, 1244.5168, 1244.388 , 1226.3026, 1243.9285,\n",
       "         1228.3315, 1228.3204, 1228.3115, 1225.5823],\n",
       "        [1248.0579, 1232.0087, 1248.3778, 1248.2485, 1230.1069, 1247.7875,\n",
       "         1232.1422, 1232.131 , 1232.1221, 1229.3844],\n",
       "        [1251.9177, 1235.8188, 1252.2386, 1252.109 , 1233.9114, 1251.6466,\n",
       "         1235.9529, 1235.9417, 1235.9326, 1233.1865],\n",
       "        [1255.7776, 1239.6292, 1256.0995, 1255.9695, 1237.7157, 1255.5056,\n",
       "         1239.7635, 1239.7523, 1239.7433, 1236.9886],\n",
       "        [1259.6375, 1243.4393, 1259.9603, 1259.83  , 1241.52  , 1259.3647,\n",
       "         1243.5742, 1243.5629, 1243.5538, 1240.7908],\n",
       "        [1263.4973, 1247.2496, 1263.8212, 1263.6904, 1245.3245, 1263.2238,\n",
       "         1247.3849, 1247.3735, 1247.3644, 1244.5929],\n",
       "        [1267.3572, 1251.0598, 1267.6821, 1267.5509, 1249.1288, 1267.0829,\n",
       "         1251.1954, 1251.1842, 1251.175 , 1248.395 ],\n",
       "        [1271.217 , 1254.8701, 1271.543 , 1271.4114, 1252.9332, 1270.9419,\n",
       "         1255.0061, 1254.9948, 1254.9856, 1252.1971],\n",
       "        [1275.077 , 1258.6803, 1275.4038, 1275.2719, 1256.7375, 1274.8009,\n",
       "         1258.8168, 1258.8054, 1258.7961, 1255.9993],\n",
       "        [1278.9369, 1262.4905, 1279.2646, 1279.1323, 1260.5419, 1278.66  ,\n",
       "         1262.6274, 1262.616 , 1262.6068, 1259.8014],\n",
       "        [1282.7968, 1266.3008, 1283.1255, 1282.9928, 1264.3463, 1282.519 ,\n",
       "         1266.4381, 1266.4266, 1266.4174, 1263.6035]], dtype=float32),\n",
       " <tf.Tensor: shape=(60,), dtype=int32, numpy=\n",
       " array([ 853,  856,  859,  862,  865,  868,  871,  874,  877,  880,  883,\n",
       "         886,  889,  892,  895,  898,  901,  904,  907,  910,  913,  916,\n",
       "         919,  922,  925,  928,  931,  934,  937,  940,  943,  946,  949,\n",
       "         952,  955,  958,  961,  964,  967,  970,  973,  976,  979,  982,\n",
       "         985,  988,  991,  994,  997, 1000, 1003, 1006, 1009, 1012, 1015,\n",
       "        1018, 1021, 1024, 1027, 1030])>)"
      ]
     },
     "execution_count": 132,
     "metadata": {},
     "output_type": "execute_result"
    }
   ],
   "source": [
    "#visualizing model's predictions\n",
    "y_pred=model.predict(X_test)\n",
    "y_pred,y_test"
   ]
  },
  {
   "cell_type": "code",
   "execution_count": 133,
   "metadata": {},
   "outputs": [],
   "source": [
    "#plotting predictions\n",
    "def plot_predictions(train_data=X_train,\n",
    "                     train_labels=y_train,\n",
    "                     test_data=X_test,\n",
    "                     test_labels=y_test,\n",
    "                     predictions=y_pred):\n",
    "    \"\"\"Plotting predictions\"\"\"\n",
    "    plt.figure(figsize=(10,7))\n",
    "    plt.scatter(train_data,train_labels,s=1,c='r', label=\"Training data\")\n",
    "    plt.scatter(test_data,test_labels,s=1,c='b', label=\"Testing data\")\n",
    "    plt.scatter(test_data,predictions,s=1,c='g',label='Predictions')\n",
    "    plt.legend();\n"
   ]
  },
  {
   "cell_type": "code",
   "execution_count": 134,
   "metadata": {},
   "outputs": [
    {
     "ename": "ValueError",
     "evalue": "x and y must be the same size",
     "output_type": "error",
     "traceback": [
      "\u001b[1;31m---------------------------------------------------------------------------\u001b[0m",
      "\u001b[1;31mValueError\u001b[0m                                Traceback (most recent call last)",
      "\u001b[1;32md:\\Skills\\Repos\\Deep Learning\\TensorFlow\\Regression\\regression.ipynb Cell 33\u001b[0m in \u001b[0;36m1\n\u001b[1;32m----> <a href='vscode-notebook-cell:/d%3A/Skills/Repos/Deep%20Learning/TensorFlow/Regression/regression.ipynb#X44sZmlsZQ%3D%3D?line=0'>1</a>\u001b[0m plot_predictions()\n",
      "\u001b[1;32md:\\Skills\\Repos\\Deep Learning\\TensorFlow\\Regression\\regression.ipynb Cell 33\u001b[0m in \u001b[0;36m1\n\u001b[0;32m      <a href='vscode-notebook-cell:/d%3A/Skills/Repos/Deep%20Learning/TensorFlow/Regression/regression.ipynb#X44sZmlsZQ%3D%3D?line=8'>9</a>\u001b[0m plt\u001b[39m.\u001b[39mscatter(train_data,train_labels,s\u001b[39m=\u001b[39m\u001b[39m1\u001b[39m,c\u001b[39m=\u001b[39m\u001b[39m'\u001b[39m\u001b[39mr\u001b[39m\u001b[39m'\u001b[39m, label\u001b[39m=\u001b[39m\u001b[39m\"\u001b[39m\u001b[39mTraining data\u001b[39m\u001b[39m\"\u001b[39m)\n\u001b[0;32m     <a href='vscode-notebook-cell:/d%3A/Skills/Repos/Deep%20Learning/TensorFlow/Regression/regression.ipynb#X44sZmlsZQ%3D%3D?line=9'>10</a>\u001b[0m plt\u001b[39m.\u001b[39mscatter(test_data,test_labels,s\u001b[39m=\u001b[39m\u001b[39m1\u001b[39m,c\u001b[39m=\u001b[39m\u001b[39m'\u001b[39m\u001b[39mb\u001b[39m\u001b[39m'\u001b[39m, label\u001b[39m=\u001b[39m\u001b[39m\"\u001b[39m\u001b[39mTesting data\u001b[39m\u001b[39m\"\u001b[39m)\n\u001b[1;32m---> <a href='vscode-notebook-cell:/d%3A/Skills/Repos/Deep%20Learning/TensorFlow/Regression/regression.ipynb#X44sZmlsZQ%3D%3D?line=10'>11</a>\u001b[0m plt\u001b[39m.\u001b[39;49mscatter(test_data,predictions,s\u001b[39m=\u001b[39;49m\u001b[39m1\u001b[39;49m,c\u001b[39m=\u001b[39;49m\u001b[39m'\u001b[39;49m\u001b[39mg\u001b[39;49m\u001b[39m'\u001b[39;49m,label\u001b[39m=\u001b[39;49m\u001b[39m'\u001b[39;49m\u001b[39mPredictions\u001b[39;49m\u001b[39m'\u001b[39;49m)\n\u001b[0;32m     <a href='vscode-notebook-cell:/d%3A/Skills/Repos/Deep%20Learning/TensorFlow/Regression/regression.ipynb#X44sZmlsZQ%3D%3D?line=11'>12</a>\u001b[0m plt\u001b[39m.\u001b[39mlegend()\n",
      "File \u001b[1;32md:\\Frameworks\\Python\\lib\\site-packages\\matplotlib\\pyplot.py:2819\u001b[0m, in \u001b[0;36mscatter\u001b[1;34m(x, y, s, c, marker, cmap, norm, vmin, vmax, alpha, linewidths, edgecolors, plotnonfinite, data, **kwargs)\u001b[0m\n\u001b[0;32m   2814\u001b[0m \u001b[39m@_copy_docstring_and_deprecators\u001b[39m(Axes\u001b[39m.\u001b[39mscatter)\n\u001b[0;32m   2815\u001b[0m \u001b[39mdef\u001b[39;00m \u001b[39mscatter\u001b[39m(\n\u001b[0;32m   2816\u001b[0m         x, y, s\u001b[39m=\u001b[39m\u001b[39mNone\u001b[39;00m, c\u001b[39m=\u001b[39m\u001b[39mNone\u001b[39;00m, marker\u001b[39m=\u001b[39m\u001b[39mNone\u001b[39;00m, cmap\u001b[39m=\u001b[39m\u001b[39mNone\u001b[39;00m, norm\u001b[39m=\u001b[39m\u001b[39mNone\u001b[39;00m,\n\u001b[0;32m   2817\u001b[0m         vmin\u001b[39m=\u001b[39m\u001b[39mNone\u001b[39;00m, vmax\u001b[39m=\u001b[39m\u001b[39mNone\u001b[39;00m, alpha\u001b[39m=\u001b[39m\u001b[39mNone\u001b[39;00m, linewidths\u001b[39m=\u001b[39m\u001b[39mNone\u001b[39;00m, \u001b[39m*\u001b[39m,\n\u001b[0;32m   2818\u001b[0m         edgecolors\u001b[39m=\u001b[39m\u001b[39mNone\u001b[39;00m, plotnonfinite\u001b[39m=\u001b[39m\u001b[39mFalse\u001b[39;00m, data\u001b[39m=\u001b[39m\u001b[39mNone\u001b[39;00m, \u001b[39m*\u001b[39m\u001b[39m*\u001b[39mkwargs):\n\u001b[1;32m-> 2819\u001b[0m     __ret \u001b[39m=\u001b[39m gca()\u001b[39m.\u001b[39mscatter(\n\u001b[0;32m   2820\u001b[0m         x, y, s\u001b[39m=\u001b[39ms, c\u001b[39m=\u001b[39mc, marker\u001b[39m=\u001b[39mmarker, cmap\u001b[39m=\u001b[39mcmap, norm\u001b[39m=\u001b[39mnorm,\n\u001b[0;32m   2821\u001b[0m         vmin\u001b[39m=\u001b[39mvmin, vmax\u001b[39m=\u001b[39mvmax, alpha\u001b[39m=\u001b[39malpha, linewidths\u001b[39m=\u001b[39mlinewidths,\n\u001b[0;32m   2822\u001b[0m         edgecolors\u001b[39m=\u001b[39medgecolors, plotnonfinite\u001b[39m=\u001b[39mplotnonfinite,\n\u001b[0;32m   2823\u001b[0m         \u001b[39m*\u001b[39m\u001b[39m*\u001b[39m({\u001b[39m\"\u001b[39m\u001b[39mdata\u001b[39m\u001b[39m\"\u001b[39m: data} \u001b[39mif\u001b[39;00m data \u001b[39mis\u001b[39;00m \u001b[39mnot\u001b[39;00m \u001b[39mNone\u001b[39;00m \u001b[39melse\u001b[39;00m {}), \u001b[39m*\u001b[39m\u001b[39m*\u001b[39mkwargs)\n\u001b[0;32m   2824\u001b[0m     sci(__ret)\n\u001b[0;32m   2825\u001b[0m     \u001b[39mreturn\u001b[39;00m __ret\n",
      "File \u001b[1;32md:\\Frameworks\\Python\\lib\\site-packages\\matplotlib\\__init__.py:1412\u001b[0m, in \u001b[0;36m_preprocess_data.<locals>.inner\u001b[1;34m(ax, data, *args, **kwargs)\u001b[0m\n\u001b[0;32m   1409\u001b[0m \u001b[39m@functools\u001b[39m\u001b[39m.\u001b[39mwraps(func)\n\u001b[0;32m   1410\u001b[0m \u001b[39mdef\u001b[39;00m \u001b[39minner\u001b[39m(ax, \u001b[39m*\u001b[39margs, data\u001b[39m=\u001b[39m\u001b[39mNone\u001b[39;00m, \u001b[39m*\u001b[39m\u001b[39m*\u001b[39mkwargs):\n\u001b[0;32m   1411\u001b[0m     \u001b[39mif\u001b[39;00m data \u001b[39mis\u001b[39;00m \u001b[39mNone\u001b[39;00m:\n\u001b[1;32m-> 1412\u001b[0m         \u001b[39mreturn\u001b[39;00m func(ax, \u001b[39m*\u001b[39m\u001b[39mmap\u001b[39m(sanitize_sequence, args), \u001b[39m*\u001b[39m\u001b[39m*\u001b[39mkwargs)\n\u001b[0;32m   1414\u001b[0m     bound \u001b[39m=\u001b[39m new_sig\u001b[39m.\u001b[39mbind(ax, \u001b[39m*\u001b[39margs, \u001b[39m*\u001b[39m\u001b[39m*\u001b[39mkwargs)\n\u001b[0;32m   1415\u001b[0m     auto_label \u001b[39m=\u001b[39m (bound\u001b[39m.\u001b[39marguments\u001b[39m.\u001b[39mget(label_namer)\n\u001b[0;32m   1416\u001b[0m                   \u001b[39mor\u001b[39;00m bound\u001b[39m.\u001b[39mkwargs\u001b[39m.\u001b[39mget(label_namer))\n",
      "File \u001b[1;32md:\\Frameworks\\Python\\lib\\site-packages\\matplotlib\\axes\\_axes.py:4362\u001b[0m, in \u001b[0;36mAxes.scatter\u001b[1;34m(self, x, y, s, c, marker, cmap, norm, vmin, vmax, alpha, linewidths, edgecolors, plotnonfinite, **kwargs)\u001b[0m\n\u001b[0;32m   4360\u001b[0m y \u001b[39m=\u001b[39m np\u001b[39m.\u001b[39mma\u001b[39m.\u001b[39mravel(y)\n\u001b[0;32m   4361\u001b[0m \u001b[39mif\u001b[39;00m x\u001b[39m.\u001b[39msize \u001b[39m!=\u001b[39m y\u001b[39m.\u001b[39msize:\n\u001b[1;32m-> 4362\u001b[0m     \u001b[39mraise\u001b[39;00m \u001b[39mValueError\u001b[39;00m(\u001b[39m\"\u001b[39m\u001b[39mx and y must be the same size\u001b[39m\u001b[39m\"\u001b[39m)\n\u001b[0;32m   4364\u001b[0m \u001b[39mif\u001b[39;00m s \u001b[39mis\u001b[39;00m \u001b[39mNone\u001b[39;00m:\n\u001b[0;32m   4365\u001b[0m     s \u001b[39m=\u001b[39m (\u001b[39m20\u001b[39m \u001b[39mif\u001b[39;00m rcParams[\u001b[39m'\u001b[39m\u001b[39m_internal.classic_mode\u001b[39m\u001b[39m'\u001b[39m] \u001b[39melse\u001b[39;00m\n\u001b[0;32m   4366\u001b[0m          rcParams[\u001b[39m'\u001b[39m\u001b[39mlines.markersize\u001b[39m\u001b[39m'\u001b[39m] \u001b[39m*\u001b[39m\u001b[39m*\u001b[39m \u001b[39m2.0\u001b[39m)\n",
      "\u001b[1;31mValueError\u001b[0m: x and y must be the same size"
     ]
    },
    {
     "data": {
      "image/png": "[encoded data removed]",
      "text/plain": [
       "<Figure size 1000x700 with 1 Axes>"
      ]
     },
     "metadata": {},
     "output_type": "display_data"
    }
   ],
   "source": [
    "plot_predictions()"
   ]
  },
  {
   "cell_type": "code",
   "execution_count": null,
   "metadata": {},
   "outputs": [
    {
     "name": "stdout",
     "output_type": "stream",
     "text": [
      "WARNING:tensorflow:5 out of the last 9 calls to <function Model.make_test_function.<locals>.test_function at 0x000002CF83F5B370> triggered tf.function retracing. Tracing is expensive and the excessive number of tracings could be due to (1) creating @tf.function repeatedly in a loop, (2) passing tensors with different shapes, (3) passing Python objects instead of tensors. For (1), please define your @tf.function outside of the loop. For (2), @tf.function has reduce_retracing=True option that can avoid unnecessary retracing. For (3), please refer to https://www.tensorflow.org/guide/function#controlling_retracing and https://www.tensorflow.org/api_docs/python/tf/function for  more details.\n",
      "2/2 [==============================] - 1s 15ms/step - loss: 330.2794 - mae: 330.2794\n"
     ]
    },
    {
     "data": {
      "text/plain": [
       "[330.27935791015625, 330.27935791015625]"
      ]
     },
     "execution_count": 100,
     "metadata": {},
     "output_type": "execute_result"
    }
   ],
   "source": [
    "#eva;uating with evaluation metrics\n",
    "model.evaluate(X_test,y_test)"
   ]
  },
  {
   "cell_type": "code",
   "execution_count": null,
   "metadata": {},
   "outputs": [
    {
     "name": "stdout",
     "output_type": "stream",
     "text": [
      "WARNING:tensorflow:6 out of the last 11 calls to <function Model.make_test_function.<locals>.test_function at 0x000002CF83F5B370> triggered tf.function retracing. Tracing is expensive and the excessive number of tracings could be due to (1) creating @tf.function repeatedly in a loop, (2) passing tensors with different shapes, (3) passing Python objects instead of tensors. For (1), please define your @tf.function outside of the loop. For (2), @tf.function has reduce_retracing=True option that can avoid unnecessary retracing. For (3), please refer to https://www.tensorflow.org/guide/function#controlling_retracing and https://www.tensorflow.org/api_docs/python/tf/function for  more details.\n",
      "2/2 [==============================] - 1s 38ms/step - loss: 46.1949 - mae: 46.1949\n"
     ]
    },
    {
     "data": {
      "text/plain": [
       "[46.19491195678711, 46.19491195678711]"
      ]
     },
     "execution_count": 101,
     "metadata": {},
     "output_type": "execute_result"
    }
   ],
   "source": [
    "model.evaluate(y_test,y_pred)"
   ]
  },
  {
   "cell_type": "code",
   "execution_count": null,
   "metadata": {},
   "outputs": [
    {
     "data": {
      "text/plain": [
       "<tf.Tensor: shape=(), dtype=float32, numpy=330.27936>"
      ]
     },
     "execution_count": 102,
     "metadata": {},
     "output_type": "execute_result"
    }
   ],
   "source": [
    "y_pred=tf.squeeze(tf.constant(y_pred))\n",
    "tf.metrics.MAE(y_test,y_pred)"
   ]
  },
  {
   "cell_type": "code",
   "execution_count": null,
   "metadata": {},
   "outputs": [
    {
     "data": {
      "text/plain": [
       "<tf.Tensor: shape=(), dtype=float32, numpy=109515.99>"
      ]
     },
     "execution_count": 103,
     "metadata": {},
     "output_type": "execute_result"
    }
   ],
   "source": [
    "tf.metrics.MSE(y_test,y_pred)"
   ]
  },
  {
   "cell_type": "code",
   "execution_count": null,
   "metadata": {},
   "outputs": [
    {
     "data": {
      "text/plain": [
       "<matplotlib.collections.PathCollection at 0x2cf8448dab0>"
      ]
     },
     "execution_count": 104,
     "metadata": {},
     "output_type": "execute_result"
    },
    {
     "data": {
      "image/png": "[encoded data removed]",
      "text/plain": [
       "<Figure size 640x480 with 1 Axes>"
      ]
     },
     "metadata": {},
     "output_type": "display_data"
    }
   ],
   "source": [
    "plt.scatter(y_test,y_pred, c='r')\n",
    "plt.scatter(X_test,y_test, c='b')"
   ]
  },
  {
   "cell_type": "code",
   "execution_count": null,
   "metadata": {},
   "outputs": [
    {
     "name": "stdout",
     "output_type": "stream",
     "text": [
      "INFO:tensorflow:Assets written to: model\\assets\n"
     ]
    }
   ],
   "source": [
    "#saving the model\n",
    "model.save(\"model\")"
   ]
  },
  {
   "cell_type": "code",
   "execution_count": null,
   "metadata": {},
   "outputs": [],
   "source": [
    "model.save(\" model\\model.h5\")"
   ]
  },
  {
   "cell_type": "code",
   "execution_count": null,
   "metadata": {},
   "outputs": [],
   "source": []
  }
 ],
 "metadata": {
  "kernelspec": {
   "display_name": "Python 3",
   "language": "python",
   "name": "python3"
  },
  "language_info": {
   "codemirror_mode": {
    "name": "ipython",
    "version": 3
   },
   "file_extension": ".py",
   "mimetype": "text/x-python",
   "name": "python",
   "nbconvert_exporter": "python",
   "pygments_lexer": "ipython3",
   "version": "3.10.0"
  },
  "orig_nbformat": 4
 },
 "nbformat": 4,
 "nbformat_minor": 2
}
