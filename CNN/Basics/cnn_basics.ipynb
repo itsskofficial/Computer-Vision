{
 "cells": [
  {
   "cell_type": "code",
   "execution_count": 9,
   "metadata": {},
   "outputs": [],
   "source": [
    "import tensorflow as tf\n",
    "import numpy as np\n",
    "import matplotlib.pyplot as plt\n",
    "import pandas as pd\n",
    "import os\n",
    "import pathlib"
   ]
  },
  {
   "cell_type": "code",
   "execution_count": 10,
   "metadata": {},
   "outputs": [
    {
     "name": "stdout",
     "output_type": "stream",
     "text": [
      "There are 2 directories and 0 images in ../../Data/pizza_steak/\n",
      "There are 2 directories and 0 images in ../../Data/pizza_steak/test\n",
      "There are 0 directories and 250 images in ../../Data/pizza_steak/test\\pizza\n",
      "There are 0 directories and 250 images in ../../Data/pizza_steak/test\\steak\n",
      "There are 2 directories and 0 images in ../../Data/pizza_steak/train\n",
      "There are 0 directories and 750 images in ../../Data/pizza_steak/train\\pizza\n",
      "There are 0 directories and 750 images in ../../Data/pizza_steak/train\\steak\n"
     ]
    }
   ],
   "source": [
    "#get the data\n",
    "dir_path='../../Data/pizza_steak/'\n",
    "for dirpath, dirnames, filenames in os.walk(f'{dir_path}'):\n",
    "    print(f\"There are {len(dirnames)} directories and {len(filenames)} images in {dirpath}\")"
   ]
  },
  {
   "cell_type": "code",
   "execution_count": 8,
   "metadata": {},
   "outputs": [
    {
     "ename": "NameError",
     "evalue": "name 'dir_path' is not defined",
     "output_type": "error",
     "traceback": [
      "\u001b[1;31m---------------------------------------------------------------------------\u001b[0m",
      "\u001b[1;31mNameError\u001b[0m                                 Traceback (most recent call last)",
      "\u001b[1;32md:\\Skills\\Repos\\Deep Learning\\CNN\\Basics\\cnn_basics.ipynb Cell 3\u001b[0m in \u001b[0;36m1\n\u001b[1;32m----> <a href='vscode-notebook-cell:/d%3A/Skills/Repos/Deep%20Learning/CNN/Basics/cnn_basics.ipynb#W2sZmlsZQ%3D%3D?line=0'>1</a>\u001b[0m data_dir\u001b[39m=\u001b[39mpathlib\u001b[39m.\u001b[39mPath(\u001b[39mf\u001b[39m\u001b[39m'\u001b[39m\u001b[39m{\u001b[39;00mdir_path\u001b[39m}\u001b[39;00m\u001b[39m/train\u001b[39m\u001b[39m'\u001b[39m)\n\u001b[0;32m      <a href='vscode-notebook-cell:/d%3A/Skills/Repos/Deep%20Learning/CNN/Basics/cnn_basics.ipynb#W2sZmlsZQ%3D%3D?line=1'>2</a>\u001b[0m class_names\u001b[39m=\u001b[39mnp\u001b[39m.\u001b[39marray(\u001b[39msorted\u001b[39m([item\u001b[39m.\u001b[39mname \u001b[39mfor\u001b[39;00m item \u001b[39min\u001b[39;00m data_dir\u001b[39m.\u001b[39mglob(\u001b[39m'\u001b[39m\u001b[39m*\u001b[39m\u001b[39m'\u001b[39m)]))\n\u001b[0;32m      <a href='vscode-notebook-cell:/d%3A/Skills/Repos/Deep%20Learning/CNN/Basics/cnn_basics.ipynb#W2sZmlsZQ%3D%3D?line=2'>3</a>\u001b[0m class_names\n",
      "\u001b[1;31mNameError\u001b[0m: name 'dir_path' is not defined"
     ]
    }
   ],
   "source": [
    "data_dir=pathlib.Path(f'{dir_path}/train')\n",
    "class_names=np.array(sorted([item.name for item in data_dir.glob('*')]))\n",
    "class_names"
   ]
  }
 ],
 "metadata": {
  "kernelspec": {
   "display_name": "Python 3",
   "language": "python",
   "name": "python3"
  },
  "language_info": {
   "codemirror_mode": {
    "name": "ipython",
    "version": 3
   },
   "file_extension": ".py",
   "mimetype": "text/x-python",
   "name": "python",
   "nbconvert_exporter": "python",
   "pygments_lexer": "ipython3",
   "version": "3.10.0"
  },
  "orig_nbformat": 4
 },
 "nbformat": 4,
 "nbformat_minor": 2
}
