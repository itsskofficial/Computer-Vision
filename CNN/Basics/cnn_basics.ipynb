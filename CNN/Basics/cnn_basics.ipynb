{
 "cells": [
  {
   "cell_type": "code",
   "execution_count": 14,
   "metadata": {},
   "outputs": [],
   "source": [
    "import tensorflow as tf\n",
    "import numpy as np\n",
    "import matplotlib.pyplot as plt\n",
    "import pandas as pd\n",
    "import os\n",
    "import pathlib\n",
    "import random\n",
    "import matplotlib.image as mpimg"
   ]
  },
  {
   "cell_type": "code",
   "execution_count": 15,
   "metadata": {},
   "outputs": [
    {
     "name": "stdout",
     "output_type": "stream",
     "text": [
      "There are 2 directories and 0 images in ../../Data/pizza_steak/\n",
      "There are 2 directories and 0 images in ../../Data/pizza_steak/test\n",
      "There are 0 directories and 250 images in ../../Data/pizza_steak/test\\pizza\n",
      "There are 0 directories and 250 images in ../../Data/pizza_steak/test\\steak\n",
      "There are 2 directories and 0 images in ../../Data/pizza_steak/train\n",
      "There are 0 directories and 750 images in ../../Data/pizza_steak/train\\pizza\n",
      "There are 0 directories and 750 images in ../../Data/pizza_steak/train\\steak\n"
     ]
    }
   ],
   "source": [
    "#get the data\n",
    "dir_path='../../Data/pizza_steak/'\n",
    "for dirpath, dirnames, filenames in os.walk(f'{dir_path}'):\n",
    "    print(f\"There are {len(dirnames)} directories and {len(filenames)} images in {dirpath}\")"
   ]
  },
  {
   "cell_type": "code",
   "execution_count": 16,
   "metadata": {},
   "outputs": [
    {
     "data": {
      "text/plain": [
       "array(['pizza', 'steak'], dtype='<U5')"
      ]
     },
     "execution_count": 16,
     "metadata": {},
     "output_type": "execute_result"
    }
   ],
   "source": [
    "data_dir=pathlib.Path(f'{dir_path}/train')\n",
    "class_names=np.array(sorted([item.name for item in data_dir.glob('*')]))\n",
    "class_names"
   ]
  },
  {
   "cell_type": "code",
   "execution_count": 17,
   "metadata": {},
   "outputs": [],
   "source": [
    "#lets visualize our images\n",
    "def view_random_image(target_dir, target_class):\n",
    "    target_folder=target_dir+target_class\n",
    "    random_img=random.sample(os.listdir(target_folder),1)\n",
    "    img=mpimg.imread(target_folder+'/'+random_img[0])\n",
    "    plt.imshow(img)\n",
    "    plt.title(target_class)\n",
    "    plt.axis('off')\n",
    "    print(f\"Image shape: {img.shape}\")\n",
    "    return img"
   ]
  },
  {
   "cell_type": "code",
   "execution_count": 20,
   "metadata": {},
   "outputs": [
    {
     "ename": "FileNotFoundError",
     "evalue": "[WinError 3] The system cannot find the path specified: 'pizza_steak/train/pizza/'",
     "output_type": "error",
     "traceback": [
      "\u001b[1;31m---------------------------------------------------------------------------\u001b[0m",
      "\u001b[1;31mFileNotFoundError\u001b[0m                         Traceback (most recent call last)",
      "\u001b[1;32md:\\Skills\\Repos\\Deep Learning\\CNN\\Basics\\cnn_basics.ipynb Cell 5\u001b[0m in \u001b[0;36m1\n\u001b[1;32m----> <a href='vscode-notebook-cell:/d%3A/Skills/Repos/Deep%20Learning/CNN/Basics/cnn_basics.ipynb#W4sZmlsZQ%3D%3D?line=0'>1</a>\u001b[0m img\u001b[39m=\u001b[39mview_random_image(\u001b[39m'\u001b[39;49m\u001b[39mpizza_steak/train/\u001b[39;49m\u001b[39m'\u001b[39;49m,\u001b[39m'\u001b[39;49m\u001b[39mpizza/\u001b[39;49m\u001b[39m'\u001b[39;49m)\n",
      "\u001b[1;32md:\\Skills\\Repos\\Deep Learning\\CNN\\Basics\\cnn_basics.ipynb Cell 5\u001b[0m in \u001b[0;36m4\n\u001b[0;32m      <a href='vscode-notebook-cell:/d%3A/Skills/Repos/Deep%20Learning/CNN/Basics/cnn_basics.ipynb#W4sZmlsZQ%3D%3D?line=1'>2</a>\u001b[0m \u001b[39mdef\u001b[39;00m \u001b[39mview_random_image\u001b[39m(target_dir, target_class):\n\u001b[0;32m      <a href='vscode-notebook-cell:/d%3A/Skills/Repos/Deep%20Learning/CNN/Basics/cnn_basics.ipynb#W4sZmlsZQ%3D%3D?line=2'>3</a>\u001b[0m     target_folder\u001b[39m=\u001b[39mtarget_dir\u001b[39m+\u001b[39mtarget_class\n\u001b[1;32m----> <a href='vscode-notebook-cell:/d%3A/Skills/Repos/Deep%20Learning/CNN/Basics/cnn_basics.ipynb#W4sZmlsZQ%3D%3D?line=3'>4</a>\u001b[0m     random_img\u001b[39m=\u001b[39mrandom\u001b[39m.\u001b[39msample(os\u001b[39m.\u001b[39;49mlistdir(target_folder),\u001b[39m1\u001b[39m)\n\u001b[0;32m      <a href='vscode-notebook-cell:/d%3A/Skills/Repos/Deep%20Learning/CNN/Basics/cnn_basics.ipynb#W4sZmlsZQ%3D%3D?line=4'>5</a>\u001b[0m     img\u001b[39m=\u001b[39mmpimg\u001b[39m.\u001b[39mimread(target_folder\u001b[39m+\u001b[39m\u001b[39m'\u001b[39m\u001b[39m/\u001b[39m\u001b[39m'\u001b[39m\u001b[39m+\u001b[39mrandom_img[\u001b[39m0\u001b[39m])\n\u001b[0;32m      <a href='vscode-notebook-cell:/d%3A/Skills/Repos/Deep%20Learning/CNN/Basics/cnn_basics.ipynb#W4sZmlsZQ%3D%3D?line=5'>6</a>\u001b[0m     plt\u001b[39m.\u001b[39mimshow(img)\n",
      "\u001b[1;31mFileNotFoundError\u001b[0m: [WinError 3] The system cannot find the path specified: 'pizza_steak/train/pizza/'"
     ]
    }
   ],
   "source": [
    "img=view_random_image('pizza_steak/train/','pizza/')"
   ]
  }
 ],
 "metadata": {
  "kernelspec": {
   "display_name": "Python 3",
   "language": "python",
   "name": "python3"
  },
  "language_info": {
   "codemirror_mode": {
    "name": "ipython",
    "version": 3
   },
   "file_extension": ".py",
   "mimetype": "text/x-python",
   "name": "python",
   "nbconvert_exporter": "python",
   "pygments_lexer": "ipython3",
   "version": "3.10.0"
  },
  "orig_nbformat": 4
 },
 "nbformat": 4,
 "nbformat_minor": 2
}
