{
 "cells": [
  {
   "cell_type": "code",
   "execution_count": 6,
   "metadata": {},
   "outputs": [],
   "source": [
    "import tensorflow as tf\n",
    "import numpy as np\n",
    "import matplotlib.pyplot as plt\n",
    "import pandas as pd\n",
    "import os\n",
    "import pathlib"
   ]
  },
  {
   "cell_type": "code",
   "execution_count": 7,
   "metadata": {},
   "outputs": [
    {
     "name": "stdout",
     "output_type": "stream",
     "text": [
      "There are 2 directories and 0 images in ../../Data/pizza_steak/\n",
      "There are 2 directories and 0 images in ../../Data/pizza_steak/test\n",
      "There are 0 directories and 250 images in ../../Data/pizza_steak/test\\pizza\n",
      "There are 0 directories and 250 images in ../../Data/pizza_steak/test\\steak\n",
      "There are 2 directories and 0 images in ../../Data/pizza_steak/train\n",
      "There are 0 directories and 750 images in ../../Data/pizza_steak/train\\pizza\n",
      "There are 0 directories and 750 images in ../../Data/pizza_steak/train\\steak\n"
     ]
    }
   ],
   "source": [
    "#get the data\n",
    "for dirpath, dirnames, filenames in os.walk('../../Data/pizza_steak/'):\n",
    "    print(f\"There are {len(dirnames)} directories and {len(filenames)} images in {dirpath}\")"
   ]
  },
  {
   "cell_type": "code",
   "execution_count": null,
   "metadata": {},
   "outputs": [],
   "source": [
    "data_dir=pathlub.Path('')"
   ]
  }
 ],
 "metadata": {
  "kernelspec": {
   "display_name": "Python 3",
   "language": "python",
   "name": "python3"
  },
  "language_info": {
   "codemirror_mode": {
    "name": "ipython",
    "version": 3
   },
   "file_extension": ".py",
   "mimetype": "text/x-python",
   "name": "python",
   "nbconvert_exporter": "python",
   "pygments_lexer": "ipython3",
   "version": "3.10.0"
  },
  "orig_nbformat": 4
 },
 "nbformat": 4,
 "nbformat_minor": 2
}
