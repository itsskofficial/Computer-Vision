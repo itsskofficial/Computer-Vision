{
 "cells": [
  {
   "cell_type": "code",
   "execution_count": 12,
   "metadata": {},
   "outputs": [
    {
     "data": {
      "text/plain": [
       "(array([[-1.00038985,  0.02348052],\n",
       "        [-0.19036705, -1.01750748],\n",
       "        [ 0.71463597,  0.37954286],\n",
       "        ...,\n",
       "        [-0.34854069, -0.73386791],\n",
       "        [-0.69073184, -0.39968317],\n",
       "        [ 0.74728993,  0.23031586]]),\n",
       " array([0, 0, 1, 0, 1, 0, 0, 1, 1, 1, 1, 1, 0, 1, 1, 0, 0, 1, 0, 1, 1, 0,\n",
       "        1, 0, 0, 1, 1, 0, 1, 1, 1, 0, 0, 0, 0, 1, 1, 1, 0, 0, 0, 0, 0, 0,\n",
       "        1, 0, 1, 0, 1, 0, 0, 1, 0, 0, 0, 0, 1, 1, 1, 0, 0, 1, 1, 0, 1, 0,\n",
       "        0, 0, 0, 0, 1, 1, 1, 0, 1, 0, 0, 1, 0, 1, 1, 1, 1, 0, 1, 0, 1, 1,\n",
       "        0, 1, 0, 0, 1, 0, 0, 1, 0, 0, 0, 0, 1, 1, 0, 1, 1, 0, 0, 0, 1, 0,\n",
       "        0, 0, 0, 1, 1, 0, 0, 0, 1, 0, 1, 1, 0, 0, 1, 1, 0, 0, 1, 1, 0, 0,\n",
       "        1, 0, 0, 0, 1, 0, 0, 1, 1, 0, 0, 0, 1, 0, 0, 0, 0, 1, 0, 1, 1, 1,\n",
       "        1, 0, 1, 1, 1, 0, 1, 1, 0, 0, 1, 0, 1, 0, 1, 1, 0, 0, 1, 0, 1, 0,\n",
       "        0, 1, 1, 1, 1, 1, 0, 1, 1, 0, 0, 0, 0, 0, 1, 0, 1, 0, 1, 1, 1, 0,\n",
       "        0, 1, 1, 0, 0, 1, 1, 1, 0, 0, 1, 1, 0, 0, 0, 0, 0, 0, 0, 0, 0, 1,\n",
       "        0, 0, 1, 1, 0, 1, 0, 0, 1, 1, 0, 1, 0, 0, 0, 0, 1, 1, 1, 1, 0, 0,\n",
       "        0, 0, 0, 1, 0, 0, 1, 1, 1, 0, 1, 1, 1, 1, 1, 1, 1, 0, 0, 0, 0, 0,\n",
       "        0, 1, 1, 1, 1, 0, 1, 0, 0, 0, 1, 1, 1, 0, 0, 1, 0, 1, 1, 1, 0, 0,\n",
       "        1, 0, 0, 0, 1, 1, 0, 1, 0, 0, 1, 1, 0, 0, 0, 0, 0, 0, 1, 0, 0, 0,\n",
       "        1, 0, 1, 0, 0, 1, 0, 1, 1, 1, 0, 0, 1, 0, 1, 0, 1, 0, 1, 0, 0, 1,\n",
       "        0, 1, 1, 0, 0, 1, 0, 1, 1, 0, 0, 1, 1, 1, 1, 0, 0, 1, 1, 0, 1, 1,\n",
       "        0, 1, 1, 0, 1, 1, 0, 0, 1, 0, 0, 1, 0, 0, 0, 1, 1, 0, 0, 1, 1, 1,\n",
       "        1, 0, 0, 0, 0, 1, 0, 0, 0, 0, 1, 1, 0, 1, 1, 1, 0, 0, 1, 0, 1, 0,\n",
       "        1, 1, 0, 0, 1, 0, 1, 1, 1, 1, 0, 1, 0, 0, 0, 0, 1, 0, 0, 0, 0, 0,\n",
       "        0, 1, 1, 1, 1, 0, 1, 0, 1, 1, 1, 1, 0, 1, 1, 1, 1, 0, 1, 0, 0, 1,\n",
       "        1, 1, 1, 0, 1, 1, 1, 0, 1, 1, 1, 1, 1, 0, 1, 1, 1, 0, 0, 1, 0, 1,\n",
       "        0, 0, 0, 1, 1, 1, 0, 0, 0, 0, 1, 1, 1, 0, 1, 0, 1, 0, 0, 1, 0, 1,\n",
       "        0, 1, 1, 0, 1, 0, 0, 0, 1, 1, 1, 1, 0, 1, 1, 0, 0, 1, 1, 0, 0, 0,\n",
       "        1, 0, 0, 0, 0, 1, 0, 1, 1, 0, 1, 1, 1, 0, 0, 1, 0, 0, 0, 0, 0, 1,\n",
       "        1, 1, 1, 0, 1, 0, 1, 1, 0, 0, 0, 0, 0, 1, 0, 0, 0, 0, 1, 1, 1, 1,\n",
       "        0, 1, 1, 0, 0, 0, 1, 1, 0, 1, 1, 0, 1, 0, 1, 1, 0, 1, 0, 0, 0, 0,\n",
       "        1, 1, 0, 0, 0, 1, 1, 1, 0, 1, 0, 1, 1, 1, 1, 0, 1, 1, 1, 1, 0, 1,\n",
       "        1, 0, 0, 1, 1, 1, 1, 1, 0, 0, 0, 0, 0, 1, 1, 0, 0, 1, 0, 1, 1, 1,\n",
       "        1, 0, 0, 1, 0, 0, 0, 0, 0, 0, 0, 0, 0, 1, 0, 0, 1, 0, 1, 1, 0, 1,\n",
       "        1, 0, 1, 1, 0, 1, 0, 1, 0, 1, 0, 1, 0, 1, 0, 1, 1, 1, 0, 0, 1, 1,\n",
       "        1, 0, 1, 1, 0, 1, 0, 1, 0, 1, 1, 0, 1, 1, 1, 0, 1, 1, 0, 1, 0, 1,\n",
       "        1, 1, 0, 1, 1, 0, 1, 0, 1, 0, 0, 0, 0, 1, 1, 1, 0, 1, 1, 1, 0, 1,\n",
       "        1, 0, 0, 1, 0, 0, 1, 1, 1, 0, 1, 1, 0, 0, 0, 1, 1, 0, 1, 0, 0, 1,\n",
       "        0, 0, 1, 0, 0, 1, 1, 1, 1, 1, 1, 1, 0, 1, 0, 0, 1, 1, 1, 1, 0, 0,\n",
       "        1, 0, 0, 0, 0, 1, 1, 1, 0, 1, 0, 0, 0, 0, 1, 0, 1, 1, 1, 1, 1, 1,\n",
       "        0, 0, 1, 1, 0, 1, 0, 1, 0, 1, 1, 0, 0, 1, 1, 1, 0, 1, 1, 0, 1, 0,\n",
       "        0, 1, 0, 1, 1, 1, 1, 1, 1, 0, 0, 1, 0, 0, 0, 0, 0, 1, 0, 1, 0, 0,\n",
       "        0, 0, 0, 1, 1, 1, 1, 1, 0, 0, 0, 1, 1, 0, 1, 0, 1, 0, 1, 0, 1, 0,\n",
       "        0, 0, 1, 0, 1, 0, 1, 0, 0, 0, 1, 1, 0, 0, 1, 0, 1, 1, 1, 0, 0, 1,\n",
       "        0, 1, 0, 0, 0, 1, 0, 1, 1, 0, 0, 0, 1, 0, 0, 1, 0, 1, 1, 0, 0, 0,\n",
       "        0, 1, 0, 1, 1, 1, 0, 1, 0, 1, 0, 0, 0, 1, 1, 0, 1, 0, 0, 1, 1, 0,\n",
       "        1, 0, 0, 1, 0, 1, 1, 0, 0, 0, 0, 0, 0, 1, 1, 0, 0, 0, 0, 1, 0, 0,\n",
       "        1, 1, 1, 0, 1, 0, 0, 0, 0, 1, 1, 1, 0, 1, 0, 0, 1, 0, 0, 0, 0, 0,\n",
       "        1, 1, 0, 0, 1, 1, 1, 0, 1, 0, 0, 0, 1, 1, 1, 0, 1, 1, 1, 0, 1, 0,\n",
       "        1, 1, 1, 0, 0, 0, 1, 1, 1, 1, 0, 1, 0, 1, 0, 1, 1, 1, 1, 1, 0, 1,\n",
       "        1, 0, 1, 1, 0, 1, 1, 1, 1, 1], dtype=int64))"
      ]
     },
     "execution_count": 12,
     "metadata": {},
     "output_type": "execute_result"
    }
   ],
   "source": [
    "#creating a dataset\n",
    "from sklearn.datasets import make_circles\n",
    "n=1000\n",
    "\n",
    "#Create circles\n",
    "X,y = make_circles(n,noise=0.03,random_state=100)\n",
    "X,y"
   ]
  },
  {
   "cell_type": "code",
   "execution_count": 13,
   "metadata": {},
   "outputs": [
    {
     "data": {
      "text/html": [
       "<div>\n",
       "<style scoped>\n",
       "    .dataframe tbody tr th:only-of-type {\n",
       "        vertical-align: middle;\n",
       "    }\n",
       "\n",
       "    .dataframe tbody tr th {\n",
       "        vertical-align: top;\n",
       "    }\n",
       "\n",
       "    .dataframe thead th {\n",
       "        text-align: right;\n",
       "    }\n",
       "</style>\n",
       "<table border=\"1\" class=\"dataframe\">\n",
       "  <thead>\n",
       "    <tr style=\"text-align: right;\">\n",
       "      <th></th>\n",
       "      <th>X</th>\n",
       "      <th>Y</th>\n",
       "      <th>label</th>\n",
       "    </tr>\n",
       "  </thead>\n",
       "  <tbody>\n",
       "    <tr>\n",
       "      <th>0</th>\n",
       "      <td>-1.000390</td>\n",
       "      <td>0.023481</td>\n",
       "      <td>0</td>\n",
       "    </tr>\n",
       "    <tr>\n",
       "      <th>1</th>\n",
       "      <td>-0.190367</td>\n",
       "      <td>-1.017507</td>\n",
       "      <td>0</td>\n",
       "    </tr>\n",
       "    <tr>\n",
       "      <th>2</th>\n",
       "      <td>0.714636</td>\n",
       "      <td>0.379543</td>\n",
       "      <td>1</td>\n",
       "    </tr>\n",
       "    <tr>\n",
       "      <th>3</th>\n",
       "      <td>0.603169</td>\n",
       "      <td>-0.788869</td>\n",
       "      <td>0</td>\n",
       "    </tr>\n",
       "    <tr>\n",
       "      <th>4</th>\n",
       "      <td>0.562390</td>\n",
       "      <td>0.565150</td>\n",
       "      <td>1</td>\n",
       "    </tr>\n",
       "    <tr>\n",
       "      <th>...</th>\n",
       "      <td>...</td>\n",
       "      <td>...</td>\n",
       "      <td>...</td>\n",
       "    </tr>\n",
       "    <tr>\n",
       "      <th>995</th>\n",
       "      <td>-0.195159</td>\n",
       "      <td>-0.783817</td>\n",
       "      <td>1</td>\n",
       "    </tr>\n",
       "    <tr>\n",
       "      <th>996</th>\n",
       "      <td>-0.067808</td>\n",
       "      <td>-0.847170</td>\n",
       "      <td>1</td>\n",
       "    </tr>\n",
       "    <tr>\n",
       "      <th>997</th>\n",
       "      <td>-0.348541</td>\n",
       "      <td>-0.733868</td>\n",
       "      <td>1</td>\n",
       "    </tr>\n",
       "    <tr>\n",
       "      <th>998</th>\n",
       "      <td>-0.690732</td>\n",
       "      <td>-0.399683</td>\n",
       "      <td>1</td>\n",
       "    </tr>\n",
       "    <tr>\n",
       "      <th>999</th>\n",
       "      <td>0.747290</td>\n",
       "      <td>0.230316</td>\n",
       "      <td>1</td>\n",
       "    </tr>\n",
       "  </tbody>\n",
       "</table>\n",
       "<p>1000 rows × 3 columns</p>\n",
       "</div>"
      ],
      "text/plain": [
       "            X         Y  label\n",
       "0   -1.000390  0.023481      0\n",
       "1   -0.190367 -1.017507      0\n",
       "2    0.714636  0.379543      1\n",
       "3    0.603169 -0.788869      0\n",
       "4    0.562390  0.565150      1\n",
       "..        ...       ...    ...\n",
       "995 -0.195159 -0.783817      1\n",
       "996 -0.067808 -0.847170      1\n",
       "997 -0.348541 -0.733868      1\n",
       "998 -0.690732 -0.399683      1\n",
       "999  0.747290  0.230316      1\n",
       "\n",
       "[1000 rows x 3 columns]"
      ]
     },
     "execution_count": 13,
     "metadata": {},
     "output_type": "execute_result"
    }
   ],
   "source": [
    "#visualizing data\n",
    "import matplotlib.pyplot as plt\n",
    "import pandas as pd\n",
    "import matplotlib.cm as colormaps\n",
    "circles=pd.DataFrame({\"X\":X[:,0], \"Y\":X[:,1],\"label\":y})\n",
    "circles"
   ]
  },
  {
   "cell_type": "code",
   "execution_count": 24,
   "metadata": {},
   "outputs": [
    {
     "data": {
      "text/plain": [
       "<matplotlib.collections.PathCollection at 0x1901d898610>"
      ]
     },
     "execution_count": 24,
     "metadata": {},
     "output_type": "execute_result"
    },
    {
     "data": {
      "image/png": "[encoded data removed]",
      "text/plain": [
       "<Figure size 640x480 with 1 Axes>"
      ]
     },
     "metadata": {},
     "output_type": "display_data"
    }
   ],
   "source": [
    "plt.scatter(X[:,0], X[:,1],c='r',cmap=colormaps.RdYlBu)"
   ]
  },
  {
   "cell_type": "code",
   "execution_count": 25,
   "metadata": {},
   "outputs": [
    {
     "data": {
      "text/plain": [
       "((1000, 2), (1000,))"
      ]
     },
     "execution_count": 25,
     "metadata": {},
     "output_type": "execute_result"
    }
   ],
   "source": [
    "#check input and output shapes\n",
    "X.shape, y.shape"
   ]
  },
  {
   "cell_type": "code",
   "execution_count": 33,
   "metadata": {},
   "outputs": [],
   "source": [
    "# import tensorflow as tf\n",
    "# X=tf.constant(X)\n",
    "# y=tf.constant(y)\n",
    "# X,y"
   ]
  },
  {
   "cell_type": "code",
   "execution_count": 34,
   "metadata": {},
   "outputs": [
    {
     "ename": "TypeError",
     "evalue": "Only integers, slices (`:`), ellipsis (`...`), tf.newaxis (`None`) and scalar tf.int32/tf.int64 tensors are valid indices, got array([692, 523, 415, 940, 726, 477, 169, 657, 206, 464, 544, 491, 576,\n       779, 795, 513, 918, 150, 519, 990, 245, 550, 660, 299, 384, 542,\n       354, 423, 566, 262, 725, 741, 694, 912, 124, 758, 883, 419, 651,\n       146, 537, 295,  40,  94, 994, 444, 936, 796,  13, 585, 772, 933,\n       757, 732, 157, 249, 915, 435, 147, 734, 668, 387, 860, 878, 895,\n        37, 450, 676, 133, 267, 839, 220, 641, 141, 134, 700, 984, 131,\n       859, 308, 848, 810, 753, 625, 501, 547, 236, 654, 567, 401, 512,\n       180, 432, 622, 437, 201,   8, 973, 733, 536, 887, 510, 125, 716,\n       121, 575,  67, 618, 808, 945, 891, 507, 747, 831, 864,  64, 844,\n       601, 829, 658, 813, 910, 731, 483, 516, 656, 723, 552, 767,  51,\n       521, 175, 674, 164, 925, 331, 543, 123, 876,  20, 646,  75, 480,\n       972, 341, 159, 807, 899, 928, 987, 689, 621, 951, 744, 863, 316,\n       355, 215, 399, 923, 838, 924, 937, 952, 998,  53, 342, 225, 320,\n       252, 416,  41, 640, 888, 846, 219, 394, 382, 471, 149, 196, 486,\n       191, 890, 856, 903, 985, 825, 234, 413, 568, 541, 226, 439, 373,\n       148,  74, 886,  26, 818, 596, 389, 339, 272, 763, 934,  28, 821,\n       187, 117, 481,  79, 462, 235, 626, 484, 558, 806, 979, 406, 830,\n       708, 499, 453, 603, 900, 793, 667, 156, 259, 671, 783, 135, 777,\n       112, 350, 102, 260, 381,  87, 474, 365, 592, 458, 113, 410, 293,\n       204, 600, 281, 230, 361, 154, 525,  61, 190, 624, 606, 502, 635,\n       664, 328, 269, 348,  39, 379,  48, 402, 360, 138, 707, 591, 551,\n       349, 638, 642, 263, 992, 385, 736, 852, 426, 287, 270, 921, 321,\n       273, 173,  93, 467, 577, 702, 721, 421, 442, 110, 965, 493, 297,\n       629, 277, 836, 932, 469,   3, 490, 248,  43, 683, 106, 687, 238,\n       917, 227, 679, 430, 163, 580, 548,  90, 251, 314, 930, 949, 690,\n       200, 466, 268, 701, 323, 479, 908, 714, 363, 919, 713, 515, 475,\n       377, 616, 280, 356, 167, 497, 392, 688, 615, 431, 607,  59, 613,\n       555, 285, 396, 274, 368, 213, 414, 264, 362, 929, 132, 693, 275,\n       814, 804, 740, 798, 935, 177, 478, 503, 938, 960, 832, 529, 122,\n       254, 434, 724, 256,  83, 107, 461, 145, 775, 593, 742, 645, 871,\n       572, 722, 171, 492, 889, 562, 791,  89, 909, 531, 214,  52, 630,\n       353, 279, 224, 137, 967, 165,  38, 130,  10, 161, 913, 996, 278,\n       590, 877,  30, 217, 243, 405, 685, 428, 407, 153, 873, 672, 184,\n        24, 344, 855, 388, 944, 893, 884, 317,  62, 768, 922,   7, 901,\n       743, 939, 446, 764, 289, 158,  68, 546, 906, 257,  17, 398, 801,\n        82, 540, 966, 143, 598,  49, 152, 964,  73, 570, 309,  29, 735,\n       300,   9, 335, 222, 276, 712, 623, 819, 662, 695, 485, 617, 717,\n       557, 408, 858, 778, 455, 313, 533,  81, 250,  55, 790, 120, 194,\n       582, 862, 675, 242, 511, 942, 470, 970, 451, 438, 327, 892, 803,\n       817, 698, 653,  42, 902,  54, 680, 916, 748, 874, 100, 500, 452,\n       332, 425, 879, 482, 989, 669, 183,  31, 359, 216,  78,  36, 498,\n       686, 665, 207, 594, 948, 179, 508, 760, 103, 788, 127, 333, 619,\n       849, 417, 229, 144, 861, 160, 345, 448, 253, 854, 670, 292, 209,\n       301, 528, 303, 866, 489, 290,  27, 946, 986, 445, 460,  23, 449,\n       192, 980, 850, 776, 766, 374, 447, 633,  44, 715, 441, 816, 504,\n       771, 976, 318, 306, 118, 429, 403, 755, 578, 282, 983, 569, 549,\n       197, 999, 802, 673, 294, 943, 174, 997, 797,   2,  85, 782, 749,\n       991, 959, 352,  66, 637, 565, 739, 524, 649, 443, 614, 710, 181,\n        88, 805, 286, 380, 561, 634, 752, 799,  15, 571, 787, 266, 851,\n       221, 729, 556, 941,  96, 535, 128, 129, 520, 239, 870, 774, 881,\n       599, 885,  11, 422, 975, 751, 433, 746, 505,  77, 794, 926,  70,\n       188, 261, 298, 982, 894, 823, 218, 833, 391, 514, 203,  99, 424,\n       142, 847, 538, 370, 610, 812, 586, 904, 728, 357, 789, 947, 343,\n       800, 372, 559, 185, 178, 465, 199, 920, 868, 955, 329])",
     "output_type": "error",
     "traceback": [
      "\u001b[1;31m---------------------------------------------------------------------------\u001b[0m",
      "\u001b[1;31mTypeError\u001b[0m                                 Traceback (most recent call last)",
      "\u001b[1;32md:\\Skills\\Repos\\Deep Learning\\ANN\\Basics\\classification_basics.ipynb Cell 6\u001b[0m in \u001b[0;36m2\n\u001b[0;32m      <a href='vscode-notebook-cell:/d%3A/Skills/Repos/Deep%20Learning/ANN/Basics/classification_basics.ipynb#W3sZmlsZQ%3D%3D?line=0'>1</a>\u001b[0m \u001b[39mfrom\u001b[39;00m \u001b[39msklearn\u001b[39;00m\u001b[39m.\u001b[39;00m\u001b[39mmodel_selection\u001b[39;00m \u001b[39mimport\u001b[39;00m train_test_split\n\u001b[1;32m----> <a href='vscode-notebook-cell:/d%3A/Skills/Repos/Deep%20Learning/ANN/Basics/classification_basics.ipynb#W3sZmlsZQ%3D%3D?line=1'>2</a>\u001b[0m X_train,y_train,X_test,y_test\u001b[39m=\u001b[39mtrain_test_split(X,y,test_size\u001b[39m=\u001b[39;49m\u001b[39m0.3\u001b[39;49m)\n",
      "File \u001b[1;32md:\\Frameworks\\Python\\lib\\site-packages\\sklearn\\model_selection\\_split.py:2471\u001b[0m, in \u001b[0;36mtrain_test_split\u001b[1;34m(test_size, train_size, random_state, shuffle, stratify, *arrays)\u001b[0m\n\u001b[0;32m   2467\u001b[0m     cv \u001b[39m=\u001b[39m CVClass(test_size\u001b[39m=\u001b[39mn_test, train_size\u001b[39m=\u001b[39mn_train, random_state\u001b[39m=\u001b[39mrandom_state)\n\u001b[0;32m   2469\u001b[0m     train, test \u001b[39m=\u001b[39m \u001b[39mnext\u001b[39m(cv\u001b[39m.\u001b[39msplit(X\u001b[39m=\u001b[39marrays[\u001b[39m0\u001b[39m], y\u001b[39m=\u001b[39mstratify))\n\u001b[1;32m-> 2471\u001b[0m \u001b[39mreturn\u001b[39;00m \u001b[39mlist\u001b[39;49m(\n\u001b[0;32m   2472\u001b[0m     chain\u001b[39m.\u001b[39;49mfrom_iterable(\n\u001b[0;32m   2473\u001b[0m         (_safe_indexing(a, train), _safe_indexing(a, test)) \u001b[39mfor\u001b[39;49;00m a \u001b[39min\u001b[39;49;00m arrays\n\u001b[0;32m   2474\u001b[0m     )\n\u001b[0;32m   2475\u001b[0m )\n",
      "File \u001b[1;32md:\\Frameworks\\Python\\lib\\site-packages\\sklearn\\model_selection\\_split.py:2473\u001b[0m, in \u001b[0;36m<genexpr>\u001b[1;34m(.0)\u001b[0m\n\u001b[0;32m   2467\u001b[0m     cv \u001b[39m=\u001b[39m CVClass(test_size\u001b[39m=\u001b[39mn_test, train_size\u001b[39m=\u001b[39mn_train, random_state\u001b[39m=\u001b[39mrandom_state)\n\u001b[0;32m   2469\u001b[0m     train, test \u001b[39m=\u001b[39m \u001b[39mnext\u001b[39m(cv\u001b[39m.\u001b[39msplit(X\u001b[39m=\u001b[39marrays[\u001b[39m0\u001b[39m], y\u001b[39m=\u001b[39mstratify))\n\u001b[0;32m   2471\u001b[0m \u001b[39mreturn\u001b[39;00m \u001b[39mlist\u001b[39m(\n\u001b[0;32m   2472\u001b[0m     chain\u001b[39m.\u001b[39mfrom_iterable(\n\u001b[1;32m-> 2473\u001b[0m         (_safe_indexing(a, train), _safe_indexing(a, test)) \u001b[39mfor\u001b[39;00m a \u001b[39min\u001b[39;00m arrays\n\u001b[0;32m   2474\u001b[0m     )\n\u001b[0;32m   2475\u001b[0m )\n",
      "File \u001b[1;32md:\\Frameworks\\Python\\lib\\site-packages\\sklearn\\utils\\__init__.py:361\u001b[0m, in \u001b[0;36m_safe_indexing\u001b[1;34m(X, indices, axis)\u001b[0m\n\u001b[0;32m    359\u001b[0m     \u001b[39mreturn\u001b[39;00m _pandas_indexing(X, indices, indices_dtype, axis\u001b[39m=\u001b[39maxis)\n\u001b[0;32m    360\u001b[0m \u001b[39melif\u001b[39;00m \u001b[39mhasattr\u001b[39m(X, \u001b[39m\"\u001b[39m\u001b[39mshape\u001b[39m\u001b[39m\"\u001b[39m):\n\u001b[1;32m--> 361\u001b[0m     \u001b[39mreturn\u001b[39;00m _array_indexing(X, indices, indices_dtype, axis\u001b[39m=\u001b[39;49maxis)\n\u001b[0;32m    362\u001b[0m \u001b[39melse\u001b[39;00m:\n\u001b[0;32m    363\u001b[0m     \u001b[39mreturn\u001b[39;00m _list_indexing(X, indices, indices_dtype)\n",
      "File \u001b[1;32md:\\Frameworks\\Python\\lib\\site-packages\\sklearn\\utils\\__init__.py:185\u001b[0m, in \u001b[0;36m_array_indexing\u001b[1;34m(array, key, key_dtype, axis)\u001b[0m\n\u001b[0;32m    183\u001b[0m \u001b[39mif\u001b[39;00m \u001b[39misinstance\u001b[39m(key, \u001b[39mtuple\u001b[39m):\n\u001b[0;32m    184\u001b[0m     key \u001b[39m=\u001b[39m \u001b[39mlist\u001b[39m(key)\n\u001b[1;32m--> 185\u001b[0m \u001b[39mreturn\u001b[39;00m array[key] \u001b[39mif\u001b[39;00m axis \u001b[39m==\u001b[39m \u001b[39m0\u001b[39m \u001b[39melse\u001b[39;00m array[:, key]\n",
      "File \u001b[1;32md:\\Frameworks\\Python\\lib\\site-packages\\tensorflow\\python\\util\\traceback_utils.py:153\u001b[0m, in \u001b[0;36mfilter_traceback.<locals>.error_handler\u001b[1;34m(*args, **kwargs)\u001b[0m\n\u001b[0;32m    151\u001b[0m \u001b[39mexcept\u001b[39;00m \u001b[39mException\u001b[39;00m \u001b[39mas\u001b[39;00m e:\n\u001b[0;32m    152\u001b[0m   filtered_tb \u001b[39m=\u001b[39m _process_traceback_frames(e\u001b[39m.\u001b[39m__traceback__)\n\u001b[1;32m--> 153\u001b[0m   \u001b[39mraise\u001b[39;00m e\u001b[39m.\u001b[39mwith_traceback(filtered_tb) \u001b[39mfrom\u001b[39;00m \u001b[39mNone\u001b[39m\n\u001b[0;32m    154\u001b[0m \u001b[39mfinally\u001b[39;00m:\n\u001b[0;32m    155\u001b[0m   \u001b[39mdel\u001b[39;00m filtered_tb\n",
      "File \u001b[1;32md:\\Frameworks\\Python\\lib\\site-packages\\tensorflow\\python\\ops\\array_ops.py:907\u001b[0m, in \u001b[0;36m_check_index\u001b[1;34m(idx)\u001b[0m\n\u001b[0;32m    902\u001b[0m dtype \u001b[39m=\u001b[39m \u001b[39mgetattr\u001b[39m(idx, \u001b[39m\"\u001b[39m\u001b[39mdtype\u001b[39m\u001b[39m\"\u001b[39m, \u001b[39mNone\u001b[39;00m)\n\u001b[0;32m    903\u001b[0m \u001b[39mif\u001b[39;00m (dtype \u001b[39mis\u001b[39;00m \u001b[39mNone\u001b[39;00m \u001b[39mor\u001b[39;00m dtypes\u001b[39m.\u001b[39mas_dtype(dtype) \u001b[39mnot\u001b[39;00m \u001b[39min\u001b[39;00m _SUPPORTED_SLICE_DTYPES \u001b[39mor\u001b[39;00m\n\u001b[0;32m    904\u001b[0m     idx\u001b[39m.\u001b[39mshape \u001b[39mand\u001b[39;00m \u001b[39mlen\u001b[39m(idx\u001b[39m.\u001b[39mshape) \u001b[39m==\u001b[39m \u001b[39m1\u001b[39m):\n\u001b[0;32m    905\u001b[0m   \u001b[39m# TODO(slebedev): IndexError seems more appropriate here, but it\u001b[39;00m\n\u001b[0;32m    906\u001b[0m   \u001b[39m# will break `_slice_helper` contract.\u001b[39;00m\n\u001b[1;32m--> 907\u001b[0m   \u001b[39mraise\u001b[39;00m \u001b[39mTypeError\u001b[39;00m(_SLICE_TYPE_ERROR \u001b[39m+\u001b[39m \u001b[39m\"\u001b[39m\u001b[39m, got \u001b[39m\u001b[39m{!r}\u001b[39;00m\u001b[39m\"\u001b[39m\u001b[39m.\u001b[39mformat(idx))\n",
      "\u001b[1;31mTypeError\u001b[0m: Only integers, slices (`:`), ellipsis (`...`), tf.newaxis (`None`) and scalar tf.int32/tf.int64 tensors are valid indices, got array([692, 523, 415, 940, 726, 477, 169, 657, 206, 464, 544, 491, 576,\n       779, 795, 513, 918, 150, 519, 990, 245, 550, 660, 299, 384, 542,\n       354, 423, 566, 262, 725, 741, 694, 912, 124, 758, 883, 419, 651,\n       146, 537, 295,  40,  94, 994, 444, 936, 796,  13, 585, 772, 933,\n       757, 732, 157, 249, 915, 435, 147, 734, 668, 387, 860, 878, 895,\n        37, 450, 676, 133, 267, 839, 220, 641, 141, 134, 700, 984, 131,\n       859, 308, 848, 810, 753, 625, 501, 547, 236, 654, 567, 401, 512,\n       180, 432, 622, 437, 201,   8, 973, 733, 536, 887, 510, 125, 716,\n       121, 575,  67, 618, 808, 945, 891, 507, 747, 831, 864,  64, 844,\n       601, 829, 658, 813, 910, 731, 483, 516, 656, 723, 552, 767,  51,\n       521, 175, 674, 164, 925, 331, 543, 123, 876,  20, 646,  75, 480,\n       972, 341, 159, 807, 899, 928, 987, 689, 621, 951, 744, 863, 316,\n       355, 215, 399, 923, 838, 924, 937, 952, 998,  53, 342, 225, 320,\n       252, 416,  41, 640, 888, 846, 219, 394, 382, 471, 149, 196, 486,\n       191, 890, 856, 903, 985, 825, 234, 413, 568, 541, 226, 439, 373,\n       148,  74, 886,  26, 818, 596, 389, 339, 272, 763, 934,  28, 821,\n       187, 117, 481,  79, 462, 235, 626, 484, 558, 806, 979, 406, 830,\n       708, 499, 453, 603, 900, 793, 667, 156, 259, 671, 783, 135, 777,\n       112, 350, 102, 260, 381,  87, 474, 365, 592, 458, 113, 410, 293,\n       204, 600, 281, 230, 361, 154, 525,  61, 190, 624, 606, 502, 635,\n       664, 328, 269, 348,  39, 379,  48, 402, 360, 138, 707, 591, 551,\n       349, 638, 642, 263, 992, 385, 736, 852, 426, 287, 270, 921, 321,\n       273, 173,  93, 467, 577, 702, 721, 421, 442, 110, 965, 493, 297,\n       629, 277, 836, 932, 469,   3, 490, 248,  43, 683, 106, 687, 238,\n       917, 227, 679, 430, 163, 580, 548,  90, 251, 314, 930, 949, 690,\n       200, 466, 268, 701, 323, 479, 908, 714, 363, 919, 713, 515, 475,\n       377, 616, 280, 356, 167, 497, 392, 688, 615, 431, 607,  59, 613,\n       555, 285, 396, 274, 368, 213, 414, 264, 362, 929, 132, 693, 275,\n       814, 804, 740, 798, 935, 177, 478, 503, 938, 960, 832, 529, 122,\n       254, 434, 724, 256,  83, 107, 461, 145, 775, 593, 742, 645, 871,\n       572, 722, 171, 492, 889, 562, 791,  89, 909, 531, 214,  52, 630,\n       353, 279, 224, 137, 967, 165,  38, 130,  10, 161, 913, 996, 278,\n       590, 877,  30, 217, 243, 405, 685, 428, 407, 153, 873, 672, 184,\n        24, 344, 855, 388, 944, 893, 884, 317,  62, 768, 922,   7, 901,\n       743, 939, 446, 764, 289, 158,  68, 546, 906, 257,  17, 398, 801,\n        82, 540, 966, 143, 598,  49, 152, 964,  73, 570, 309,  29, 735,\n       300,   9, 335, 222, 276, 712, 623, 819, 662, 695, 485, 617, 717,\n       557, 408, 858, 778, 455, 313, 533,  81, 250,  55, 790, 120, 194,\n       582, 862, 675, 242, 511, 942, 470, 970, 451, 438, 327, 892, 803,\n       817, 698, 653,  42, 902,  54, 680, 916, 748, 874, 100, 500, 452,\n       332, 425, 879, 482, 989, 669, 183,  31, 359, 216,  78,  36, 498,\n       686, 665, 207, 594, 948, 179, 508, 760, 103, 788, 127, 333, 619,\n       849, 417, 229, 144, 861, 160, 345, 448, 253, 854, 670, 292, 209,\n       301, 528, 303, 866, 489, 290,  27, 946, 986, 445, 460,  23, 449,\n       192, 980, 850, 776, 766, 374, 447, 633,  44, 715, 441, 816, 504,\n       771, 976, 318, 306, 118, 429, 403, 755, 578, 282, 983, 569, 549,\n       197, 999, 802, 673, 294, 943, 174, 997, 797,   2,  85, 782, 749,\n       991, 959, 352,  66, 637, 565, 739, 524, 649, 443, 614, 710, 181,\n        88, 805, 286, 380, 561, 634, 752, 799,  15, 571, 787, 266, 851,\n       221, 729, 556, 941,  96, 535, 128, 129, 520, 239, 870, 774, 881,\n       599, 885,  11, 422, 975, 751, 433, 746, 505,  77, 794, 926,  70,\n       188, 261, 298, 982, 894, 823, 218, 833, 391, 514, 203,  99, 424,\n       142, 847, 538, 370, 610, 812, 586, 904, 728, 357, 789, 947, 343,\n       800, 372, 559, 185, 178, 465, 199, 920, 868, 955, 329])"
     ]
    }
   ],
   "source": [
    "from sklearn.model_selection import train_test_split\n",
    "X_train,y_train,X_test,y_test=train_test_split(X,y,test_size=0.3)"
   ]
  },
  {
   "cell_type": "code",
   "execution_count": null,
   "metadata": {},
   "outputs": [],
   "source": [
    "#build a model\n",
    "tf.random.set_seed(100)\n",
    "model_1=tf.keras.Sequential()\n",
    "model_1.add(tf.keras.layers.Dense(1))\n",
    "\n",
    "#compile the model\n",
    "model_1.compile(loss=tf.keras.losses.BinaryCrossentropy,\n",
    "                optimizer=tf.keras.optimizers.SGD(),\n",
    "                metrics=['accuracy'])"
   ]
  }
 ],
 "metadata": {
  "kernelspec": {
   "display_name": "Python 3",
   "language": "python",
   "name": "python3"
  },
  "language_info": {
   "codemirror_mode": {
    "name": "ipython",
    "version": 3
   },
   "file_extension": ".py",
   "mimetype": "text/x-python",
   "name": "python",
   "nbconvert_exporter": "python",
   "pygments_lexer": "ipython3",
   "version": "3.10.0"
  },
  "orig_nbformat": 4
 },
 "nbformat": 4,
 "nbformat_minor": 2
}
